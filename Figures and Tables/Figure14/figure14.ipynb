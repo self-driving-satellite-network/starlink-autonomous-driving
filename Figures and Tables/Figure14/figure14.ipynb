{
 "cells": [
  {
   "cell_type": "code",
   "execution_count": 1,
   "id": "47814f9d",
   "metadata": {},
   "outputs": [],
   "source": [
    "import numpy as np\n",
    "import pandas as pd\n",
    "import math\n",
    "#from tletools import TLE\n",
    "import time\n",
    "import datetime\n",
    "import matplotlib.pyplot as plt\n",
    "import statsmodels.api as sm\n",
    "import csv\n",
    "from skyfield.api import load, wgs84\n",
    "from skyfield.api import EarthSatellite\n",
    "from skyfield.elementslib import OsculatingElements\n",
    "from skyfield.data import spice\n",
    "import matplotlib.dates as mdates"
   ]
  },
  {
   "attachments": {},
   "cell_type": "markdown",
   "id": "7bd22d6c",
   "metadata": {},
   "source": [
    "### No need to run"
   ]
  },
  {
   "cell_type": "code",
   "execution_count": 2,
   "id": "4de3964f",
   "metadata": {},
   "outputs": [],
   "source": [
    "constellation = \"starlink\"\n",
    "path = \"../../tle/\"\n",
    "max_isl = 4782.174752610824"
   ]
  },
  {
   "cell_type": "code",
   "execution_count": 4,
   "id": "d3893c3d",
   "metadata": {},
   "outputs": [
    {
     "name": "stdout",
     "output_type": "stream",
     "text": [
      "<class 'float'>\n",
      "[-6053.995926609168, -874.6018578643767, 3238.421525132463]\n",
      "(1686, 15840, 3)\n",
      "<class 'float'>\n",
      "[27.923081914311325, -0.8406291481134366, 547.7352901960046]\n",
      "(1686, 15840, 3)\n",
      "<class 'float'>\n",
      "[84.86641998843886, 311.07243633325197, 164.79065562627238, 6927.731917274687]\n",
      "(1686, 144, 4)\n",
      "<class 'float'>\n",
      "[3.3243790438689476, -4.732348547617833, 4.919057534542607]\n",
      "(1686, 15840, 3)\n"
     ]
    }
   ],
   "source": [
    "cbf_file = path + constellation + \"_u_pos_cbf_3_month.npy\"\n",
    "pos_file = path + constellation + \"_u_pos_3_month.npy\"\n",
    "ext_file = path + constellation + \"_u_extend_m_3_month.npy\"\n",
    "vel_file = path + constellation + \"_u_velocity_3_month.npy\"\n",
    "\n",
    "pos_cbf=np.load(cbf_file,allow_pickle=True).tolist()\n",
    "print(type(pos_cbf[0][0][0]))\n",
    "print(pos_cbf[0][0])\n",
    "print(np.shape(pos_cbf))\n",
    "\n",
    "pos=np.load(pos_file,allow_pickle=True).tolist()\n",
    "print(type(pos[0][0][0]))\n",
    "print(pos[0][0])\n",
    "print(np.shape(pos))\n",
    "\n",
    "extend_m = np.load(ext_file,allow_pickle=True).tolist()\n",
    "print(type(extend_m[0][0][0]))\n",
    "print(extend_m[0][0])\n",
    "print(np.shape(extend_m))\n",
    "\n",
    "velocity = np.load(vel_file,allow_pickle=True).tolist()\n",
    "print(type(velocity[0][0][0]))\n",
    "print(velocity[0][0])\n",
    "print(np.shape(velocity))"
   ]
  },
  {
   "cell_type": "code",
   "execution_count": 5,
   "id": "a788a20d",
   "metadata": {},
   "outputs": [
    {
     "name": "stdout",
     "output_type": "stream",
     "text": [
      "1541\n",
      "(1541, 15840, 3) (1541, 15840, 3) (1541, 144, 4) (1541, 15840, 3)\n"
     ]
    }
   ],
   "source": [
    "# 筛选过滤后卫星对应的位置信息\n",
    "def read_txt(file):\n",
    "    r = []\n",
    "    with open(file,\"r\") as f:\n",
    "        line = f.readline()\n",
    "        while line:\n",
    "            r.append(int(line.strip('\\n')))\n",
    "            line = f.readline()\n",
    "    return r\n",
    "f_keys = read_txt(\"../../tle/data/filtered_index.txt\")\n",
    "print(len(f_keys))\n",
    "\n",
    "def filter_pos():\n",
    "    r, rr, ee, v = [], [], [], []\n",
    "    for item in f_keys:\n",
    "        r.append(pos_cbf[item])\n",
    "        rr.append(pos[item])\n",
    "        ee.append(extend_m[item])\n",
    "        v.append(velocity[item])\n",
    "    return r, rr, ee, v\n",
    "pos_cbf, pos, extend_m, velocity = filter_pos()\n",
    "print(np.shape(pos_cbf), np.shape(pos), np.shape(extend_m), np.shape(velocity))\n",
    "\n",
    "node_num = len(pos)\n",
    "cycle = len(pos[0])"
   ]
  },
  {
   "cell_type": "code",
   "execution_count": 30,
   "id": "f5ab9125",
   "metadata": {},
   "outputs": [
    {
     "name": "stdout",
     "output_type": "stream",
     "text": [
      "(1541, 2) ['44713', '19074A']\n"
     ]
    }
   ],
   "source": [
    "file = \"../../tle/data/filtered_3_month.csv\"\n",
    "# file = \"./data/sat_3_month.csv\"\n",
    "df = pd.read_csv(file,header=None,sep='\\t')\n",
    "data = df[0].str.split(',').values.tolist()\n",
    "print(np.shape(data), data[0])\n",
    "node_num = len(data)"
   ]
  },
  {
   "cell_type": "code",
   "execution_count": 31,
   "id": "5fd818e7",
   "metadata": {},
   "outputs": [
    {
     "name": "stdout",
     "output_type": "stream",
     "text": [
      "type:  <class 'dict'>\n",
      "type:  <class 'dict'>\n",
      "Total:  1701 ['2022-04-01 05:20:18', '1 47150U 20088AE  22091.22243163  .00004265  00000-0  30493-3 0  9991', '2 47150  53.0541 269.1438 0001347  72.7409 287.3727 15.06410475 75421', '6925.316']\n",
      "Number of satellite:  1541\n"
     ]
    }
   ],
   "source": [
    "tle_file = path + \"tle_starlink_3_month_0401_0712.npy\"\n",
    "tle_data = np.load(tle_file, allow_pickle=True)\n",
    "print(\"type: \", type(tle_data.item()))\n",
    "tle_item = tle_data.item()\n",
    "print(\"type: \", type(tle_item))\n",
    "tle = tle_item.items()\n",
    "d = {}\n",
    "for k,v in tle:\n",
    "    d[k] = v # v是多维的，两个月左右的数据，采样粒度可能有区别\n",
    "print(\"Total: \",len(d), d['47150'][0])\n",
    "\n",
    "keys = [item[0] for item in data]\n",
    "print(\"Number of satellite: \", len(keys))"
   ]
  },
  {
   "cell_type": "code",
   "execution_count": 32,
   "id": "60f56a02",
   "metadata": {},
   "outputs": [],
   "source": [
    "np.save('./data/keys.npy',keys)"
   ]
  },
  {
   "cell_type": "code",
   "execution_count": 8,
   "id": "9b6e95b5",
   "metadata": {},
   "outputs": [
    {
     "name": "stdout",
     "output_type": "stream",
     "text": [
      "53351 1\n"
     ]
    }
   ],
   "source": [
    "# 获取卫星名称\n",
    "file = \"../../tle/data/norad_cat_id.csv\"\n",
    "df = pd.read_csv(file,header=None,sep='\\t')\n",
    "df.drop(labels=None,axis=0, index=0, columns=None, inplace=True)\n",
    "satname = df[0].str.split(',').values.tolist()\n",
    "print(len(satname), satname[0][1].strip('\\\"'))\n",
    "names = {}\n",
    "for sat in satname:\n",
    "    names[sat[1].strip('\\\"')] = sat[3].strip('\\\"')"
   ]
  },
  {
   "cell_type": "code",
   "execution_count": 10,
   "id": "5583e2d3",
   "metadata": {},
   "outputs": [
    {
     "name": "stdout",
     "output_type": "stream",
     "text": [
      "<class 'dict'> 1409\n",
      "1541 44713\n",
      "1409\n",
      "(1541,) (1541,)\n"
     ]
    }
   ],
   "source": [
    "# liuwei的数据\n",
    "pos_file = path + \"position_height_lat_long_41_719_decay_1409.npy\"\n",
    "posdata = np.load(pos_file,allow_pickle=True)\n",
    "posdata = posdata.item()\n",
    "print(type(posdata), len(posdata))\n",
    "\n",
    "f_keys = np.load(\"./data/sat_1541.npy\", allow_pickle=True).tolist()\n",
    "print(len(f_keys), f_keys[0])\n",
    "\n",
    "def transdata():\n",
    "    r, cbf = [], []\n",
    "    c = 0\n",
    "    for key in f_keys:\n",
    "        key = int(key)\n",
    "        if key in posdata:\n",
    "            c += 1\n",
    "            r.append(posdata[key]['lat_long'])\n",
    "            cbf.append(posdata[key]['position'])\n",
    "        else:\n",
    "            r.append([])\n",
    "            cbf.append([])\n",
    "    print(c)\n",
    "    return r, cbf\n",
    "pos, pos_cbf = transdata()\n",
    "print(np.shape(pos), np.shape(pos_cbf))"
   ]
  },
  {
   "cell_type": "markdown",
   "id": "a755988f",
   "metadata": {},
   "source": [
    "### 卫星轨道信息"
   ]
  },
  {
   "cell_type": "code",
   "execution_count": 21,
   "id": "4ad26629",
   "metadata": {},
   "outputs": [
    {
     "name": "stdout",
     "output_type": "stream",
     "text": [
      "(1409, 3) ['1', '5', '45182']\n",
      "1409\n",
      "1409\n"
     ]
    }
   ],
   "source": [
    "# 读入卫星所在轨道信息\n",
    "file = \"./data/sat_orbits_filtered_3_month.csv\"\n",
    "df = pd.read_csv(file,header=None,sep='\\t')\n",
    "df.drop(labels=None,axis=0, index=0, columns=None, inplace=True)\n",
    "sat_data = df[0].str.split(',').values.tolist()\n",
    "print(np.shape(sat_data), sat_data[0])\n",
    "\n",
    "filtered_keys = []\n",
    "for item in sat_data:\n",
    "    filtered_keys.append(item[-1])\n",
    "print(len(filtered_keys))\n",
    "\n",
    "def establish_dict():\n",
    "    d = {}\n",
    "    for item in sat_data:\n",
    "        d[item[-1]] = int(item[0])\n",
    "    return d\n",
    "name2orbit = establish_dict()\n",
    "print(len(name2orbit))\n",
    "\n",
    "# def read_sat_orbit():\n",
    "#     d = {}\n",
    "#     for i in range(len(sat_data)):\n",
    "#         if int(sat_data[i][0]) not in d:\n",
    "#             d[int(sat_data[i][0])] = [keys.index(sat_data[i][2])]\n",
    "#         else:\n",
    "#             d[int(sat_data[i][0])].append(keys.index(sat_data[i][2]))\n",
    "#     return d\n",
    "# sat_orbit = read_sat_orbit()\n",
    "# print(len(sat_orbit), sat_orbit[1])"
   ]
  },
  {
   "cell_type": "code",
   "execution_count": 12,
   "id": "44c0dc29",
   "metadata": {},
   "outputs": [
    {
     "name": "stdout",
     "output_type": "stream",
     "text": [
      "(72,) [753, 161, 160, 167, 172, 164, 169, 747, 147, 163, 145, 184, 170, 171, 168, 166, 162, 785]\n"
     ]
    }
   ],
   "source": [
    "# 每个轨道内卫星根据经度排序\n",
    "def sort_sat_lon(t):\n",
    "    rr = []\n",
    "    for o in sat_orbit:\n",
    "        r = []\n",
    "        for sat in sat_orbit[o]:\n",
    "            lon = pos[sat][t][1]\n",
    "            r.append([sat, lon])\n",
    "        r = sorted(r, key = lambda x: x[1])\n",
    "        r = [item[0] for item in r]\n",
    "        rr.append(r)\n",
    "    return rr\n",
    "sorted_sat = sort_sat_lon(0)\n",
    "print(np.shape(sorted_sat), sorted_sat[0])"
   ]
  },
  {
   "cell_type": "code",
   "execution_count": 13,
   "id": "227e3d94",
   "metadata": {},
   "outputs": [
    {
     "name": "stdout",
     "output_type": "stream",
     "text": [
      "sat direction shape:  1541\n",
      "initial satellite:  [785, 792, 345, 852, 159, 899, 329, 745, 306, 871, 290, 1162, 273, 1195, 451, 1212, 249, 1404, 423, 1383, 412, 1341, 235, 1358, 598, 1126, 590, 580, 215, 1136, 562, 1281, 1295, 1311, 359, 908, 34, 913, 373, 1010, 940, 970, 365, 646, 134, 994, 638, 981, 1019, 1033, 499, 704, 100, 718, 497, 1086, 702, 1077, 459, 668, 75, 542, 675, 1265, 1248, 1240, 524, 1215, 179, 822, 535, 833] 72\n",
      "True\n"
     ]
    }
   ],
   "source": [
    "# 确定所有轨道0号卫星\n",
    "sat_dir = np.load(\"../../tle/data/sat_dir_3_month.npy\", allow_pickle=True).tolist()\n",
    "print(\"sat direction shape: \", len(sat_dir))\n",
    "def sat_0(t):\n",
    "    max_isl = 4782.174752610824\n",
    "    rr = []\n",
    "    for o in range(len(sorted_sat)):\n",
    "        r = []\n",
    "        for sat in sorted_sat[o]:\n",
    "            if sat_dir[sat] == 1:\n",
    "                r.append([sat, abs(0 - pos[sat][t][0])])\n",
    "        r = sorted(r, key = lambda x: x[1])\n",
    "        sat0 = r[0][0]\n",
    "        rr.append(sat0)\n",
    "    return rr\n",
    "sat0 = sat_0(0)\n",
    "print(\"initial satellite: \", sat0, len(sat0))\n",
    "\n",
    "def is_connected(t):\n",
    "    flag = False\n",
    "    for i in range(len(sat0)):\n",
    "        x1, y1, z1 = pos_cbf[sat0[i]][t][0], pos_cbf[sat0[i]][t][1], pos_cbf[sat0[i]][t][2]\n",
    "        x2, y2, z2 = pos_cbf[sat0[i-1]][t][0], pos_cbf[sat0[i-1]][t][1], pos_cbf[sat0[i-1]][t][2]\n",
    "        dis = ((x1-x2)**2 + (y1-y2)**2 + (z1-z2)**2) ** 0.5\n",
    "        dir1, dir2 = sat_dir[sat0[i]], sat_dir[sat0[i-1]]\n",
    "        if dis < max_isl and dir1 == dir2:\n",
    "            flag = True\n",
    "        if not flag:\n",
    "            return False\n",
    "    return True\n",
    "print(is_connected(0))    "
   ]
  },
  {
   "cell_type": "code",
   "execution_count": 14,
   "id": "1f984bf3",
   "metadata": {},
   "outputs": [
    {
     "name": "stdout",
     "output_type": "stream",
     "text": [
      "72 [412, 413, 407, 406, 421, 417, 416, 404, 420, 405, 418, 403, 419, 408, 415, 914, 411, 414, 410, 409]\n"
     ]
    }
   ],
   "source": [
    "# 再次排序,0号卫星在左侧\n",
    "def sort_sat0():\n",
    "    r = []\n",
    "    for i in range(len(sorted_sat)):\n",
    "        tmp = sorted_sat[i]\n",
    "        ini = tmp.index(sat0[i])\n",
    "        tmp1, tmp2 = tmp[:ini], tmp[ini:]\n",
    "        tmp2.extend(tmp1)\n",
    "        r.append(tmp2)\n",
    "    return r\n",
    "sorted_sat = sort_sat0()\n",
    "print(len(sorted_sat), sorted_sat[20])\n",
    "# [270, 1406, 267, 284, 265, 263, 259, 262, 260, 258, 274, 272, 275, 264, 273, 271, 268, 269, 261]\n",
    "# [1159, 1160, 1161, 1162, 1163, 1164, 1165, 1166, 1167, 1168, 1169, 1170, 1171, 1172, 1173, 1174, 1175, 1176]"
   ]
  },
  {
   "cell_type": "markdown",
   "id": "d24fd793",
   "metadata": {},
   "source": [
    "### 每个时刻最近邻居"
   ]
  },
  {
   "cell_type": "code",
   "execution_count": null,
   "id": "0d461dae",
   "metadata": {},
   "outputs": [],
   "source": [
    "# 计算每个时刻每个卫星最近的邻居 1409 * cycle * 4 [2intra, 2inter] 不考虑是否能够建链\n",
    "def cal_nearest_neighbor():\n",
    "    r = {}\n",
    "    cycle = len(pos[0])\n",
    "    for t in range(cycle): # 每个时刻\n",
    "        sorted_sat = sort_sat_lon(t) \n",
    "        for i in range(len(sorted_sat)): # 每个轨道\n",
    "            sats = sorted_sat[i]\n",
    "            for j in range(len(sats)):\n",
    "                sat = sats[j]\n",
    "                if sat not in r:\n",
    "                    r[sat] = [] \n",
    "                # intra\n",
    "                up_neigh = sats[(j+1) % len(sats)]\n",
    "                down_neigh = sats[j-1]\n",
    "                tmp = [up_neigh, down_neigh]\n",
    "                # inter\n",
    "                x1, y1, z1 = pos_cbf[sat][t][0], pos_cbf[sat][t][1], pos_cbf[sat][t][2]\n",
    "                \n",
    "                neighs = sorted_sat[i-1]\n",
    "                minn, index = float('inf'), -1\n",
    "                for neigh in neighs:\n",
    "                    x2, y2, z2 = pos_cbf[neigh][t][0], pos_cbf[neigh][t][1], pos_cbf[neigh][t][2]\n",
    "                    dis = ((x1-x2)**2 + (y1-y2)**2 + (z1-z2)**2) ** 0.5\n",
    "                    if dis < minn:\n",
    "                        minn, index = dis, neigh\n",
    "                tmp.append(index)\n",
    "                \n",
    "                neighs = sorted_sat[(i+1) % len(sorted_sat)]\n",
    "                minn, index = float('inf'), -1\n",
    "                for neigh in neighs:\n",
    "                    x2, y2, z2 = pos_cbf[neigh][t][0], pos_cbf[neigh][t][1], pos_cbf[neigh][t][2]\n",
    "                    dis = ((x1-x2)**2 + (y1-y2)**2 + (z1-z2)**2) ** 0.5\n",
    "                    if dis < minn:\n",
    "                        minn, index = dis, neigh\n",
    "                tmp.append(index)\n",
    "                r[sat].append(tmp)\n",
    "        if t % 1000 == 0:\n",
    "            print(\"done: \", t)\n",
    "    return r\n",
    "nearest = cal_nearest_neighbor()\n",
    "print(len(nearest), np.shape(nearest[785]))\n",
    "np.save(\"./data/nearest_lw_0719.npy\", nearest)"
   ]
  },
  {
   "cell_type": "code",
   "execution_count": 16,
   "id": "05bff320",
   "metadata": {},
   "outputs": [
    {
     "name": "stdout",
     "output_type": "stream",
     "text": [
      "1409\n"
     ]
    }
   ],
   "source": [
    "# 统计邻居卫星改变时刻\n",
    "def cal_neighbor_update_time():\n",
    "    r = {}\n",
    "    cycle = len(pos[0])\n",
    "    for sat in nearest:\n",
    "        r[sat] = []\n",
    "        pre = set(nearest[sat][0])\n",
    "        for t in range(1, cycle):\n",
    "            now = set(nearest[sat][t])\n",
    "            if pre != now:\n",
    "                r[sat].append(t)\n",
    "            pre = now\n",
    "    return r\n",
    "\n",
    "change_time = cal_neighbor_update_time()\n",
    "print(len(change_time))"
   ]
  },
  {
   "cell_type": "code",
   "execution_count": 21,
   "id": "03606c0e",
   "metadata": {},
   "outputs": [],
   "source": [
    "np.save('change_time.npy',change_time)"
   ]
  },
  {
   "attachments": {},
   "cell_type": "markdown",
   "id": "df922f38",
   "metadata": {},
   "source": [
    "### Start from this line"
   ]
  },
  {
   "cell_type": "code",
   "execution_count": 2,
   "id": "9c2234b1",
   "metadata": {},
   "outputs": [],
   "source": [
    "change_time = np.load('./data/change_time.npy',allow_pickle=True).item()\n",
    "# 读取已经算好的邻居数据\n",
    "nearest = np.load(\"./data/nearest_lw_0719.npy\", allow_pickle=True).item()"
   ]
  },
  {
   "cell_type": "code",
   "execution_count": 3,
   "id": "ed08a7b6",
   "metadata": {},
   "outputs": [],
   "source": [
    "# 生成时间序列数组\n",
    "def generate_time_series(start, end):\n",
    "    current = datetime.datetime.strptime(start, '%Y-%m-%d %H:%M:%S')\n",
    "    end_item = datetime.datetime.strptime(end, '%Y-%m-%d %H:%M:%S')\n",
    "    time_delta = datetime.timedelta(seconds=3600) # modify\n",
    "    time_series = [current]\n",
    "    while current < end_item:\n",
    "        next = current + time_delta\n",
    "        time_series.append(next)\n",
    "        current = next\n",
    "    return time_series"
   ]
  },
  {
   "cell_type": "code",
   "execution_count": 4,
   "id": "782c33aa",
   "metadata": {},
   "outputs": [
    {
     "name": "stderr",
     "output_type": "stream",
     "text": [
      "/root/anaconda3/lib/python3.7/site-packages/pandas/plotting/_converter.py:129: FutureWarning: Using an implicitly registered datetime converter for a matplotlib plotting method. The converter was registered by pandas on import. Future versions of pandas will require you to explicitly register matplotlib converters.\n",
      "\n",
      "To register the converters:\n",
      "\t>>> from pandas.plotting import register_matplotlib_converters\n",
      "\t>>> register_matplotlib_converters()\n",
      "  warnings.warn(msg, FutureWarning)\n"
     ]
    },
    {
     "data": {
      "image/png": "[encoded data removed]",
      "text/plain": [
       "<Figure size 1008x216 with 1 Axes>"
      ]
     },
     "metadata": {
      "needs_background": "light"
     },
     "output_type": "display_data"
    }
   ],
   "source": [
    "# 绘制每个时刻发生邻居改变的卫星数\n",
    "def plot_num_neighbor_change(r):\n",
    "    cycle = 2640\n",
    "    y = [0] * cycle\n",
    "    for item in r:\n",
    "        for t in r[item]:\n",
    "            y[t] += 1\n",
    "    # y = y[1:]\n",
    "    \n",
    "    fig = plt.figure(figsize=(14, 3))\n",
    "    ax = fig.add_subplot(1,1,1)\n",
    "    font2 = {'family' : 'Arial',\n",
    "    'weight' : 'normal',\n",
    "    'size'   : 18,\n",
    "    }\n",
    "    colors = [\"#00A491\",\"#FFCD43\",\"#FF592D\",\"#3787C0\"]\n",
    "    \n",
    "    # time_scale = generate_time_series(\"2022-4-1 0:0:0\", \"2022-7-19 23:59:58\")[:-1]\n",
    "    time_scale = generate_time_series(\"2022-4-1 0:0:0\", \"2022-7-20 0:0:0\")[:-1]\n",
    "    # for i in range(len(r)):\n",
    "    plt.plot(time_scale, y, '-', color = colors[0])\n",
    "    ax.xaxis.set_major_formatter(mdates.DateFormatter('%m-%d'))\n",
    "    # plt.xlabel(\"Time\", fontsize = 18)\n",
    "    plt.xlim([time_scale[0], time_scale[-1]])\n",
    "    plt.ylim(bottom=0)\n",
    "    plt.ylabel(\"Num. neighbor\\n updates (per day)\", fontsize = 20)\n",
    "    plt.tick_params(labelsize=18)\n",
    "    # plt.legend(frameon=True, fontsize=17, loc=2, labelspacing=0.1)# ,labelspacing=0.1,columnspacing=0.4,ncol=2,loc=3,bbox_to_anchor=(0.032,0.001))  # ,bbox_to_anchor=(0.33,0.82) bbox_to_anchor=(0.73,0.92) bbox_to_anchor=(1.03,0.82)\n",
    "    plt.savefig(\"figure14.pdf\",dpi=300,bbox_inches = 'tight')\n",
    "    plt.show()\n",
    "    \n",
    "plot_num_neighbor_change(change_time)"
   ]
  }
 ],
 "metadata": {
  "kernelspec": {
   "display_name": "base",
   "language": "python",
   "name": "python3"
  },
  "language_info": {
   "codemirror_mode": {
    "name": "ipython",
    "version": 3
   },
   "file_extension": ".py",
   "mimetype": "text/x-python",
   "name": "python",
   "nbconvert_exporter": "python",
   "pygments_lexer": "ipython3",
   "version": "3.7.3"
  },
  "vscode": {
   "interpreter": {
    "hash": "61a57a4b5406d2de388e2f91097d4e4bcd7d5f4a46f53a795aa28a02eed27fc5"
   }
  }
 },
 "nbformat": 4,
 "nbformat_minor": 5
}
