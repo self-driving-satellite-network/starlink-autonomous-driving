{
 "cells": [
  {
   "cell_type": "code",
   "execution_count": 1,
   "metadata": {},
   "outputs": [],
   "source": [
    "##要执行的我会在代码段前注释“第i步”\n",
    "#第一步\n",
    "import numpy\n",
    "import pandas as pd\n",
    "import datetime\n",
    "import json\n",
    "import os\n",
    "import xlrd# 安装xlrd == 1.2.0 版本太高会出错\n",
    "import numpy as np\n",
    "import matplotlib.pyplot as plt\n",
    "import copy\n",
    "from skyfield.api import load, EarthSatellite\n",
    "from skyfield.api import wgs84\n",
    "from matplotlib.pyplot import MultipleLocator\n",
    "import matplotlib.ticker as mtick\n",
    "import matplotlib.dates as mdates"
   ]
  },
  {
   "attachments": {},
   "cell_type": "markdown",
   "metadata": {},
   "source": [
    "## No need to run"
   ]
  },
  {
   "cell_type": "code",
   "execution_count": 2,
   "metadata": {},
   "outputs": [],
   "source": [
    "def get_allfile(path):  # 获取所有文件\n",
    "    all_file = []\n",
    "    for f in os.listdir(path):  #listdir返回文件中所有目录\n",
    "        f_name = os.path.join(path, f)\n",
    "        all_file.append(f_name)\n",
    "    return all_file"
   ]
  },
  {
   "cell_type": "code",
   "execution_count": 3,
   "metadata": {},
   "outputs": [],
   "source": [
    "#第三步\n",
    "#从TLE中提取相关字段到tle列表中\n",
    "tle=[]\n",
    "key_wanted=[\"NORAD_CAT_ID\",\"OBJECT_NAME\",\"EPOCH\",\"INCLINATION\",\"TLE_LINE1\",\"TLE_LINE2\",\"SEMIMAJOR_AXIS\"]\n",
    "tickets = r\"../../Dataset/starlink/\"\n",
    "all_file=get_allfile(tickets)  #tickets要获取文件夹名\n",
    "for i in range(len(all_file)):\n",
    "    filename=r\"%s\"%all_file[i]\n",
    "    #print(filename)\n",
    "    with open(filename) as f:\n",
    "        temp=json.load(f)\n",
    "        for item in temp:\n",
    "            item[\"NORAD_CAT_ID\"]=int(item[\"NORAD_CAT_ID\"])\n",
    "            item[\"SEMIMAJOR_AXIS\"] = float(item[\"SEMIMAJOR_AXIS\"])\n",
    "            item[\"EPOCH\"]=datetime.datetime.strptime('%s.%s'%(item[\"EPOCH\"],item[\"EPOCH_MICROSECONDS\"]),\"%Y-%m-%d %H:%M:%S.%f\")\n",
    "            temp2=dict((key,value) for key, value in item.items() if key in key_wanted)\n",
    "            tle.append(temp2)\n",
    "df=pd.DataFrame(tle)\n",
    "\n",
    "#提取到tle后按“NORAD_CAT_ID”分组，并按EPOCH的逆序排序\n",
    "group = df.groupby(\"NORAD_CAT_ID\")\n",
    "starlink_dict = {}\n",
    "for dfGroupBy in group:\n",
    "    df_dict_key = dfGroupBy[0]\n",
    "    df_dict_value = pd.DataFrame(dfGroupBy[1])\n",
    "    starlink_dict[df_dict_key] = df_dict_value.sort_values(by='EPOCH',ascending=False)\n",
    "#print(starlink_dict['STARLINK-3282'])"
   ]
  },
  {
   "cell_type": "code",
   "execution_count": 4,
   "metadata": {},
   "outputs": [
    {
     "name": "stdout",
     "output_type": "stream",
     "text": [
      "0\n",
      "1\n",
      "2\n",
      "3\n"
     ]
    },
    {
     "ename": "ValueError",
     "evalue": "could not convert string to float: '2 44238  53.0066 321.3434 0000458  21.3132 338.7890 15.39630065174752'",
     "output_type": "error",
     "traceback": [
      "\u001b[0;31m---------------------------------------------------------------------------\u001b[0m",
      "\u001b[0;31mValueError\u001b[0m                                Traceback (most recent call last)",
      "\u001b[0;32m<ipython-input-4-3a2a752fc5aa>\u001b[0m in \u001b[0;36m<module>\u001b[0;34m\u001b[0m\n\u001b[1;32m      6\u001b[0m     \u001b[0mstarlink_dataframe\u001b[0m \u001b[0;34m=\u001b[0m \u001b[0mstarlink_dataframe\u001b[0m\u001b[0;34m[\u001b[0m\u001b[0mstarlink_dataframe\u001b[0m\u001b[0;34m[\u001b[0m\u001b[0;34m'EPOCH'\u001b[0m\u001b[0;34m]\u001b[0m \u001b[0;34m>\u001b[0m \u001b[0mdatetime\u001b[0m\u001b[0;34m.\u001b[0m\u001b[0mdatetime\u001b[0m\u001b[0;34m(\u001b[0m\u001b[0;36m2022\u001b[0m\u001b[0;34m,\u001b[0m\u001b[0;36m4\u001b[0m\u001b[0;34m,\u001b[0m\u001b[0;36m1\u001b[0m\u001b[0;34m)\u001b[0m\u001b[0;34m]\u001b[0m\u001b[0;34m\u001b[0m\u001b[0;34m\u001b[0m\u001b[0m\n\u001b[1;32m      7\u001b[0m     \u001b[0;32mif\u001b[0m\u001b[0;34m(\u001b[0m\u001b[0mlen\u001b[0m\u001b[0;34m(\u001b[0m\u001b[0mstarlink_dataframe\u001b[0m\u001b[0;34m)\u001b[0m \u001b[0;34m==\u001b[0m \u001b[0;36m0\u001b[0m\u001b[0;34m)\u001b[0m\u001b[0;34m:\u001b[0m\u001b[0;32mcontinue\u001b[0m\u001b[0;34m\u001b[0m\u001b[0;34m\u001b[0m\u001b[0m\n\u001b[0;32m----> 8\u001b[0;31m     \u001b[0maxis_1\u001b[0m \u001b[0;34m=\u001b[0m \u001b[0mfloat\u001b[0m\u001b[0;34m(\u001b[0m\u001b[0mstarlink_dataframe\u001b[0m\u001b[0;34m.\u001b[0m\u001b[0miloc\u001b[0m\u001b[0;34m[\u001b[0m\u001b[0;36m0\u001b[0m\u001b[0;34m,\u001b[0m\u001b[0;36m6\u001b[0m\u001b[0;34m]\u001b[0m\u001b[0;34m)\u001b[0m\u001b[0;34m\u001b[0m\u001b[0;34m\u001b[0m\u001b[0m\n\u001b[0m\u001b[1;32m      9\u001b[0m     \u001b[0maxis_2\u001b[0m \u001b[0;34m=\u001b[0m \u001b[0mfloat\u001b[0m\u001b[0;34m(\u001b[0m\u001b[0mstarlink_dataframe\u001b[0m\u001b[0;34m.\u001b[0m\u001b[0miloc\u001b[0m\u001b[0;34m[\u001b[0m\u001b[0mlen\u001b[0m\u001b[0;34m(\u001b[0m\u001b[0mstarlink_dataframe\u001b[0m\u001b[0;34m)\u001b[0m \u001b[0;34m-\u001b[0m \u001b[0;36m1\u001b[0m\u001b[0;34m,\u001b[0m\u001b[0;36m6\u001b[0m\u001b[0;34m]\u001b[0m\u001b[0;34m)\u001b[0m\u001b[0;34m\u001b[0m\u001b[0;34m\u001b[0m\u001b[0m\n\u001b[1;32m     10\u001b[0m     \u001b[0;32mif\u001b[0m\u001b[0;34m(\u001b[0m\u001b[0mabs\u001b[0m\u001b[0;34m(\u001b[0m\u001b[0maxis_1\u001b[0m \u001b[0;34m-\u001b[0m \u001b[0maxis_2\u001b[0m\u001b[0;34m)\u001b[0m \u001b[0;34m>=\u001b[0m \u001b[0;36m10\u001b[0m\u001b[0;34m)\u001b[0m\u001b[0;34m:\u001b[0m\u001b[0;32mcontinue\u001b[0m\u001b[0;34m\u001b[0m\u001b[0;34m\u001b[0m\u001b[0m\n",
      "\u001b[0;31mValueError\u001b[0m: could not convert string to float: '2 44238  53.0066 321.3434 0000458  21.3132 338.7890 15.39630065174752'"
     ]
    }
   ],
   "source": [
    "maneuver = {}\n",
    "for i in range(len(starlink_dict.keys())):#len(starlink_dict.keys())\n",
    "    print(i)\n",
    "    starlink_maneuver = {}\n",
    "    starlink_dataframe = starlink_dict[list(starlink_dict.keys())[i]]\n",
    "    starlink_dataframe = starlink_dataframe[starlink_dataframe['EPOCH'] > datetime.datetime(2022,4,1)]\n",
    "    if(len(starlink_dataframe) == 0):continue\n",
    "    axis_1 = float(starlink_dataframe.iloc[0,6])\n",
    "    axis_2 = float(starlink_dataframe.iloc[len(starlink_dataframe) - 1,6])\n",
    "    if(abs(axis_1 - axis_2) >= 10):continue\n",
    "    for j in range(len(starlink_dataframe)):\n",
    "        axis_sum = 0\n",
    "        num_sum = 0\n",
    "        for k in range(5):\n",
    "            if(j + k >= len(starlink_dataframe)):break\n",
    "            num_sum = num_sum + 1\n",
    "            axis_sum = axis_sum + float(starlink_dataframe.iloc[j + k,6])\n",
    "        for seq in range(5):\n",
    "            if(j + seq >= len(starlink_dataframe)):break\n",
    "            new_axis_sum = axis_sum - float(starlink_dataframe.iloc[j + seq,6])\n",
    "            if(num_sum - 1 == 0):continue\n",
    "            axis_avg = new_axis_sum / (num_sum - 1)\n",
    "            if(abs(float(starlink_dataframe.iloc[j + seq,6]) - axis_avg) >= 1):\n",
    "                starlink_maneuver[starlink_dataframe.iloc[j + seq,2]] = float(starlink_dataframe.iloc[j + seq,6])\n",
    "    maneuver[list(starlink_dict.keys())[i]] = starlink_maneuver\n",
    "\n",
    "    "
   ]
  },
  {
   "cell_type": "code",
   "execution_count": null,
   "metadata": {},
   "outputs": [],
   "source": [
    "def ismaneuver(key,start_time,stop_time):\n",
    "    df = starlink_dict[key]\n",
    "    df = df[(start_time <= df['EPOCH']) & (df['EPOCH'] <= stop_time)]\n",
    "    df_axis_list = []\n",
    "    for i in range(len(df)):\n",
    "        df_axis_list.append(df.iloc[i,6])\n",
    "    df_axis_max = max(df_axis_list)\n",
    "    #print(df_axis_max)\n",
    "    df_axis_min = min(df_axis_list)\n",
    "    #print(df_axis_min)\n",
    "    if((df_axis_max - df_axis_min) < 1):return False\n",
    "    else:return True"
   ]
  },
  {
   "cell_type": "code",
   "execution_count": null,
   "metadata": {},
   "outputs": [],
   "source": [
    "start_end={}\n",
    "for key in maneuver.keys():\n",
    "    if(maneuver[key] == {}):continue\n",
    "    tmp_man=list(sorted(maneuver[key].keys()))\n",
    "    starlink_df = starlink_dict[key]\n",
    "    starlink_df = starlink_df[starlink_df['EPOCH'] > datetime.datetime(2022,4,1)]\n",
    "    #print(np.array(starlink_df[\"SEMIMAJOR_AXIS\"]))\n",
    "    semi=np.median(np.array(starlink_df[\"SEMIMAJOR_AXIS\"]))\n",
    "    start=[]\n",
    "    end=[]\n",
    "    for i in range(len(tmp_man)):\n",
    "        item=tmp_man[i]\n",
    "        tmp_start=starlink_df[starlink_df['EPOCH'] < item]\n",
    "        tmp_start=tmp_start[abs(tmp_start['SEMIMAJOR_AXIS']-semi)<0.2]\n",
    "        t=tmp_start['EPOCH'].max()\n",
    "        if t not in start:\n",
    "            if len(start)!=0:\n",
    "                if abs((start[-1]-t).total_seconds())>3600*12:\n",
    "                    start.append(t)\n",
    "            else:\n",
    "                start.append(t)\n",
    "        \n",
    "        tmp_end=starlink_df[starlink_df['EPOCH'] > item]\n",
    "        tmp_end=tmp_end[abs(tmp_end['SEMIMAJOR_AXIS']-semi)<0.2]\n",
    "        t=tmp_end['EPOCH'].min()\n",
    "        if t not in end :\n",
    "            if len(end)!=0:\n",
    "                if abs((end[-1]-t).total_seconds())>3600*12:\n",
    "                    end.append(t)\n",
    "                else:\n",
    "                    end[-1]=t\n",
    "            else:\n",
    "                end.append(t)\n",
    "    if(key == 48014):\n",
    "        print(start)\n",
    "        print(end)\n",
    "    start = sorted(start)\n",
    "    end = sorted(end,reverse=True)\n",
    "    del_list1 = []\n",
    "    flag1 = 0\n",
    "    for l1 in range(1,len(start)):\n",
    "        if((start[l1] - start[flag1]) < datetime.timedelta(days=20)):\n",
    "            del_list1.append(start[l1])\n",
    "        else:\n",
    "            flag1 = l1\n",
    "    for l1 in range(len(del_list1)):\n",
    "        start.remove(del_list1[l1])\n",
    "    del_list2 = []\n",
    "    flag2 = 0\n",
    "    for l2 in range(1,len(end)):\n",
    "        if((end[flag2] - end[l2]) < datetime.timedelta(days=20)):\n",
    "            del_list2.append(end[l2])\n",
    "        else:\n",
    "            flag2 = l2\n",
    "    for l2 in range(len(del_list2)):\n",
    "        end.remove(del_list2[l2])\n",
    "    end.reverse()\n",
    "    if(key == 48014):\n",
    "        print(start)\n",
    "        print(end)\n",
    "    result = []\n",
    "    i#f(len(start) != len(end)):\n",
    "    for x in range(len(start)):\n",
    "        time_min = datetime.timedelta(days = 999)\n",
    "        time_ind = 'a'\n",
    "        for y in range(len(end)):\n",
    "            if(end[y] <= start[x]):continue\n",
    "            else:\n",
    "                if((end[y] - start[x]) < time_min):\n",
    "                    #print(datetime.datetime.strptime(str(start[x]),\"%Y-%m-%d %H:%M:%S.%f\"))\n",
    "                    if(ismaneuver(key,datetime.datetime.strptime(str(start[x]),\"%Y-%m-%d %H:%M:%S.%f\"),datetime.datetime.strptime(str(end[y]),\"%Y-%m-%d %H:%M:%S.%f\"))):\n",
    "                        time_min = end[y] - start[x]\n",
    "                        time_ind = y\n",
    "        if(time_ind == 'a'):continue\n",
    "        result.append([start[x],end[time_ind]])\n",
    "    # else:\n",
    "    #     for x in range(len(start)):\n",
    "    #         result.append([start[x],end[x]])\n",
    "    start_end[key]=result"
   ]
  },
  {
   "cell_type": "code",
   "execution_count": null,
   "metadata": {},
   "outputs": [],
   "source": [
    "task_maneuver = []\n",
    "for i in range(len(maneuver.keys())):\n",
    "    if(maneuver[list(maneuver.keys())[i]] == {}):continue\n",
    "    starlink_dataframe = starlink_dict[list(maneuver.keys())[i]]\n",
    "    starlink_dataframe = starlink_dataframe[starlink_dataframe['EPOCH'] > datetime.datetime(2022,4,1)]\n",
    "    if(len(starlink_dataframe) == 0):continue\n",
    "    axis_1 = float(starlink_dataframe.iloc[0,6])\n",
    "    axis_2 = float(starlink_dataframe.iloc[len(starlink_dataframe) - 1,6])\n",
    "    if(abs(axis_1 - axis_2) >= 10):continue\n",
    "    time_num = 0\n",
    "    for j in range(len(starlink_dataframe)):\n",
    "        if(float(starlink_dataframe.iloc[j,6]) > 6932.5):\n",
    "            for k in range(len(starlink_dataframe)):\n",
    "                if((j + k) >= len(starlink_dataframe)):break\n",
    "                if(float(starlink_dataframe.iloc[j + k,6]) < 6932.5):break\n",
    "            if(k > 5):\n",
    "                if(starlink_dataframe.iloc[0,0] not in task_maneuver):\n",
    "                    task_maneuver.append(starlink_dataframe.iloc[0,0])"
   ]
  },
  {
   "cell_type": "code",
   "execution_count": null,
   "metadata": {},
   "outputs": [],
   "source": [
    "def exchange_date_str(stime):\n",
    "    stime_list = stime.split(' ')\n",
    "    if(stime_list[1] == 'Jan'):\n",
    "        stime_list[1] = stime_list[1].replace('Jan','-01-')\n",
    "        stime = \"%s%s%s %s\"%(stime_list[0],stime_list[1],stime_list[2],stime_list[3])\n",
    "    if(stime_list[1] == 'Feb'):\n",
    "        stime_list[1] = stime_list[1].replace('Feb','-02-')\n",
    "        stime = \"%s%s%s %s\"%(stime_list[0],stime_list[1],stime_list[2],stime_list[3])\n",
    "    if(stime_list[1] == 'Mar'):\n",
    "        stime_list[1] = stime_list[1].replace('Mar','-03-')\n",
    "        stime = \"%s%s%s %s\"%(stime_list[0],stime_list[1],stime_list[2],stime_list[3])\n",
    "    if(stime_list[1] == 'Apr'):\n",
    "        stime_list[1] = stime_list[1].replace('Apr','-04-')\n",
    "        stime = \"%s%s%s %s\"%(stime_list[0],stime_list[1],stime_list[2],stime_list[3])\n",
    "    if(stime_list[1] == 'May'):\n",
    "        stime_list[1] = stime_list[1].replace('May','-05-')\n",
    "        stime = \"%s%s%s %s\"%(stime_list[0],stime_list[1],stime_list[2],stime_list[3])\n",
    "    if(stime_list[1] == 'Jun'):\n",
    "        stime_list[1] = stime_list[1].replace('Jun','-06-')\n",
    "        stime = \"%s%s%s %s\"%(stime_list[0],stime_list[1],stime_list[2],stime_list[3])\n",
    "    if(stime_list[1] == 'Jul'):\n",
    "        stime_list[1] = stime_list[1].replace('Jul','-07-')\n",
    "        stime = \"%s%s%s %s\"%(stime_list[0],stime_list[1],stime_list[2],stime_list[3])\n",
    "    if(stime_list[1] == 'Aug'):\n",
    "        stime_list[1] = stime_list[1].replace('Aug','-08-')\n",
    "        stime = \"%s%s%s %s\"%(stime_list[0],stime_list[1],stime_list[2],stime_list[3])\n",
    "    if(stime_list[1] == 'Sep'):\n",
    "        stime_list[1] = stime_list[1].replace('Sep','-09-')\n",
    "        stime = \"%s%s%s %s\"%(stime_list[0],stime_list[1],stime_list[2],stime_list[3])\n",
    "    if(stime_list[1] == 'Oct'):\n",
    "        stime_list[1] = stime_list[1].replace('Oct','-10-')\n",
    "        stime = \"%s%s%s %s\"%(stime_list[0],stime_list[1],stime_list[2],stime_list[3])\n",
    "    if(stime_list[1] == 'Nov'):\n",
    "        stime_list[1] = stime_list[1].replace('Nov','-11-')\n",
    "        stime = \"%s%s%s %s\"%(stime_list[0],stime_list[1],stime_list[2],stime_list[3])\n",
    "    if(stime_list[1] == 'Dec'):\n",
    "        stime_list[1] = stime_list[1].replace('Dec','-12-')\n",
    "        stime = \"%s%s%s %s\"%(stime_list[0],stime_list[1],stime_list[2],stime_list[3])\n",
    "    return stime\n",
    "def exchange_crawler_str(ctime):\n",
    "    ctime = \"%s%s\"%(ctime[20:24],ctime[3:19])\n",
    "    ctime = exchange_date_str(ctime)\n",
    "    return ctime"
   ]
  },
  {
   "cell_type": "code",
   "execution_count": null,
   "metadata": {},
   "outputs": [
    {
     "name": "stdout",
     "output_type": "stream",
     "text": [
      "C:\\Users\\zhaow21\\Seafile\\debris\\data\\raw_conjunction_data\\conjunction_result_100000_MAXPROB_1650556802.0746994.xls\n"
     ]
    }
   ],
   "source": [
    "#第四步\n",
    "#这段代码是获取conjunction文件中的数据并存到cunjunction列表中\n",
    "#先是获取文件夹下所有的文件名\n",
    "def get_allfile(path):  # 获取所有文件\n",
    "    all_file = []\n",
    "    for f in os.listdir(path):  #listdir返回文件中所有目录\n",
    "        f_name = os.path.join(path, f)\n",
    "        all_file.append(f_name)\n",
    "    return all_file\n",
    "    \n",
    "tickets = r\"C:\\Users\\zhaow21\\Seafile\\debris\\data\\raw_conjunction_data\"\n",
    "all_file=get_allfile(tickets)  #tickets要获取文件夹名\n",
    "print(all_file[1])\n",
    "\n",
    "#再根据文件名提取数据\n",
    "conjunction = {}\n",
    "conjunction_dataframe = []\n",
    "for i in range(len(all_file)):#这里的i就是取出文件夹里的第i+1个文件\n",
    "    xls_file = xlrd.open_workbook(all_file[i])\n",
    "    xls_sheet = xls_file.sheets()[0]\n",
    "    nrows = xls_sheet.nrows\n",
    "    for j in range(1,nrows):\n",
    "        row_value = xls_sheet.row_values(j)\n",
    "        #row_value是想要从conjuction中获取的数据字段，按需增删\n",
    "        #row_value = [row_value[0],row_value[3],row_value[6],row_value[7],row_value[8],row_value[9],row_value[10],row_value[11],row_value[12]]\n",
    "        #目前这个row_value提取的字段如下\n",
    "        #max prob  relative volicity  name1  name2  ID  TCA  start time  stop time  time(crawler)\n",
    "        if(float(row_value[0]) < 1e-5):continue\n",
    "        sat_id1 = int(row_value[8].split('-')[0])\n",
    "        sat_id2 = int(row_value[8].split('-')[1])\n",
    "        tca = exchange_date_str(row_value[9])\n",
    "        tca = datetime.datetime.strptime(tca,'%Y-%m-%d %H:%M:%S.%f')\n",
    "        if(sat_id1 not in conjunction.keys()):\n",
    "            conjunction[sat_id1] = [tca]\n",
    "        else:\n",
    "            conjunction[sat_id1].append(tca)\n",
    "        if(sat_id2 not in conjunction.keys()):\n",
    "            conjunction[sat_id2] = [tca]\n",
    "        else:\n",
    "            conjunction[sat_id2].append(tca)\n",
    "        row_value[9] = exchange_date_str(row_value[9])\n",
    "        row_value[9] = datetime.datetime.strptime(row_value[9],'%Y-%m-%d %H:%M:%S.%f')\n",
    "        #row_value是想要从conjuction中获取的数据字段，按需增删\n",
    "        row_value = [float(row_value[0]),float(row_value[3]),row_value[6],row_value[7],sat_id1,sat_id2,row_value[9],row_value[10],row_value[11],row_value[12]]\n",
    "        #目前这个row_value提取的字段如下\n",
    "        #max prob  relative volicity  name1  name2  ID  TCA  start time  stop time  time(crawler)\n",
    "        conjunction_dataframe.append(row_value)"
   ]
  },
  {
   "cell_type": "code",
   "execution_count": null,
   "metadata": {},
   "outputs": [],
   "source": [
    "from datetime import timedelta\n",
    "\n",
    "\n",
    "result = {}\n",
    "for key in maneuver.keys():\n",
    "    if(maneuver[key] == {}):continue\n",
    "    if(key not in conjunction.keys()):continue\n",
    "    tca_list = list(maneuver[key].keys())\n",
    "    for i in range(len(tca_list)):\n",
    "        for j in range(len(conjunction[key])):\n",
    "            if(tca_list[i] <= conjunction[key][j]):\n",
    "                delta_time = conjunction[key][j] - tca_list[i]\n",
    "                if(timedelta(hours= 11) <= delta_time <= timedelta(hours= 13)):\n",
    "                    if(key not in result.keys()):\n",
    "                        result[key] = [conjunction[key][j]]\n",
    "                    else:\n",
    "                        result[key].append(conjunction[key][j])"
   ]
  },
  {
   "cell_type": "code",
   "execution_count": null,
   "metadata": {},
   "outputs": [
    {
     "data": {
      "text/plain": [
       "35"
      ]
     },
     "execution_count": 21,
     "metadata": {},
     "output_type": "execute_result"
    }
   ],
   "source": [
    "ca_maneuver_list = []\n",
    "for key in result.keys():\n",
    "    if(key not in task_maneuver):ca_maneuver_list.append(key)\n",
    "len(ca_maneuver_list)"
   ]
  },
  {
   "cell_type": "code",
   "execution_count": null,
   "metadata": {},
   "outputs": [],
   "source": [
    "for key in ca_maneuver_list:\n",
    "    starlink_dict[key]['alltitude'] = ''\n",
    "    for i in range(len(starlink_dict[key])):#len(starlink_dict[key])\n",
    "        tle_line1 = starlink_dict[key].iloc[i,4]\n",
    "        tle_line2 = starlink_dict[key].iloc[i,5]\n",
    "        #starlink_dict[key].iloc[i,2] = datetime.datetime.strptime(starlink_dict[key].iloc[i,2],\"%Y-%m-%d %H:%M:%S\")\n",
    "        tle_epoch = starlink_dict[key].iloc[i,2]\n",
    "        year = tle_epoch.year\n",
    "        month = tle_epoch.month\n",
    "        day = tle_epoch.day\n",
    "        hour = tle_epoch.hour\n",
    "        minute = tle_epoch.minute\n",
    "        second = tle_epoch.second\n",
    "\n",
    "        ts = load.timescale()\n",
    "        sat = EarthSatellite(tle_line1,tle_line2,None,ts)\n",
    "        t = ts.utc(year,month,day,hour,minute,second)\n",
    "        geocentric = sat.at(t)\n",
    "        h = w84.height_of(geocentric).km\n",
    "        starlink_dict[key].iloc[i,7] = h"
   ]
  },
  {
   "cell_type": "code",
   "execution_count": null,
   "metadata": {},
   "outputs": [],
   "source": [
    "ca_maneuver_time = []\n",
    "ca_maneuver_alt = []\n",
    "for item in ca_maneuver_list:\n",
    "    ca_df = starlink_dict[item]\n",
    "    for i in range(len(start_end[item])):\n",
    "        start_time = start_end[item][i][0]\n",
    "        stop_time = start_end[item][i][1]\n",
    "        mid_df = ca_df[(ca_df['EPOCH'] >= start_time) & (ca_df['EPOCH'] <= stop_time)]\n",
    "        max_alt = max(mid_df['alltitude'])\n",
    "        min_alt = min(mid_df['alltitude'])\n",
    "        ca_maneuver_alt.append(max_alt - min_alt)\n",
    "        ca_maneuver_time.append(((stop_time - start_time).total_seconds()) / (60 * 60))"
   ]
  },
  {
   "attachments": {},
   "cell_type": "markdown",
   "metadata": {},
   "source": [
    "## Start from this line"
   ]
  },
  {
   "cell_type": "code",
   "execution_count": null,
   "metadata": {},
   "outputs": [],
   "source": [
    "ca_maneuver_alt = np.load('./data/ca_maneuver_alt.npy',allow_pickle=True).tolist()\n",
    "ca_maneuver_time = np.load('./data/ca_maneuver_time.npy',allow_pickle=True).tolist()"
   ]
  },
  {
   "cell_type": "code",
   "execution_count": null,
   "metadata": {},
   "outputs": [
    {
     "data": {
      "text/plain": [
       "21.199575476011887"
      ]
     },
     "execution_count": 206,
     "metadata": {},
     "output_type": "execute_result"
    }
   ],
   "source": [
    "max(ca_maneuver_alt)"
   ]
  },
  {
   "cell_type": "code",
   "execution_count": null,
   "metadata": {},
   "outputs": [
    {
     "data": {
      "text/plain": [
       "count     34.000000\n",
       "mean     134.141621\n",
       "std       71.032626\n",
       "min       12.739208\n",
       "25%       92.747580\n",
       "50%      120.508376\n",
       "75%      181.625326\n",
       "max      369.420163\n",
       "dtype: float64"
      ]
     },
     "execution_count": 442,
     "metadata": {},
     "output_type": "execute_result"
    }
   ],
   "source": [
    "ca_time = pd.Series(ca_maneuver_time)\n",
    "ca_time.describe()"
   ]
  },
  {
   "cell_type": "code",
   "execution_count": null,
   "metadata": {},
   "outputs": [
    {
     "data": {
      "text/plain": [
       "count    34.000000\n",
       "mean      6.183981\n",
       "std       4.754447\n",
       "min       1.498825\n",
       "25%       3.051843\n",
       "50%       4.998075\n",
       "75%       6.618164\n",
       "max      21.199575\n",
       "dtype: float64"
      ]
     },
     "execution_count": 441,
     "metadata": {},
     "output_type": "execute_result"
    }
   ],
   "source": [
    "ca_alt = pd.Series(ca_maneuver_alt)\n",
    "ca_alt.describe()"
   ]
  }
 ],
 "metadata": {
  "kernelspec": {
   "display_name": "base",
   "language": "python",
   "name": "python3"
  },
  "language_info": {
   "codemirror_mode": {
    "name": "ipython",
    "version": 3
   },
   "file_extension": ".py",
   "mimetype": "text/x-python",
   "name": "python",
   "nbconvert_exporter": "python",
   "pygments_lexer": "ipython3",
   "version": "3.7.3"
  },
  "orig_nbformat": 4,
  "vscode": {
   "interpreter": {
    "hash": "61a57a4b5406d2de388e2f91097d4e4bcd7d5f4a46f53a795aa28a02eed27fc5"
   }
  }
 },
 "nbformat": 4,
 "nbformat_minor": 2
}
