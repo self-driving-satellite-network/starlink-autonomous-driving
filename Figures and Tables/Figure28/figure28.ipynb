{
 "cells": [
  {
   "cell_type": "code",
   "execution_count": 1,
   "id": "fab37399",
   "metadata": {},
   "outputs": [],
   "source": [
    "import numpy as np\n",
    "import pandas as pd\n",
    "import math\n",
    "from tletools import TLE\n",
    "import time\n",
    "import datetime\n",
    "import matplotlib.pyplot as plt\n",
    "import statsmodels.api as sm\n",
    "import csv\n",
    "from skyfield.api import load, wgs84\n",
    "from skyfield.api import EarthSatellite\n",
    "from skyfield.elementslib import OsculatingElements\n",
    "from skyfield.data import spice\n",
    "\n",
    "import matplotlib.pyplot as plt\n",
    "import matplotlib\n",
    "\n",
    "import json\n",
    "import matplotlib.dates as mdates"
   ]
  },
  {
   "attachments": {},
   "cell_type": "markdown",
   "id": "cf97854f",
   "metadata": {},
   "source": [
    "### No need to run"
   ]
  },
  {
   "cell_type": "code",
   "execution_count": 17,
   "id": "a13edc02",
   "metadata": {},
   "outputs": [
    {
     "name": "stdout",
     "output_type": "stream",
     "text": [
      "type:  <class 'dict'>\n",
      "type:  <class 'dict'>\n",
      "1701 ['2022-04-01 05:20:18', '1 47150U 20088AE  22091.22243163  .00004265  00000-0  30493-3 0  9991', '2 47150  53.0541 269.1438 0001347  72.7409 287.3727 15.06410475 75421', '6925.316'] ['2022-07-19 13:29:28', '1 47150U 20088AE  22200.56213824  .00002218  00000-0  16775-3 0  9994', '2 47150  53.0546 138.2970 0001607  66.7903 293.3255 15.06404129 91907', '6925.336']\n",
      "Number of satellite:  1701\n",
      "satellites:  1686\n"
     ]
    }
   ],
   "source": [
    "# 读取TLE数据\n",
    "tle_file = \"../../tle/\" + \"tle_starlink_3_month_0401_0712.npy\"\n",
    "tle_data = np.load(tle_file, allow_pickle=True)\n",
    "print(\"type: \", type(tle_data.item()))\n",
    "tle_item = tle_data.item()\n",
    "print(\"type: \", type(tle_item))\n",
    "tle = tle_item.items()\n",
    "d = {}\n",
    "for k,v in tle:\n",
    "    d[k] = v # v是多维的，两个月左右的数据，采样粒度可能有区别\n",
    "print(len(d), d['47150'][0], d['47150'][-1])\n",
    "\n",
    "# keys (satellites)\n",
    "keys = [key for key in d.keys()]\n",
    "print(\"Number of satellite: \", len(keys))\n",
    "keys = sorted(keys)\n",
    "\n",
    "# 判断时间范围\n",
    "ss = []\n",
    "for key in keys:\n",
    "    if d[key][0][0][:10]== '2022-04-01':\n",
    "        ss.append(key)\n",
    "# print(set(ss))\n",
    "keys = ss\n",
    "print(\"satellites: \", len(keys))"
   ]
  },
  {
   "cell_type": "code",
   "execution_count": 6,
   "id": "3abd4d65",
   "metadata": {},
   "outputs": [],
   "source": [
    "np.save('keys.npy',keys)"
   ]
  },
  {
   "cell_type": "code",
   "execution_count": 3,
   "id": "d78f2c74",
   "metadata": {},
   "outputs": [],
   "source": [
    "keys = np.load('./data/keys.npy',allow_pickle=True).tolist()"
   ]
  },
  {
   "cell_type": "code",
   "execution_count": 6,
   "id": "6397b7b5",
   "metadata": {},
   "outputs": [],
   "source": [
    "# 读入TLE预测位置信息\n",
    "cbf_file = \"../../tle/\" + \"pos_cbf_3_month.npy\"\n",
    "pos_file = \"../../tle/\" + \"pos_3_month.npy\"\n",
    "\n",
    "pos_cbf=np.load(cbf_file,allow_pickle=True).tolist()\n",
    "# print(type(pos_cbf[0][0][0]))\n",
    "# print(pos_cbf[0][0])\n",
    "# print(np.shape(pos_cbf))\n",
    "\n",
    "pos=np.load(pos_file,allow_pickle=True).tolist()\n",
    "# print(type(pos[0][0][0]))\n",
    "# print(pos[0][0])\n",
    "# print(np.shape(pos))"
   ]
  },
  {
   "cell_type": "code",
   "execution_count": 18,
   "id": "edd687b5",
   "metadata": {},
   "outputs": [
    {
     "name": "stdout",
     "output_type": "stream",
     "text": [
      "inclination range:  2 dict_keys([53.0, 70.0])\n"
     ]
    }
   ],
   "source": [
    "# 统计倾角变化范围\n",
    "def cal_inclination():\n",
    "    incs = {}\n",
    "    for i in range(len(keys)):\n",
    "        inc = []\n",
    "        for t,line1,line2,ellipse in d[keys[i]]:\n",
    "            tle_string = keys[i] + '\\n' + line1 + '\\n' + line2\n",
    "            tle_lines = tle_string.strip().splitlines()\n",
    "            tlee = TLE.from_lines(*tle_lines)\n",
    "            tmp_inc = round(tlee.inc, 0) # 取整数位\n",
    "            inc.append(tmp_inc)\n",
    "        inc = list(set(inc))\n",
    "        if len(inc) == 1:\n",
    "            if inc[0] not in incs:\n",
    "                incs[inc[0]] = [keys[i]]\n",
    "            else:\n",
    "                incs[inc[0]].append(keys[i])\n",
    "        # break\n",
    "    return incs\n",
    "sat_inc = cal_inclination()\n",
    "print(\"inclination range: \", len(sat_inc), sat_inc.keys())"
   ]
  },
  {
   "cell_type": "code",
   "execution_count": 9,
   "id": "9801e706",
   "metadata": {},
   "outputs": [
    {
     "name": "stdout",
     "output_type": "stream",
     "text": [
      "1650 [174.0, 250.0]\n"
     ]
    }
   ],
   "source": [
    "# 统计高度变化范围\n",
    "def cal_altitude(key):\n",
    "    r = []\n",
    "    sats = sat_inc[key]\n",
    "    for sat in sats:\n",
    "        tmp = []\n",
    "        i = sat\n",
    "        for lat,lon,alt in pos[i]:\n",
    "            tmp.append(round(alt,0))\n",
    "        ranges = [min(tmp), max(tmp)]\n",
    "        r.append(ranges)\n",
    "    r = sorted(r, key = lambda x:x[1])\n",
    "    return r\n",
    "\n",
    "alts = cal_altitude(53.0)\n",
    "print(len(alts), alts[0])"
   ]
  },
  {
   "cell_type": "code",
   "execution_count": 19,
   "id": "ec207e7d",
   "metadata": {},
   "outputs": [
    {
     "name": "stdout",
     "output_type": "stream",
     "text": [
      "(1409, 3) ['1', '5', '45182']\n",
      "1409\n",
      "shell_1:  1409\n",
      "shell_2:  241\n",
      "shell_3:  36\n",
      "total:  1686\n",
      "True\n"
     ]
    }
   ],
   "source": [
    "# 统计不同轨道面卫星分布及变轨情况\n",
    "file = \"../../tle/data/sat_orbits_filtered_3_month.csv\"\n",
    "df = pd.read_csv(file,header=None,sep='\\t')\n",
    "df.drop(labels=None,axis=0, index=0, columns=None, inplace=True)\n",
    "sat_data = df[0].str.split(',').values.tolist()\n",
    "print(np.shape(sat_data), sat_data[0])\n",
    "\n",
    "def save_csv(file, r):\n",
    "    with open(file,\"w\") as f: \n",
    "        for item in r:\n",
    "            f.write(item + '\\n')\n",
    "\n",
    "def establish_dict():\n",
    "    d = {}\n",
    "    for item in sat_data:\n",
    "        d[item[-1]] = int(item[0])\n",
    "    return d\n",
    "name2orbit = establish_dict()\n",
    "print(len(name2orbit))\n",
    "\n",
    "# shell 1\n",
    "shell_1 = []\n",
    "for item in sat_data:\n",
    "    shell_1.append(item[-1])\n",
    "print(\"shell_1: \", len(shell_1))\n",
    "\n",
    "# shell 2\n",
    "shell_2 = []\n",
    "for item in sat_inc[53.0]:\n",
    "    if item not in shell_1:\n",
    "        shell_2.append(item)\n",
    "print(\"shell_2: \", len(shell_2))\n",
    "\n",
    "# shell 3\n",
    "shell_3 = [item for item in sat_inc[70.0]]\n",
    "print(\"shell_3: \", len(shell_3))\n",
    "\n",
    "print(\"total: \", len(shell_1) + len(shell_2) + len(shell_3))\n",
    "\n",
    "def name_to_shell():\n",
    "    d = {}\n",
    "    for sat in shell_1:\n",
    "        d[sat] = 1\n",
    "    for sat in shell_2:\n",
    "        d[sat] = 2\n",
    "    for sat in shell_3:\n",
    "        d[sat] = 3\n",
    "    return d\n",
    "name2shell = name_to_shell()\n",
    "print(len(name2shell) == len(keys))\n",
    "shells = [len(shell_1), len(shell_2), len(shell_3)]\n",
    "\n",
    "# 保存文件\n",
    "# save_csv(\"./data/sat_shell_1.txt\", shell_1)\n",
    "# save_csv(\"./data/sat_shell_2.txt\", shell_2)\n",
    "# save_csv(\"./data/sat_shell_3.txt\", shell_3)"
   ]
  },
  {
   "cell_type": "code",
   "execution_count": 20,
   "id": "7e32886a",
   "metadata": {},
   "outputs": [],
   "source": [
    "np.save('shells.npy',shells)\n",
    "np.save('name2orbit.npy',name2orbit)"
   ]
  },
  {
   "attachments": {},
   "cell_type": "markdown",
   "id": "5fc7056c",
   "metadata": {},
   "source": [
    "### Start from this line"
   ]
  },
  {
   "cell_type": "code",
   "execution_count": 4,
   "id": "59d8b94f",
   "metadata": {},
   "outputs": [],
   "source": [
    "keys = np.load('../Figure26/data/keys.npy',allow_pickle=True).tolist()\n",
    "shells = np.load('../Figure26/data/shells.npy',allow_pickle=True).tolist()\n",
    "name2orbit = np.load('../Figure26/data/name2orbit.npy',allow_pickle=True).item()"
   ]
  },
  {
   "cell_type": "code",
   "execution_count": 9,
   "id": "795dd71c",
   "metadata": {},
   "outputs": [],
   "source": [
    "shell_1 = list(np.array(pd.read_csv('../Figure26/data/sat_shell_1.txt')).reshape(1408))\n",
    "shell_2 = list(np.array(pd.read_csv('../Figure26/data/sat_shell_2.txt')).reshape(240))\n",
    "shell_3 = list(np.array(pd.read_csv('../Figure26/data/sat_shell_3.txt')).reshape(35))"
   ]
  },
  {
   "cell_type": "markdown",
   "id": "4dc85bf0",
   "metadata": {},
   "source": [
    "## 变轨相关统计"
   ]
  },
  {
   "cell_type": "code",
   "execution_count": 10,
   "id": "10ccda10",
   "metadata": {},
   "outputs": [
    {
     "name": "stdout",
     "output_type": "stream",
     "text": [
      "['45568', '45579', '46168', '46326', '46334', '46364', '46671', '46712', '46756', '46757', '46770', '46789', '47138', '47139', '47153', '47372', '47384', '47393', '47394', '47399', '47645', '47646', '47660', '47663', '47666', '47722', '47729', '47732', '47735', '47738', '47768', '47805', '47827', '47836', '47901', '47911', '47913', '47980', '47985', '47995', '47998', '48000', '48002', '48014', '48016', '48018', '48020', '48022', '48028', '48092', '48093', '48112', '48125', '48128', '48135', '48292', '48364', '48368', '48395', '48412', '48432', '48433', '48434', '48458', '48459', '48462', '48481', '48484', '48561', '48575', '48578', '48582', '48594', '48640', '48648', '48666', '48681', '48682', '48684', '48686', '48692'] 81\n"
     ]
    }
   ],
   "source": [
    "# 读入变轨卫星信息（所有）\n",
    "def read_txt(file):\n",
    "    r = []\n",
    "    with open(file, \"r\") as f:  \n",
    "        line = f.readline()\n",
    "        while line:\n",
    "            #if line.strip('\\n') in filtered_keys:\n",
    "            r.append(line.strip('\\n'))\n",
    "            line = f.readline()\n",
    "    return r\n",
    "task_maneuver = read_txt(\"../Figure26/data/task_maneuver.txt\")\n",
    "# task_maneuver = read_txt(\"./data/maneuver.txt\")\n",
    "print(task_maneuver, len(task_maneuver))"
   ]
  },
  {
   "attachments": {},
   "cell_type": "markdown",
   "id": "4bddfe41",
   "metadata": {},
   "source": [
    "### No need to run "
   ]
  },
  {
   "cell_type": "code",
   "execution_count": 14,
   "id": "31b8240d",
   "metadata": {},
   "outputs": [
    {
     "name": "stdout",
     "output_type": "stream",
     "text": [
      "[59, 22, 0]\n"
     ]
    }
   ],
   "source": [
    "# 统计变轨卫星轨道面分布\n",
    "def cal_maneuver_distribution(mu):\n",
    "    r = [0, 0, 0]\n",
    "    for sat in mu:\n",
    "        shell = name2shell[sat]\n",
    "        r[shell-1] += 1\n",
    "    return r\n",
    "mu_dis = cal_maneuver_distribution(task_maneuver)\n",
    "print(mu_dis)"
   ]
  },
  {
   "cell_type": "code",
   "execution_count": 15,
   "id": "51a93329",
   "metadata": {},
   "outputs": [],
   "source": [
    "np.save('mu_dis.npy',mu_dis)"
   ]
  },
  {
   "attachments": {},
   "cell_type": "markdown",
   "id": "d25a3976",
   "metadata": {},
   "source": [
    "### Start from this line"
   ]
  },
  {
   "cell_type": "code",
   "execution_count": 11,
   "id": "7e535316",
   "metadata": {},
   "outputs": [],
   "source": [
    "mu_dis = np.load('../Figure26/data/mu_dis.npy',allow_pickle=True).tolist()"
   ]
  },
  {
   "cell_type": "markdown",
   "id": "41ea78e7",
   "metadata": {},
   "source": [
    "### 变轨时长统计"
   ]
  },
  {
   "cell_type": "code",
   "execution_count": 18,
   "id": "23830be7",
   "metadata": {},
   "outputs": [
    {
     "name": "stdout",
     "output_type": "stream",
     "text": [
      "<class 'dict'>\n",
      "273\n",
      "80\n"
     ]
    }
   ],
   "source": [
    "# 读入卫星变轨时间\n",
    "def read_json():\n",
    "    file = '../Figure26/data/maneuver_time.json'\n",
    "    with open(file, 'r') as f:\n",
    "        data = json.load(f)\n",
    "    data = json.loads(data)\n",
    "    print(type(data))\n",
    "    return data\n",
    "\n",
    "mu_json = read_json()\n",
    "print(len(mu_json))\n",
    "\n",
    "def cal_maneuver_time(data, mu):\n",
    "    d, r = {}, []\n",
    "    for key in data:\n",
    "        if key in mu:\n",
    "            tmp = data[key]\n",
    "            for item in tmp:\n",
    "                start = datetime.datetime.strptime(item[0][:19], '%Y-%m-%d %H:%M:%S')\n",
    "                stop = datetime.datetime.strptime(item[1][:19], '%Y-%m-%d %H:%M:%S')\n",
    "                r.append(round(((stop - start).days * 86400 + (stop - start).seconds) / 86400, 2) ) # day\n",
    "    return r\n",
    "    \n",
    "mu_time = cal_maneuver_time(mu_json, task_maneuver)\n",
    "print(len(mu_time))"
   ]
  },
  {
   "cell_type": "code",
   "execution_count": 19,
   "id": "ee02c491",
   "metadata": {},
   "outputs": [
    {
     "name": "stdout",
     "output_type": "stream",
     "text": [
      "maneuver interval:  8.58 21.49 43.97\n",
      "8.58 [0.0125 0.0125 0.0125 0.025  0.025  0.025  0.025  0.05   0.05   0.0625]\n"
     ]
    },
    {
     "data": {
      "image/png": "[encoded data removed]",
      "text/plain": [
       "<Figure size 360x187.2 with 1 Axes>"
      ]
     },
     "metadata": {
      "needs_background": "light"
     },
     "output_type": "display_data"
    }
   ],
   "source": [
    "# 绘制时间分布cdf\n",
    "def plot_mu_time(r):\n",
    "    print(\"maneuver interval: \", min(r[0]), np.mean(r[0]), max(r[0]))\n",
    "    \n",
    "    # cdf\n",
    "    fig = plt.figure(figsize=(5, 2.6))\n",
    "    font2 = {'family' : 'Arial',\n",
    "    'weight' : 'normal',\n",
    "    'size'   : 22,\n",
    "    }\n",
    "    ecdf, x, y = [], [], []\n",
    "    for i in range(len(r)):\n",
    "        ecdf.append(sm.distributions.ECDF(r[i]))\n",
    "        x.append(np.linspace(min(r[i]), max(r[i]),num=200))\n",
    "        y.append(ecdf[i](x[i]))\n",
    "    \n",
    "    # colors = ['#000000', '#b30000']\n",
    "    lines = ['-', '--']\n",
    "    labels = ['limitless isl (np)', 'limitless isl (p)', '+Grid (np)', '+Grid (p)']\n",
    "\n",
    "    # right=91.0125\n",
    "    # plt.xlim(0,right)\n",
    "    plt.xlabel(\"Maneuver duration (day)\", fontsize = 18)\n",
    "    plt.ylabel(\"CDF\", fontsize = 18)\n",
    "    plt.tick_params(labelsize=18)\n",
    "    \n",
    "    for i in range(len(r)):\n",
    "        print(x[i][0], y[i][:10])\n",
    "        plt.step(x[i], y[i], lines[i], linewidth=4, label=labels[i]) # color=colors[i], \n",
    "    \n",
    "    # plt.plot([x_d[-1],right],[1,1],'--',color=color,linewidth=4)\n",
    "    # plt.plot([x_h[-1],right],[1,1],'-',color=color,linewidth=4)\n",
    "      \n",
    "    # plt.legend(frameon=True, prop=font3, loc=4, labelspacing=0.1)# ,labelspacing=0.1,columnspacing=0.4,ncol=2,loc=3,bbox_to_anchor=(0.032,0.001))  # ,bbox_to_anchor=(0.33,0.82) bbox_to_anchor=(0.73,0.92) bbox_to_anchor=(1.03,0.82)\n",
    "    plt.savefig(\"maneuver_time_v1.pdf\",dpi=300,bbox_inches = 'tight')\n",
    "    plt.show()\n",
    "plot_mu_time([mu_time])"
   ]
  },
  {
   "cell_type": "code",
   "execution_count": 20,
   "id": "bf0a031e",
   "metadata": {},
   "outputs": [
    {
     "name": "stdout",
     "output_type": "stream",
     "text": [
      "['2022-05-12', '2022-06-03', '2022-05-18', '2022-05-24', '2022-05-21', '2022-05-10', '2022-05-24', '2022-05-10', '2022-05-18', '2022-05-18', '2022-05-07', '2022-05-28', '2022-05-21', '2022-05-27', '2022-05-28', '2022-05-22', '2022-05-25', '2022-05-18', '2022-06-03', '2022-05-24', '2022-05-24', '2022-05-18', '2022-05-07', '2022-05-18', '2022-05-19', '2022-05-28', '2022-05-19', '2022-05-28', '2022-06-03', '2022-05-21', '2022-05-19', '2022-05-25', '2022-05-10', '2022-05-28', '2022-05-21', '2022-05-27', '2022-05-12', '2022-05-28', '2022-05-28', '2022-05-21', '2022-05-27', '2022-05-10', '2022-05-21', '2022-05-27', '2022-05-28', '2022-05-19', '2022-05-19', '2022-05-18', '2022-05-21', '2022-05-27', '2022-06-02', '2022-05-25', '2022-05-25', '2022-06-04', '2022-05-26', '2022-05-21', '2022-05-21', '2022-05-06', '2022-05-19', '2022-05-18', '2022-05-10', '2022-05-06', '2022-05-18', '2022-05-18', '2022-05-22', '2022-05-05', '2022-05-07', '2022-05-24', '2022-05-21', '2022-05-07', '2022-05-21', '2022-05-06', '2022-05-22', '2022-06-02', '2022-05-05', '2022-05-24', '2022-06-02', '2022-05-11', '2022-05-21', '2022-05-21'] {'2022-05-12': 2, '2022-06-03': 3, '2022-05-18': 10, '2022-05-24': 6, '2022-05-21': 13, '2022-05-10': 5, '2022-05-07': 4, '2022-05-28': 8, '2022-05-27': 5, '2022-05-22': 3, '2022-05-25': 4, '2022-05-19': 6, '2022-06-02': 3, '2022-06-04': 1, '2022-05-26': 1, '2022-05-06': 3, '2022-05-05': 2, '2022-05-11': 1}\n"
     ]
    }
   ],
   "source": [
    "# 根据变轨起始时间，分析变轨同步性\n",
    "def cal_maneuver_start(data, mu):\n",
    "    d, r = {}, []\n",
    "    for key in data:\n",
    "        if key in mu:\n",
    "            tmp = data[key]\n",
    "            for item in tmp:\n",
    "                # start = datetime.datetime.strptime(item[0][:19], '%Y-%m-%d %H:%M:%S')\n",
    "                r.append(item[0][:10]) # day\n",
    "    for item in r:\n",
    "        if item in d:\n",
    "            d[item] += 1\n",
    "        else:\n",
    "            d[item] = 1\n",
    "    return r, d\n",
    "\n",
    "mu_start, mu_d = cal_maneuver_start(mu_json, task_maneuver)\n",
    "print(mu_start, mu_d)"
   ]
  },
  {
   "cell_type": "code",
   "execution_count": 21,
   "id": "6b7d83a5",
   "metadata": {},
   "outputs": [],
   "source": [
    "# 生成时间序列数组\n",
    "def generate_time_series(start, end):\n",
    "    current = datetime.datetime.strptime(start, '%Y-%m-%d %H:%M:%S')\n",
    "    end_item = datetime.datetime.strptime(end, '%Y-%m-%d %H:%M:%S')\n",
    "    time_delta = datetime.timedelta(seconds=86400) # modify\n",
    "    time_series = [current]\n",
    "    while current < end_item:\n",
    "        next = current + time_delta\n",
    "        time_series.append(next)\n",
    "        current = next\n",
    "    return time_series"
   ]
  },
  {
   "cell_type": "code",
   "execution_count": 24,
   "id": "34fa3d06",
   "metadata": {},
   "outputs": [
    {
     "name": "stdout",
     "output_type": "stream",
     "text": [
      "-1\n"
     ]
    }
   ],
   "source": [
    "a = datetime.datetime.strptime(\"2022-4-1 0:0:0\", '%Y-%m-%d %H:%M:%S')\n",
    "b = datetime.datetime.strptime(\"2022-4-1 0:0:1\", '%Y-%m-%d %H:%M:%S')\n",
    "print((a-b).days)"
   ]
  },
  {
   "cell_type": "code",
   "execution_count": 22,
   "id": "178702d0",
   "metadata": {},
   "outputs": [
    {
     "name": "stdout",
     "output_type": "stream",
     "text": [
      "110 [0, 0, 0, 0, 0, 0, 0, 0, 0, 0, 0, 0, 0, 0, 0, 0, 0, 0, 0, 0, 0, 0, 0, 0, 0, 0, 0, 0, 0, 0, 0, 0, 0, 0, 0, 2, 5, 9, 9, 9, 14, 15, 17, 17, 16, 16, 16, 16, 26, 32, 32, 45, 47, 47, 53, 57, 57, 61, 67, 65, 64, 63, 61, 64, 67, 67, 65, 63, 60, 59, 57, 55, 50, 46, 32, 23, 17, 15, 15, 15, 9, 2, 0, 0, 0, 0, 0, 0, 0, 0, 0, 0, 0, 0, 0, 0, 0, 0, 0, 0, 0, 0, 0, 0, 0, 0, 0, 0, 0, 0]\n"
     ]
    }
   ],
   "source": [
    "# 统计每天变轨的卫星数\n",
    "def cal_maneuver_day(data, mu):\n",
    "    time_scale = generate_time_series(\"2022-4-1 0:0:0\", \"2022-7-19 23:59:59\")[:-1]\n",
    "    # begin = datetime.datetime.strptime('2022-4-1 0:0:0', '%Y-%m-%d %H:%M:%S')\n",
    "    r = [0] * len(time_scale)\n",
    "    for key in data:\n",
    "        if key in mu:\n",
    "            tmp = data[key]\n",
    "            for item in tmp:\n",
    "                left = datetime.datetime.strptime(item[0][:19], '%Y-%m-%d %H:%M:%S')\n",
    "                right = datetime.datetime.strptime(item[1][:19], '%Y-%m-%d %H:%M:%S')\n",
    "                for i in range(len(time_scale)):\n",
    "                    if left <= time_scale[i] <= right:\n",
    "                        r[i] += 1\n",
    "                    \n",
    "    return r\n",
    "\n",
    "mu_day = cal_maneuver_day(mu_json, task_maneuver)\n",
    "print(len(mu_day), mu_day)"
   ]
  },
  {
   "cell_type": "code",
   "execution_count": 23,
   "id": "fccd8516",
   "metadata": {},
   "outputs": [
    {
     "data": {
      "image/png": "[encoded data removed]",
      "text/plain": [
       "<Figure size 1008x180 with 1 Axes>"
      ]
     },
     "metadata": {
      "needs_background": "light"
     },
     "output_type": "display_data"
    }
   ],
   "source": [
    "# 绘制每天变轨的卫星\n",
    "def plot_maneuver_day():\n",
    "    fig = plt.figure(figsize=(14, 2.5))\n",
    "    ax = fig.add_subplot(1,1,1)\n",
    "    font2 = {'family' : 'Arial',\n",
    "    'weight' : 'normal',\n",
    "    'size'   : 18,\n",
    "    }\n",
    "    colors = [\"#00A491\",\"#FFCD43\",\"#FF592D\",\"#3787C0\"]\n",
    "#     keys = [key for key in mu_d]\n",
    "#     keys.sort()\n",
    "#     label_list = [key for key in keys]\n",
    "    labels = ['without maneuver', 'with maneuver']\n",
    "    num_list1 = mu_day\n",
    "    x = generate_time_series(\"2022-4-1 0:0:0\", \"2022-7-19 23:59:59\")[:-1]\n",
    "    rects1 = plt.bar(x, height=num_list1, width=0.45, color=colors[0], alpha=0.8, label=labels[0])\n",
    "    ax.xaxis.set_major_formatter(mdates.DateFormatter('%m-%d'))\n",
    "    # plt.ylim(0, 1500)\n",
    "    plt.ylabel(\"Num. satellites\",fontsize=20)\n",
    "    #plt.xticks(rotation=15)\n",
    "    #plt.xlabel(\"Time\",fontsize=18)\n",
    "    plt.tick_params(labelsize=18)\n",
    "    # plt.legend(prop=font2)\n",
    "    plt.savefig(\"maneuver_day_v2.pdf\",dpi=300,bbox_inches = 'tight')\n",
    "    plt.show()\n",
    "plot_maneuver_day()"
   ]
  },
  {
   "cell_type": "code",
   "execution_count": null,
   "id": "d0cf7c35",
   "metadata": {},
   "outputs": [],
   "source": []
  }
 ],
 "metadata": {
  "kernelspec": {
   "display_name": "Python 3",
   "language": "python",
   "name": "python3"
  },
  "language_info": {
   "codemirror_mode": {
    "name": "ipython",
    "version": 3
   },
   "file_extension": ".py",
   "mimetype": "text/x-python",
   "name": "python",
   "nbconvert_exporter": "python",
   "pygments_lexer": "ipython3",
   "version": "3.9.7"
  },
  "vscode": {
   "interpreter": {
    "hash": "81794d4967e6c3204c66dcd87b604927b115b27c00565d3d43f05ba2f3a2cb0d"
   }
  }
 },
 "nbformat": 4,
 "nbformat_minor": 5
}
