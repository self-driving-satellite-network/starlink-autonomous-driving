{
 "cells": [
  {
   "cell_type": "code",
   "execution_count": 1,
   "metadata": {},
   "outputs": [],
   "source": [
    "##要执行的我会在代码段前注释“第i步”\n",
    "#第一步\n",
    "import numpy\n",
    "import pandas as pd\n",
    "import datetime\n",
    "import json\n",
    "import os\n",
    "import xlrd# 安装xlrd == 1.2.0 版本太高会出错\n",
    "import numpy as np\n",
    "import matplotlib.pyplot as plt\n",
    "import copy\n",
    "from skyfield.api import load, EarthSatellite\n",
    "from skyfield.api import wgs84\n",
    "from matplotlib.pyplot import MultipleLocator\n",
    "import matplotlib.ticker as mtick\n",
    "import matplotlib.dates as mdates"
   ]
  },
  {
   "attachments": {},
   "cell_type": "markdown",
   "metadata": {},
   "source": [
    "## No need to run"
   ]
  },
  {
   "cell_type": "code",
   "execution_count": 2,
   "metadata": {},
   "outputs": [],
   "source": [
    "def get_allfile(path):  # 获取所有文件\n",
    "    all_file = []\n",
    "    for f in os.listdir(path):  #listdir返回文件中所有目录\n",
    "        f_name = os.path.join(path, f)\n",
    "        all_file.append(f_name)\n",
    "    return all_file"
   ]
  },
  {
   "cell_type": "code",
   "execution_count": 3,
   "metadata": {},
   "outputs": [],
   "source": [
    "#第三步\n",
    "#从TLE中提取相关字段到tle列表中\n",
    "tle=[]\n",
    "key_wanted=[\"NORAD_CAT_ID\",\"OBJECT_NAME\",\"EPOCH\",\"INCLINATION\",\"TLE_LINE1\",\"TLE_LINE2\",\"SEMIMAJOR_AXIS\"]\n",
    "tickets = r\"../../Dataset/starlink/\"\n",
    "all_file=get_allfile(tickets)  #tickets要获取文件夹名\n",
    "for i in range(len(all_file)):\n",
    "    filename=r\"%s\"%all_file[i]\n",
    "    #print(filename)\n",
    "    with open(filename) as f:\n",
    "        temp=json.load(f)\n",
    "        for item in temp:\n",
    "            item[\"NORAD_CAT_ID\"]=int(item[\"NORAD_CAT_ID\"])\n",
    "            item[\"SEMIMAJOR_AXIS\"] = float(item[\"SEMIMAJOR_AXIS\"])\n",
    "            item[\"EPOCH\"]=datetime.datetime.strptime('%s.%s'%(item[\"EPOCH\"],item[\"EPOCH_MICROSECONDS\"]),\"%Y-%m-%d %H:%M:%S.%f\")\n",
    "            temp2=dict((key,value) for key, value in item.items() if key in key_wanted)\n",
    "            tle.append(temp2)\n",
    "df=pd.DataFrame(tle)\n",
    "\n",
    "#提取到tle后按“NORAD_CAT_ID”分组，并按EPOCH的逆序排序\n",
    "group = df.groupby(\"NORAD_CAT_ID\")\n",
    "starlink_dict = {}\n",
    "for dfGroupBy in group:\n",
    "    df_dict_key = dfGroupBy[0]\n",
    "    df_dict_value = pd.DataFrame(dfGroupBy[1])\n",
    "    starlink_dict[df_dict_key] = df_dict_value.sort_values(by='EPOCH',ascending=False)\n",
    "#print(starlink_dict['STARLINK-3282'])"
   ]
  },
  {
   "cell_type": "code",
   "execution_count": 4,
   "metadata": {},
   "outputs": [
    {
     "name": "stdout",
     "output_type": "stream",
     "text": [
      "0\n",
      "1\n",
      "2\n",
      "3\n"
     ]
    },
    {
     "ename": "ValueError",
     "evalue": "could not convert string to float: '2 44238  53.0066 321.3434 0000458  21.3132 338.7890 15.39630065174752'",
     "output_type": "error",
     "traceback": [
      "\u001b[0;31m---------------------------------------------------------------------------\u001b[0m",
      "\u001b[0;31mValueError\u001b[0m                                Traceback (most recent call last)",
      "\u001b[0;32m<ipython-input-4-3a2a752fc5aa>\u001b[0m in \u001b[0;36m<module>\u001b[0;34m\u001b[0m\n\u001b[1;32m      6\u001b[0m     \u001b[0mstarlink_dataframe\u001b[0m \u001b[0;34m=\u001b[0m \u001b[0mstarlink_dataframe\u001b[0m\u001b[0;34m[\u001b[0m\u001b[0mstarlink_dataframe\u001b[0m\u001b[0;34m[\u001b[0m\u001b[0;34m'EPOCH'\u001b[0m\u001b[0;34m]\u001b[0m \u001b[0;34m>\u001b[0m \u001b[0mdatetime\u001b[0m\u001b[0;34m.\u001b[0m\u001b[0mdatetime\u001b[0m\u001b[0;34m(\u001b[0m\u001b[0;36m2022\u001b[0m\u001b[0;34m,\u001b[0m\u001b[0;36m4\u001b[0m\u001b[0;34m,\u001b[0m\u001b[0;36m1\u001b[0m\u001b[0;34m)\u001b[0m\u001b[0;34m]\u001b[0m\u001b[0;34m\u001b[0m\u001b[0;34m\u001b[0m\u001b[0m\n\u001b[1;32m      7\u001b[0m     \u001b[0;32mif\u001b[0m\u001b[0;34m(\u001b[0m\u001b[0mlen\u001b[0m\u001b[0;34m(\u001b[0m\u001b[0mstarlink_dataframe\u001b[0m\u001b[0;34m)\u001b[0m \u001b[0;34m==\u001b[0m \u001b[0;36m0\u001b[0m\u001b[0;34m)\u001b[0m\u001b[0;34m:\u001b[0m\u001b[0;32mcontinue\u001b[0m\u001b[0;34m\u001b[0m\u001b[0;34m\u001b[0m\u001b[0m\n\u001b[0;32m----> 8\u001b[0;31m     \u001b[0maxis_1\u001b[0m \u001b[0;34m=\u001b[0m \u001b[0mfloat\u001b[0m\u001b[0;34m(\u001b[0m\u001b[0mstarlink_dataframe\u001b[0m\u001b[0;34m.\u001b[0m\u001b[0miloc\u001b[0m\u001b[0;34m[\u001b[0m\u001b[0;36m0\u001b[0m\u001b[0;34m,\u001b[0m\u001b[0;36m6\u001b[0m\u001b[0;34m]\u001b[0m\u001b[0;34m)\u001b[0m\u001b[0;34m\u001b[0m\u001b[0;34m\u001b[0m\u001b[0m\n\u001b[0m\u001b[1;32m      9\u001b[0m     \u001b[0maxis_2\u001b[0m \u001b[0;34m=\u001b[0m \u001b[0mfloat\u001b[0m\u001b[0;34m(\u001b[0m\u001b[0mstarlink_dataframe\u001b[0m\u001b[0;34m.\u001b[0m\u001b[0miloc\u001b[0m\u001b[0;34m[\u001b[0m\u001b[0mlen\u001b[0m\u001b[0;34m(\u001b[0m\u001b[0mstarlink_dataframe\u001b[0m\u001b[0;34m)\u001b[0m \u001b[0;34m-\u001b[0m \u001b[0;36m1\u001b[0m\u001b[0;34m,\u001b[0m\u001b[0;36m6\u001b[0m\u001b[0;34m]\u001b[0m\u001b[0;34m)\u001b[0m\u001b[0;34m\u001b[0m\u001b[0;34m\u001b[0m\u001b[0m\n\u001b[1;32m     10\u001b[0m     \u001b[0;32mif\u001b[0m\u001b[0;34m(\u001b[0m\u001b[0mabs\u001b[0m\u001b[0;34m(\u001b[0m\u001b[0maxis_1\u001b[0m \u001b[0;34m-\u001b[0m \u001b[0maxis_2\u001b[0m\u001b[0;34m)\u001b[0m \u001b[0;34m>=\u001b[0m \u001b[0;36m10\u001b[0m\u001b[0;34m)\u001b[0m\u001b[0;34m:\u001b[0m\u001b[0;32mcontinue\u001b[0m\u001b[0;34m\u001b[0m\u001b[0;34m\u001b[0m\u001b[0m\n",
      "\u001b[0;31mValueError\u001b[0m: could not convert string to float: '2 44238  53.0066 321.3434 0000458  21.3132 338.7890 15.39630065174752'"
     ]
    }
   ],
   "source": [
    "maneuver = {}\n",
    "for i in range(len(starlink_dict.keys())):#len(starlink_dict.keys())\n",
    "    print(i)\n",
    "    starlink_maneuver = {}\n",
    "    starlink_dataframe = starlink_dict[list(starlink_dict.keys())[i]]\n",
    "    starlink_dataframe = starlink_dataframe[starlink_dataframe['EPOCH'] > datetime.datetime(2022,4,1)]\n",
    "    if(len(starlink_dataframe) == 0):continue\n",
    "    axis_1 = float(starlink_dataframe.iloc[0,6])\n",
    "    axis_2 = float(starlink_dataframe.iloc[len(starlink_dataframe) - 1,6])\n",
    "    if(abs(axis_1 - axis_2) >= 10):continue\n",
    "    for j in range(len(starlink_dataframe)):\n",
    "        axis_sum = 0\n",
    "        num_sum = 0\n",
    "        for k in range(5):\n",
    "            if(j + k >= len(starlink_dataframe)):break\n",
    "            num_sum = num_sum + 1\n",
    "            axis_sum = axis_sum + float(starlink_dataframe.iloc[j + k,6])\n",
    "        for seq in range(5):\n",
    "            if(j + seq >= len(starlink_dataframe)):break\n",
    "            new_axis_sum = axis_sum - float(starlink_dataframe.iloc[j + seq,6])\n",
    "            if(num_sum - 1 == 0):continue\n",
    "            axis_avg = new_axis_sum / (num_sum - 1)\n",
    "            if(abs(float(starlink_dataframe.iloc[j + seq,6]) - axis_avg) >= 1):\n",
    "                starlink_maneuver[starlink_dataframe.iloc[j + seq,2]] = float(starlink_dataframe.iloc[j + seq,6])\n",
    "    maneuver[list(starlink_dict.keys())[i]] = starlink_maneuver\n",
    "\n",
    "    "
   ]
  },
  {
   "cell_type": "code",
   "execution_count": null,
   "metadata": {},
   "outputs": [],
   "source": [
    "def ismaneuver(key,start_time,stop_time):\n",
    "    df = starlink_dict[key]\n",
    "    df = df[(start_time <= df['EPOCH']) & (df['EPOCH'] <= stop_time)]\n",
    "    df_axis_list = []\n",
    "    for i in range(len(df)):\n",
    "        df_axis_list.append(df.iloc[i,6])\n",
    "    df_axis_max = max(df_axis_list)\n",
    "    #print(df_axis_max)\n",
    "    df_axis_min = min(df_axis_list)\n",
    "    #print(df_axis_min)\n",
    "    if((df_axis_max - df_axis_min) < 1):return False\n",
    "    else:return True"
   ]
  },
  {
   "cell_type": "code",
   "execution_count": null,
   "metadata": {},
   "outputs": [],
   "source": [
    "start_end={}\n",
    "for key in maneuver.keys():\n",
    "    if(maneuver[key] == {}):continue\n",
    "    tmp_man=list(sorted(maneuver[key].keys()))\n",
    "    starlink_df = starlink_dict[key]\n",
    "    starlink_df = starlink_df[starlink_df['EPOCH'] > datetime.datetime(2022,4,1)]\n",
    "    #print(np.array(starlink_df[\"SEMIMAJOR_AXIS\"]))\n",
    "    semi=np.median(np.array(starlink_df[\"SEMIMAJOR_AXIS\"]))\n",
    "    start=[]\n",
    "    end=[]\n",
    "    for i in range(len(tmp_man)):\n",
    "        item=tmp_man[i]\n",
    "        tmp_start=starlink_df[starlink_df['EPOCH'] < item]\n",
    "        tmp_start=tmp_start[abs(tmp_start['SEMIMAJOR_AXIS']-semi)<0.2]\n",
    "        t=tmp_start['EPOCH'].max()\n",
    "        if t not in start:\n",
    "            if len(start)!=0:\n",
    "                if abs((start[-1]-t).total_seconds())>3600*12:\n",
    "                    start.append(t)\n",
    "            else:\n",
    "                start.append(t)\n",
    "        \n",
    "        tmp_end=starlink_df[starlink_df['EPOCH'] > item]\n",
    "        tmp_end=tmp_end[abs(tmp_end['SEMIMAJOR_AXIS']-semi)<0.2]\n",
    "        t=tmp_end['EPOCH'].min()\n",
    "        if t not in end :\n",
    "            if len(end)!=0:\n",
    "                if abs((end[-1]-t).total_seconds())>3600*12:\n",
    "                    end.append(t)\n",
    "                else:\n",
    "                    end[-1]=t\n",
    "            else:\n",
    "                end.append(t)\n",
    "    if(key == 48014):\n",
    "        print(start)\n",
    "        print(end)\n",
    "    start = sorted(start)\n",
    "    end = sorted(end,reverse=True)\n",
    "    del_list1 = []\n",
    "    flag1 = 0\n",
    "    for l1 in range(1,len(start)):\n",
    "        if((start[l1] - start[flag1]) < datetime.timedelta(days=20)):\n",
    "            del_list1.append(start[l1])\n",
    "        else:\n",
    "            flag1 = l1\n",
    "    for l1 in range(len(del_list1)):\n",
    "        start.remove(del_list1[l1])\n",
    "    del_list2 = []\n",
    "    flag2 = 0\n",
    "    for l2 in range(1,len(end)):\n",
    "        if((end[flag2] - end[l2]) < datetime.timedelta(days=20)):\n",
    "            del_list2.append(end[l2])\n",
    "        else:\n",
    "            flag2 = l2\n",
    "    for l2 in range(len(del_list2)):\n",
    "        end.remove(del_list2[l2])\n",
    "    end.reverse()\n",
    "    if(key == 48014):\n",
    "        print(start)\n",
    "        print(end)\n",
    "    result = []\n",
    "    i#f(len(start) != len(end)):\n",
    "    for x in range(len(start)):\n",
    "        time_min = datetime.timedelta(days = 999)\n",
    "        time_ind = 'a'\n",
    "        for y in range(len(end)):\n",
    "            if(end[y] <= start[x]):continue\n",
    "            else:\n",
    "                if((end[y] - start[x]) < time_min):\n",
    "                    #print(datetime.datetime.strptime(str(start[x]),\"%Y-%m-%d %H:%M:%S.%f\"))\n",
    "                    if(ismaneuver(key,datetime.datetime.strptime(str(start[x]),\"%Y-%m-%d %H:%M:%S.%f\"),datetime.datetime.strptime(str(end[y]),\"%Y-%m-%d %H:%M:%S.%f\"))):\n",
    "                        time_min = end[y] - start[x]\n",
    "                        time_ind = y\n",
    "        if(time_ind == 'a'):continue\n",
    "        result.append([start[x],end[time_ind]])\n",
    "    # else:\n",
    "    #     for x in range(len(start)):\n",
    "    #         result.append([start[x],end[x]])\n",
    "    start_end[key]=result"
   ]
  },
  {
   "cell_type": "code",
   "execution_count": null,
   "metadata": {},
   "outputs": [],
   "source": [
    "task_maneuver = []\n",
    "for i in range(len(maneuver.keys())):\n",
    "    if(maneuver[list(maneuver.keys())[i]] == {}):continue\n",
    "    starlink_dataframe = starlink_dict[list(maneuver.keys())[i]]\n",
    "    starlink_dataframe = starlink_dataframe[starlink_dataframe['EPOCH'] > datetime.datetime(2022,4,1)]\n",
    "    if(len(starlink_dataframe) == 0):continue\n",
    "    axis_1 = float(starlink_dataframe.iloc[0,6])\n",
    "    axis_2 = float(starlink_dataframe.iloc[len(starlink_dataframe) - 1,6])\n",
    "    if(abs(axis_1 - axis_2) >= 10):continue\n",
    "    time_num = 0\n",
    "    for j in range(len(starlink_dataframe)):\n",
    "        if(float(starlink_dataframe.iloc[j,6]) > 6932.5):\n",
    "            for k in range(len(starlink_dataframe)):\n",
    "                if((j + k) >= len(starlink_dataframe)):break\n",
    "                if(float(starlink_dataframe.iloc[j + k,6]) < 6932.5):break\n",
    "            if(k > 5):\n",
    "                if(starlink_dataframe.iloc[0,0] not in task_maneuver):\n",
    "                    task_maneuver.append(starlink_dataframe.iloc[0,0])"
   ]
  },
  {
   "cell_type": "code",
   "execution_count": null,
   "metadata": {},
   "outputs": [],
   "source": [
    "def exchange_date_str(stime):\n",
    "    stime_list = stime.split(' ')\n",
    "    if(stime_list[1] == 'Jan'):\n",
    "        stime_list[1] = stime_list[1].replace('Jan','-01-')\n",
    "        stime = \"%s%s%s %s\"%(stime_list[0],stime_list[1],stime_list[2],stime_list[3])\n",
    "    if(stime_list[1] == 'Feb'):\n",
    "        stime_list[1] = stime_list[1].replace('Feb','-02-')\n",
    "        stime = \"%s%s%s %s\"%(stime_list[0],stime_list[1],stime_list[2],stime_list[3])\n",
    "    if(stime_list[1] == 'Mar'):\n",
    "        stime_list[1] = stime_list[1].replace('Mar','-03-')\n",
    "        stime = \"%s%s%s %s\"%(stime_list[0],stime_list[1],stime_list[2],stime_list[3])\n",
    "    if(stime_list[1] == 'Apr'):\n",
    "        stime_list[1] = stime_list[1].replace('Apr','-04-')\n",
    "        stime = \"%s%s%s %s\"%(stime_list[0],stime_list[1],stime_list[2],stime_list[3])\n",
    "    if(stime_list[1] == 'May'):\n",
    "        stime_list[1] = stime_list[1].replace('May','-05-')\n",
    "        stime = \"%s%s%s %s\"%(stime_list[0],stime_list[1],stime_list[2],stime_list[3])\n",
    "    if(stime_list[1] == 'Jun'):\n",
    "        stime_list[1] = stime_list[1].replace('Jun','-06-')\n",
    "        stime = \"%s%s%s %s\"%(stime_list[0],stime_list[1],stime_list[2],stime_list[3])\n",
    "    if(stime_list[1] == 'Jul'):\n",
    "        stime_list[1] = stime_list[1].replace('Jul','-07-')\n",
    "        stime = \"%s%s%s %s\"%(stime_list[0],stime_list[1],stime_list[2],stime_list[3])\n",
    "    if(stime_list[1] == 'Aug'):\n",
    "        stime_list[1] = stime_list[1].replace('Aug','-08-')\n",
    "        stime = \"%s%s%s %s\"%(stime_list[0],stime_list[1],stime_list[2],stime_list[3])\n",
    "    if(stime_list[1] == 'Sep'):\n",
    "        stime_list[1] = stime_list[1].replace('Sep','-09-')\n",
    "        stime = \"%s%s%s %s\"%(stime_list[0],stime_list[1],stime_list[2],stime_list[3])\n",
    "    if(stime_list[1] == 'Oct'):\n",
    "        stime_list[1] = stime_list[1].replace('Oct','-10-')\n",
    "        stime = \"%s%s%s %s\"%(stime_list[0],stime_list[1],stime_list[2],stime_list[3])\n",
    "    if(stime_list[1] == 'Nov'):\n",
    "        stime_list[1] = stime_list[1].replace('Nov','-11-')\n",
    "        stime = \"%s%s%s %s\"%(stime_list[0],stime_list[1],stime_list[2],stime_list[3])\n",
    "    if(stime_list[1] == 'Dec'):\n",
    "        stime_list[1] = stime_list[1].replace('Dec','-12-')\n",
    "        stime = \"%s%s%s %s\"%(stime_list[0],stime_list[1],stime_list[2],stime_list[3])\n",
    "    return stime\n",
    "def exchange_crawler_str(ctime):\n",
    "    ctime = \"%s%s\"%(ctime[20:24],ctime[3:19])\n",
    "    ctime = exchange_date_str(ctime)\n",
    "    return ctime"
   ]
  },
  {
   "cell_type": "code",
   "execution_count": null,
   "metadata": {},
   "outputs": [
    {
     "name": "stdout",
     "output_type": "stream",
     "text": [
      "C:\\Users\\zhaow21\\Seafile\\debris\\data\\raw_conjunction_data\\conjunction_result_100000_MAXPROB_1650556802.0746994.xls\n"
     ]
    }
   ],
   "source": [
    "#第四步\n",
    "#这段代码是获取conjunction文件中的数据并存到cunjunction列表中\n",
    "#先是获取文件夹下所有的文件名\n",
    "def get_allfile(path):  # 获取所有文件\n",
    "    all_file = []\n",
    "    for f in os.listdir(path):  #listdir返回文件中所有目录\n",
    "        f_name = os.path.join(path, f)\n",
    "        all_file.append(f_name)\n",
    "    return all_file\n",
    "    \n",
    "tickets = r\"C:\\Users\\zhaow21\\Seafile\\debris\\data\\raw_conjunction_data\"\n",
    "all_file=get_allfile(tickets)  #tickets要获取文件夹名\n",
    "print(all_file[1])\n",
    "\n",
    "#再根据文件名提取数据\n",
    "conjunction = {}\n",
    "conjunction_dataframe = []\n",
    "for i in range(len(all_file)):#这里的i就是取出文件夹里的第i+1个文件\n",
    "    xls_file = xlrd.open_workbook(all_file[i])\n",
    "    xls_sheet = xls_file.sheets()[0]\n",
    "    nrows = xls_sheet.nrows\n",
    "    for j in range(1,nrows):\n",
    "        row_value = xls_sheet.row_values(j)\n",
    "        #row_value是想要从conjuction中获取的数据字段，按需增删\n",
    "        #row_value = [row_value[0],row_value[3],row_value[6],row_value[7],row_value[8],row_value[9],row_value[10],row_value[11],row_value[12]]\n",
    "        #目前这个row_value提取的字段如下\n",
    "        #max prob  relative volicity  name1  name2  ID  TCA  start time  stop time  time(crawler)\n",
    "        if(float(row_value[0]) < 1e-5):continue\n",
    "        sat_id1 = int(row_value[8].split('-')[0])\n",
    "        sat_id2 = int(row_value[8].split('-')[1])\n",
    "        tca = exchange_date_str(row_value[9])\n",
    "        tca = datetime.datetime.strptime(tca,'%Y-%m-%d %H:%M:%S.%f')\n",
    "        if(sat_id1 not in conjunction.keys()):\n",
    "            conjunction[sat_id1] = [tca]\n",
    "        else:\n",
    "            conjunction[sat_id1].append(tca)\n",
    "        if(sat_id2 not in conjunction.keys()):\n",
    "            conjunction[sat_id2] = [tca]\n",
    "        else:\n",
    "            conjunction[sat_id2].append(tca)\n",
    "        row_value[9] = exchange_date_str(row_value[9])\n",
    "        row_value[9] = datetime.datetime.strptime(row_value[9],'%Y-%m-%d %H:%M:%S.%f')\n",
    "        #row_value是想要从conjuction中获取的数据字段，按需增删\n",
    "        row_value = [float(row_value[0]),float(row_value[3]),row_value[6],row_value[7],sat_id1,sat_id2,row_value[9],row_value[10],row_value[11],row_value[12]]\n",
    "        #目前这个row_value提取的字段如下\n",
    "        #max prob  relative volicity  name1  name2  ID  TCA  start time  stop time  time(crawler)\n",
    "        conjunction_dataframe.append(row_value)"
   ]
  },
  {
   "cell_type": "code",
   "execution_count": null,
   "metadata": {},
   "outputs": [],
   "source": [
    "from datetime import timedelta\n",
    "\n",
    "\n",
    "result = {}\n",
    "for key in maneuver.keys():\n",
    "    if(maneuver[key] == {}):continue\n",
    "    if(key not in conjunction.keys()):continue\n",
    "    tca_list = list(maneuver[key].keys())\n",
    "    for i in range(len(tca_list)):\n",
    "        for j in range(len(conjunction[key])):\n",
    "            if(tca_list[i] <= conjunction[key][j]):\n",
    "                delta_time = conjunction[key][j] - tca_list[i]\n",
    "                if(timedelta(hours= 11) <= delta_time <= timedelta(hours= 13)):\n",
    "                    if(key not in result.keys()):\n",
    "                        result[key] = [conjunction[key][j]]\n",
    "                    else:\n",
    "                        result[key].append(conjunction[key][j])"
   ]
  },
  {
   "cell_type": "code",
   "execution_count": null,
   "metadata": {},
   "outputs": [
    {
     "data": {
      "text/plain": [
       "35"
      ]
     },
     "execution_count": 21,
     "metadata": {},
     "output_type": "execute_result"
    }
   ],
   "source": [
    "ca_maneuver_list = []\n",
    "for key in result.keys():\n",
    "    if(key not in task_maneuver):ca_maneuver_list.append(key)\n",
    "len(ca_maneuver_list)"
   ]
  },
  {
   "cell_type": "code",
   "execution_count": null,
   "metadata": {},
   "outputs": [],
   "source": [
    "for key in ca_maneuver_list:\n",
    "    starlink_dict[key]['alltitude'] = ''\n",
    "    for i in range(len(starlink_dict[key])):#len(starlink_dict[key])\n",
    "        tle_line1 = starlink_dict[key].iloc[i,4]\n",
    "        tle_line2 = starlink_dict[key].iloc[i,5]\n",
    "        #starlink_dict[key].iloc[i,2] = datetime.datetime.strptime(starlink_dict[key].iloc[i,2],\"%Y-%m-%d %H:%M:%S\")\n",
    "        tle_epoch = starlink_dict[key].iloc[i,2]\n",
    "        year = tle_epoch.year\n",
    "        month = tle_epoch.month\n",
    "        day = tle_epoch.day\n",
    "        hour = tle_epoch.hour\n",
    "        minute = tle_epoch.minute\n",
    "        second = tle_epoch.second\n",
    "\n",
    "        ts = load.timescale()\n",
    "        sat = EarthSatellite(tle_line1,tle_line2,None,ts)\n",
    "        t = ts.utc(year,month,day,hour,minute,second)\n",
    "        geocentric = sat.at(t)\n",
    "        h = w84.height_of(geocentric).km\n",
    "        starlink_dict[key].iloc[i,7] = h"
   ]
  },
  {
   "cell_type": "code",
   "execution_count": null,
   "metadata": {},
   "outputs": [],
   "source": [
    "ca_maneuver_time = []\n",
    "ca_maneuver_alt = []\n",
    "for item in ca_maneuver_list:\n",
    "    ca_df = starlink_dict[item]\n",
    "    for i in range(len(start_end[item])):\n",
    "        start_time = start_end[item][i][0]\n",
    "        stop_time = start_end[item][i][1]\n",
    "        mid_df = ca_df[(ca_df['EPOCH'] >= start_time) & (ca_df['EPOCH'] <= stop_time)]\n",
    "        max_alt = max(mid_df['alltitude'])\n",
    "        min_alt = min(mid_df['alltitude'])\n",
    "        ca_maneuver_alt.append(max_alt - min_alt)\n",
    "        ca_maneuver_time.append(((stop_time - start_time).total_seconds()) / (60 * 60))"
   ]
  },
  {
   "attachments": {},
   "cell_type": "markdown",
   "metadata": {},
   "source": [
    "## No need to run"
   ]
  },
  {
   "cell_type": "code",
   "execution_count": null,
   "metadata": {},
   "outputs": [],
   "source": [
    "tickets = r'./data/conjunction_case'\n",
    "conjunction_case = get_allfile(tickets)\n",
    "conjunction_case = conjunction_case[0:len(conjunction_case)]\n",
    "tickets = r'./data/maneuver_case'\n",
    "maneuver_case = get_allfile(tickets)\n",
    "maneuver_case = maneuver_case[0:len(maneuver_case) - 1]\n",
    "for i in range(len(conjunction_case)):\n",
    "    conjunction_case[i] = conjunction_case[i].split('\\\\')[-1]\n",
    "    conjunction_case[i] = int(conjunction_case[i].split('.pdf')[0])\n",
    "for i in range(len(maneuver_case)):\n",
    "    maneuver_case[i] = maneuver_case[i].split('\\\\')[-1]\n",
    "    maneuver_case[i] = int(maneuver_case[i].split('.pdf')[0])"
   ]
  },
  {
   "cell_type": "code",
   "execution_count": null,
   "metadata": {},
   "outputs": [
    {
     "data": {
      "text/plain": [
       "[45568,\n",
       " 45579,\n",
       " 46168,\n",
       " 46326,\n",
       " 46334,\n",
       " 46364,\n",
       " 46671,\n",
       " 46712,\n",
       " 46756,\n",
       " 46757,\n",
       " 46770,\n",
       " 46789,\n",
       " 47138,\n",
       " 47139,\n",
       " 47153,\n",
       " 47372,\n",
       " 47384,\n",
       " 47393,\n",
       " 47394,\n",
       " 47399,\n",
       " 47645,\n",
       " 47646,\n",
       " 47660,\n",
       " 47663,\n",
       " 47666,\n",
       " 47722,\n",
       " 47729,\n",
       " 47732,\n",
       " 47735,\n",
       " 47738,\n",
       " 47768,\n",
       " 47805,\n",
       " 47827,\n",
       " 47836,\n",
       " 47901,\n",
       " 47911,\n",
       " 47913,\n",
       " 47980,\n",
       " 47985,\n",
       " 47995,\n",
       " 47998,\n",
       " 48000,\n",
       " 48002,\n",
       " 48014,\n",
       " 48016,\n",
       " 48018,\n",
       " 48020,\n",
       " 48022,\n",
       " 48028,\n",
       " 48092,\n",
       " 48093,\n",
       " 48112,\n",
       " 48125,\n",
       " 48128,\n",
       " 48135,\n",
       " 48292,\n",
       " 48364,\n",
       " 48368,\n",
       " 48395,\n",
       " 48412,\n",
       " 48432,\n",
       " 48433,\n",
       " 48434,\n",
       " 48458,\n",
       " 48459,\n",
       " 48462,\n",
       " 48481,\n",
       " 48484,\n",
       " 48561,\n",
       " 48575,\n",
       " 48578,\n",
       " 48582,\n",
       " 48594,\n",
       " 48640,\n",
       " 48648,\n",
       " 48666,\n",
       " 48681,\n",
       " 48682,\n",
       " 48684,\n",
       " 48686,\n",
       " 48692]"
      ]
     },
     "execution_count": 97,
     "metadata": {},
     "output_type": "execute_result"
    }
   ],
   "source": [
    "task_maneuver = []\n",
    "with open(r'\\task_maneuver.txt','r') as f:\n",
    "    for line in f.readlines():\n",
    "        line = line.strip()\n",
    "        task_maneuver.append(int(line))\n",
    "task_maneuver"
   ]
  },
  {
   "cell_type": "markdown",
   "metadata": {},
   "source": [
    "统计Unnecessary maneuver的比例、平均pc和平均变轨幅度"
   ]
  },
  {
   "cell_type": "code",
   "execution_count": null,
   "metadata": {},
   "outputs": [],
   "source": [
    "conjunction_not_task_case = []\n",
    "for item in conjunction_case:\n",
    "    if(item not in task_maneuver):\n",
    "        conjunction_not_task_case.append(item)"
   ]
  },
  {
   "cell_type": "code",
   "execution_count": null,
   "metadata": {},
   "outputs": [
    {
     "data": {
      "text/plain": [
       "81"
      ]
     },
     "execution_count": 98,
     "metadata": {},
     "output_type": "execute_result"
    }
   ],
   "source": [
    "len(conjunction_not_task_case)"
   ]
  },
  {
   "cell_type": "code",
   "execution_count": null,
   "metadata": {},
   "outputs": [],
   "source": [
    "unnecessary_case = []\n",
    "for item in conjunction_case:\n",
    "    if((item not in maneuver_case) & (item not in task_maneuver)):\n",
    "        unnecessary_case.append(item)\n",
    "necessary_case = []\n",
    "for item in conjunction_case:\n",
    "    if((item in maneuver_case) & (item not in task_maneuver)):\n",
    "        necessary_case.append(item)"
   ]
  },
  {
   "cell_type": "code",
   "execution_count": null,
   "metadata": {},
   "outputs": [
    {
     "data": {
      "text/plain": [
       "35"
      ]
     },
     "execution_count": 113,
     "metadata": {},
     "output_type": "execute_result"
    }
   ],
   "source": [
    "len(necessary_case)"
   ]
  },
  {
   "cell_type": "code",
   "execution_count": null,
   "metadata": {},
   "outputs": [
    {
     "name": "stdout",
     "output_type": "stream",
     "text": [
      "44720\n",
      "45062\n",
      "45066\n",
      "45079\n",
      "45089\n",
      "45090\n",
      "45094\n",
      "45223\n",
      "45382\n",
      "45558\n",
      "45559\n",
      "45666\n",
      "46067\n",
      "                   pc  relative velocity          name1           name2  \\\n",
      "2930535  2.832000e-06             14.278  STARLINK-1529        OBJECT G   \n",
      "2991456  1.342000e-07             11.496  STARLINK-1529   STARLINK-3235   \n",
      "3061301  2.021000e-07              6.963  STARLINK-1529   STARLINK-2046   \n",
      "3186721  1.723000e-06             14.277  STARLINK-1529        OBJECT G   \n",
      "3270573  7.516000e-07             13.061  STARLINK-1529  FENGYUN 1C DEB   \n",
      "3303526  7.516000e-07             13.061  STARLINK-1529  FENGYUN 1C DEB   \n",
      "3270573  7.516000e-07             13.061  STARLINK-1529  FENGYUN 1C DEB   \n",
      "3303526  7.516000e-07             13.061  STARLINK-1529  FENGYUN 1C DEB   \n",
      "3388275  7.345000e-07             14.305  STARLINK-1529        OBJECT G   \n",
      "3113030  7.343000e-07              4.636  STARLINK-1529   STARLINK-2032   \n",
      "2744321  2.457000e-06              0.002  STARLINK-1529   STARLINK-2235   \n",
      "\n",
      "        sat_id1 sat_id2                     TCA                start time  \\\n",
      "2930535   46067   47938 2022-05-24 08:41:08.321  2022 May 24 08:41:07.976   \n",
      "2991456   46067   50200 2022-05-24 07:32:38.927  2022 May 24 07:32:38.805   \n",
      "3061301   46067   47354 2022-05-24 07:58:25.094  2022 May 24 07:58:24.763   \n",
      "3186721   46067   47938 2022-05-24 08:41:02.131  2022 May 24 08:41:01.790   \n",
      "3270573   46067   32151 2022-05-24 08:54:58.117  2022 May 24 08:54:57.761   \n",
      "3303526   46067   32151 2022-05-24 08:54:58.117  2022 May 24 08:54:57.761   \n",
      "3270573   46067   32151 2022-05-24 08:54:58.117  2022 May 24 08:54:57.761   \n",
      "3303526   46067   32151 2022-05-24 08:54:58.117  2022 May 24 08:54:57.761   \n",
      "3388275   46067   47938 2022-05-24 07:53:18.340  2022 May 24 07:53:18.010   \n",
      "3113030   46067   47649 2022-05-24 23:08:23.776  2022 May 24 23:08:22.830   \n",
      "2744321   46067   48581 2022-05-22 02:47:44.943  2022 May 22 02:12:59.518   \n",
      "\n",
      "                        stop time             time(crawler)  \n",
      "2930535  2022 May 24 08:41:08.666  Wed May 18 12:19:34 2022  \n",
      "2991456  2022 May 24 07:32:39.050  Wed May 18 12:19:45 2022  \n",
      "3061301  2022 May 24 07:58:25.425  Wed May 18 20:47:48 2022  \n",
      "3186721  2022 May 24 08:41:02.473  Thu May 19 11:42:53 2022  \n",
      "3270573  2022 May 24 08:54:58.473  Fri May 20 00:48:29 2022  \n",
      "3303526  2022 May 24 08:54:58.473  Fri May 20 12:36:43 2022  \n",
      "3270573  2022 May 24 08:54:58.473  Fri May 20 00:48:29 2022  \n",
      "3303526  2022 May 24 08:54:58.473  Fri May 20 12:36:43 2022  \n",
      "3388275  2022 May 24 07:53:18.670  Fri May 20 20:34:30 2022  \n",
      "3113030  2022 May 24 23:08:24.722  Thu May 19 04:51:02 2022  \n",
      "2744321  2022 May 22 03:29:46.002  Mon May 16 20:30:10 2022  \n",
      "                   pc  relative velocity          name1           name2  \\\n",
      "2930535  2.832000e-06             14.278  STARLINK-1529        OBJECT G   \n",
      "2991456  1.342000e-07             11.496  STARLINK-1529   STARLINK-3235   \n",
      "3061301  2.021000e-07              6.963  STARLINK-1529   STARLINK-2046   \n",
      "3186721  1.723000e-06             14.277  STARLINK-1529        OBJECT G   \n",
      "3270573  7.516000e-07             13.061  STARLINK-1529  FENGYUN 1C DEB   \n",
      "3388275  7.345000e-07             14.305  STARLINK-1529        OBJECT G   \n",
      "3113030  7.343000e-07              4.636  STARLINK-1529   STARLINK-2032   \n",
      "\n",
      "        sat_id1 sat_id2                     TCA                start time  \\\n",
      "2930535   46067   47938 2022-05-24 08:41:08.321  2022 May 24 08:41:07.976   \n",
      "2991456   46067   50200 2022-05-24 07:32:38.927  2022 May 24 07:32:38.805   \n",
      "3061301   46067   47354 2022-05-24 07:58:25.094  2022 May 24 07:58:24.763   \n",
      "3186721   46067   47938 2022-05-24 08:41:02.131  2022 May 24 08:41:01.790   \n",
      "3270573   46067   32151 2022-05-24 08:54:58.117  2022 May 24 08:54:57.761   \n",
      "3388275   46067   47938 2022-05-24 07:53:18.340  2022 May 24 07:53:18.010   \n",
      "3113030   46067   47649 2022-05-24 23:08:23.776  2022 May 24 23:08:22.830   \n",
      "\n",
      "                        stop time             time(crawler)  \n",
      "2930535  2022 May 24 08:41:08.666  Wed May 18 12:19:34 2022  \n",
      "2991456  2022 May 24 07:32:39.050  Wed May 18 12:19:45 2022  \n",
      "3061301  2022 May 24 07:58:25.425  Wed May 18 20:47:48 2022  \n",
      "3186721  2022 May 24 08:41:02.473  Thu May 19 11:42:53 2022  \n",
      "3270573  2022 May 24 08:54:58.473  Fri May 20 00:48:29 2022  \n",
      "3388275  2022 May 24 07:53:18.670  Fri May 20 20:34:30 2022  \n",
      "3113030  2022 May 24 23:08:24.722  Thu May 19 04:51:02 2022  \n",
      "46340\n",
      "46345\n",
      "46357\n",
      "46553\n",
      "46726\n",
      "46744\n",
      "46748\n",
      "47161\n",
      "47353\n",
      "47548\n",
      "47600\n",
      "47622\n",
      "47775\n",
      "47796\n",
      "47806\n",
      "47808\n",
      "47830\n",
      "47834\n",
      "47906\n",
      "47979\n",
      "48103\n",
      "48106\n",
      "48111\n",
      "48315\n",
      "48321\n",
      "48389\n",
      "48399\n",
      "48429\n",
      "48486\n",
      "48574\n",
      "48651\n",
      "48674\n",
      "48697\n"
     ]
    }
   ],
   "source": [
    "unnecessary_dict = {}\n",
    "for item in unnecessary_case:\n",
    "    print(item)\n",
    "    if(item not in unnecessary_dict.keys()):\n",
    "        unnecessary_dict[item] = {}\n",
    "    #if(item != 45089):continue\n",
    "    plt_df1 = df[df['sat_id1'] == item]\n",
    "    plt_df2 = df[df['sat_id2'] == item]\n",
    "    plt_df = pd.concat([plt_df1,plt_df2],axis=0,join='outer')\n",
    "    if(item == 46067):print(plt_df)\n",
    "    drop_list = []\n",
    "    for ll in range(len(plt_df)):\n",
    "        if(plt_df.iloc[ll,6] not in result[item]):\n",
    "            drop_list.append(list(plt_df.index)[ll])\n",
    "    plt_df = plt_df.drop(drop_list,axis=0)\n",
    "    plt_df = plt_df.drop_duplicates(subset=['sat_id1','sat_id2','TCA'])\n",
    "    if(item == 46067):print(plt_df)\n",
    "    if(len(start_end[item]) == 0):continue\n",
    "    pc_temp = 0\n",
    "    delta_temp = 0\n",
    "    for i in range(len(start_end[item])):\n",
    "        maneuver_start_time = start_end[item][i][0]\n",
    "        maneuver_end_time = start_end[item][i][1]\n",
    "        #print(maneuver_start_time,maneuver_end_time)\n",
    "        maneuver_df = plt_df[(plt_df['TCA'] >= maneuver_start_time) & (plt_df['TCA'] <= maneuver_end_time + datetime.timedelta(hours=12))]\n",
    "        if(len(maneuver_df) == 0):continue\n",
    "        unnecessary_df = starlink_dict[item]\n",
    "        unnecessary_df = unnecessary_df[(unnecessary_df['EPOCH'] >= maneuver_start_time) & (unnecessary_df['EPOCH'] <= maneuver_end_time)]\n",
    "        #print(unnecessary_df)\n",
    "        max_pc = max(maneuver_df['pc'])\n",
    "        delta_semi_axis = max(unnecessary_df['SEMIMAJOR_AXIS']) - min(unnecessary_df['SEMIMAJOR_AXIS'])\n",
    "        if(delta_semi_axis > delta_temp):\n",
    "            pc_temp = max_pc\n",
    "            delta_temp = delta_semi_axis\n",
    "    unnecessary_dict[item][pc_temp] = delta_temp"
   ]
  },
  {
   "cell_type": "code",
   "execution_count": null,
   "metadata": {},
   "outputs": [
    {
     "data": {
      "text/plain": [
       "{44720: {6.16e-07: 1.893000000000029},\n",
       " 45062: {5.138e-07: 4.074999999999818},\n",
       " 45066: {1.778e-07: 1.1130000000002838},\n",
       " 45079: {1.08e-06: 1.9860000000007858},\n",
       " 45089: {5.294e-06: 7.503999999999905},\n",
       " 45090: {1.103e-07: 1.9239999999999782},\n",
       " 45094: {3.705e-07: 1.595999999999549},\n",
       " 45223: {3.009e-06: 1.1720000000004802},\n",
       " 45382: {1.366e-06: 2.263999999999214},\n",
       " 45558: {9.664e-06: 1.6350000000002183},\n",
       " 45559: {5.444e-06: 2.9290000000000873},\n",
       " 45666: {7.106e-06: 2.5280000000002474},\n",
       " 46067: {2.832e-06: 1.5520000000005894},\n",
       " 46340: {4.945e-07: 9.364999999999782},\n",
       " 46345: {2.759e-07: 9.82300000000032},\n",
       " 46357: {1.497e-06: 1.6259999999992942},\n",
       " 46553: {2.033e-06: 1.8760000000002037},\n",
       " 46726: {6.637e-07: 1.5410000000001673},\n",
       " 46744: {3.677e-06: 2.219000000000051},\n",
       " 46748: {2.122e-07: 1.4020000000000437},\n",
       " 47161: {1.467e-06: 1.9899999999997817},\n",
       " 47353: {4.954e-07: 1.8189999999995052},\n",
       " 47548: {5.198e-06: 2.04700000000048},\n",
       " 47600: {6.056e-06: 3.706999999999425},\n",
       " 47622: {4.576e-06: 2.431999999999789},\n",
       " 47775: {2.979e-06: 1.569999999999709},\n",
       " 47796: {4.726e-06: 4.40099999999984},\n",
       " 47806: {2.905e-07: 4.270999999999731},\n",
       " 47808: {4.627e-07: 1.0249999999996362},\n",
       " 47830: {3.53e-06: 2.6790000000000873},\n",
       " 47834: {1.943e-06: 1.0969999999997526},\n",
       " 47906: {1.722e-07: 1.280999999999949},\n",
       " 47979: {5.893e-07: 2.4979999999995925},\n",
       " 48103: {1.323e-06: 2.5789999999997235},\n",
       " 48106: {1.394e-06: 1.6649999999999636},\n",
       " 48111: {9.247e-07: 2.4200000000000728},\n",
       " 48315: {9.524e-06: 2.5219999999999345},\n",
       " 48321: {1.201e-06: 2.479000000000269},\n",
       " 48389: {7.364e-07: 2.199000000000524},\n",
       " 48399: {3.673e-07: 3.9989999999997963},\n",
       " 48429: {8.16e-07: 2.8739999999997963},\n",
       " 48486: {9.73e-07: 1.6229999999995925},\n",
       " 48574: {9.884e-06: 7.834999999999127},\n",
       " 48651: {9.9e-06: 4.970999999999549},\n",
       " 48674: {4.651e-06: 1.6649999999999636},\n",
       " 48697: {6.826e-06: 3.0649999999996}}"
      ]
     },
     "execution_count": 162,
     "metadata": {},
     "output_type": "execute_result"
    }
   ],
   "source": [
    "unnecessary_dict"
   ]
  },
  {
   "cell_type": "code",
   "execution_count": null,
   "metadata": {},
   "outputs": [],
   "source": [
    "necessary_dict = {}\n",
    "for item in necessary_case:\n",
    "    print(item)\n",
    "    if(item not in necessary_dict.keys()):\n",
    "        necessary_dict[item] = {}\n",
    "    #if(item != 45089):continue\n",
    "    plt_df1 = df[df['sat_id1'] == item]\n",
    "    plt_df2 = df[df['sat_id2'] == item]\n",
    "    plt_df = pd.concat([plt_df1,plt_df2],axis=0,join='outer')\n",
    "    #print(plt_df)\n",
    "    drop_list = []\n",
    "    for ll in range(len(plt_df)):\n",
    "        if(plt_df.iloc[ll,6] not in result[item]):\n",
    "            drop_list.append(list(plt_df.index)[ll])\n",
    "    plt_df = plt_df.drop(drop_list,axis=0)\n",
    "    plt_df = plt_df.drop_duplicates(subset=['sat_id1','sat_id2','TCA'])\n",
    "    if(len(start_end[item]) == 0):continue\n",
    "    pc_temp = 0\n",
    "    delta_temp = 0\n",
    "    for i in range(len(start_end[item])):\n",
    "        maneuver_start_time = start_end[item][i][0]\n",
    "        maneuver_end_time = start_end[item][i][1]\n",
    "        #print(maneuver_start_time,maneuver_end_time)\n",
    "        maneuver_df = plt_df[(plt_df['TCA'] >= maneuver_start_time) & (plt_df['TCA'] <= maneuver_end_time + datetime.timedelta(hours=12))]\n",
    "        if(item == 46744):print(plt_df)\n",
    "        if(len(maneuver_df) == 0):continue\n",
    "        necessary_df = starlink_dict[item]\n",
    "        necessary_df = necessary_df[(necessary_df['EPOCH'] >= maneuver_start_time) & (necessary_df['EPOCH'] <= maneuver_end_time)]\n",
    "        #print(necessary_df)\n",
    "        max_pc = max(maneuver_df['pc'])\n",
    "        delta_semi_axis = max(necessary_df['SEMIMAJOR_AXIS']) - min(necessary_df['SEMIMAJOR_AXIS'])\n",
    "        if(delta_semi_axis > delta_temp):\n",
    "            pc_temp = max_pc\n",
    "            delta_temp = delta_semi_axis\n",
    "    necessary_dict[item][pc_temp] = delta_temp"
   ]
  },
  {
   "attachments": {},
   "cell_type": "markdown",
   "metadata": {},
   "source": [
    "## Start from this line"
   ]
  },
  {
   "cell_type": "code",
   "execution_count": null,
   "metadata": {},
   "outputs": [],
   "source": [
    "unnecessary_dict = np.load('./data/unnecessary_dict.npy',allow_pickle=True).item()\n",
    "necessary_dict = np.load('./data/necessary_dict.npy',allow_pickle=True).item()"
   ]
  },
  {
   "cell_type": "code",
   "execution_count": null,
   "metadata": {},
   "outputs": [
    {
     "name": "stdout",
     "output_type": "stream",
     "text": [
      "2.770482608695653e-06 2.8420869565216575\n"
     ]
    }
   ],
   "source": [
    "#unnecessary_dict\n",
    "pc_sum = 0\n",
    "pc_num = 0\n",
    "delta_semi_sum = 0\n",
    "delta_semi_num = 0\n",
    "for key in unnecessary_dict.keys():\n",
    "    for key2 in unnecessary_dict[key].keys():\n",
    "        pc_sum = pc_sum + key2\n",
    "        pc_num = pc_num + 1\n",
    "        delta_semi_sum = delta_semi_sum + unnecessary_dict[key][key2]\n",
    "        delta_semi_num = delta_semi_num + 1\n",
    "pc_avg = pc_sum / pc_num\n",
    "delta_semi_avg = delta_semi_sum / delta_semi_num\n",
    "print(pc_avg,delta_semi_avg)"
   ]
  },
  {
   "cell_type": "code",
   "execution_count": null,
   "metadata": {},
   "outputs": [
    {
     "name": "stdout",
     "output_type": "stream",
     "text": [
      "0.00011749515151515153 4.3691818181817625\n"
     ]
    }
   ],
   "source": [
    "#necessary_dict\n",
    "pc_sum = 0\n",
    "pc_num = 0\n",
    "delta_semi_sum = 0\n",
    "delta_semi_num = 0\n",
    "for key in necessary_dict.keys():\n",
    "    for key2 in necessary_dict[key].keys():\n",
    "        pc_sum = pc_sum + key2\n",
    "        pc_num = pc_num + 1\n",
    "        delta_semi_sum = delta_semi_sum + necessary_dict[key][key2]\n",
    "        delta_semi_num = delta_semi_num + 1\n",
    "pc_avg = pc_sum / pc_num\n",
    "delta_semi_avg = delta_semi_sum / delta_semi_num\n",
    "print(pc_avg,delta_semi_avg)"
   ]
  },
  {
   "cell_type": "code",
   "execution_count": null,
   "metadata": {},
   "outputs": [
    {
     "data": {
      "text/plain": [
       "43.21"
      ]
     },
     "execution_count": 346,
     "metadata": {},
     "output_type": "execute_result"
    }
   ],
   "source": [
    "100-56.79"
   ]
  }
 ],
 "metadata": {
  "kernelspec": {
   "display_name": "base",
   "language": "python",
   "name": "python3"
  },
  "language_info": {
   "codemirror_mode": {
    "name": "ipython",
    "version": 3
   },
   "file_extension": ".py",
   "mimetype": "text/x-python",
   "name": "python",
   "nbconvert_exporter": "python",
   "pygments_lexer": "ipython3",
   "version": "3.7.3"
  },
  "orig_nbformat": 4,
  "vscode": {
   "interpreter": {
    "hash": "61a57a4b5406d2de388e2f91097d4e4bcd7d5f4a46f53a795aa28a02eed27fc5"
   }
  }
 },
 "nbformat": 4,
 "nbformat_minor": 2
}
