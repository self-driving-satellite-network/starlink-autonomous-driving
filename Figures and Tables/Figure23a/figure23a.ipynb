{
 "cells": [
  {
   "cell_type": "code",
   "execution_count": 3,
   "metadata": {},
   "outputs": [],
   "source": [
    "#第一步\n",
    "import numpy\n",
    "import pandas as pd\n",
    "import datetime\n",
    "import json\n",
    "import os\n",
    "#import xlrd# 安装xlrd == 1.2.0 版本太高会出错\n",
    "import numpy as np\n",
    "import matplotlib.pyplot as plt\n",
    "# from sgp4.earth_gravity import wgs84\n",
    "# from sgp4.io import twoline2rv\n",
    "import copy\n",
    "from skyfield.api import load, EarthSatellite\n",
    "from skyfield.api import wgs84 as w84\n",
    "from matplotlib.pyplot import MultipleLocator"
   ]
  },
  {
   "cell_type": "code",
   "execution_count": null,
   "metadata": {},
   "outputs": [],
   "source": [
    "starlink_dict = np.load('./data/starlink_dict.npy',allow_pickle=True)"
   ]
  },
  {
   "cell_type": "code",
   "execution_count": null,
   "metadata": {},
   "outputs": [],
   "source": [
    "import matplotlib.ticker as mtick\n",
    "sat_df1 = starlink_dict[44720]\n",
    "sat_df1 = sat_df1[(sat_df1['EPOCH'] >= datetime.datetime(2022,5,15)) & (sat_df1['EPOCH'] <= datetime.datetime(2022,6,15))]\n",
    "sat_df2 = starlink_dict[48556]\n",
    "sat_df2 = sat_df2[(sat_df2['EPOCH'] >= datetime.datetime(2022,5,15)) & (sat_df2['EPOCH'] <= datetime.datetime(2022,6,15))]\n",
    "x_major_locator=MultipleLocator(15)\n",
    "plt.figure(1)\n",
    "fig = plt.figure(figsize=(5,2.5),dpi=300)\n",
    "axes = fig.subplots(1,1,sharex=True)\n",
    "# plt.subplot(211)\n",
    "# plt.plot(list(sat_df1['EPOCH']),list(sat_df1['SEMIMAJOR_AXIS']),color = \"#00A491\")\n",
    "# plt.plot(list(sat_df2['EPOCH']),list(sat_df2['SEMIMAJOR_AXIS']),color = \"#FF592D\")\n",
    "# plt.legend(['Starlink-48117(with average distance 304km)','Starlink-45235(with average distance 193km)'],fontsize=8)\n",
    "# plt.ylabel('Semi-axis(km)',fontsize = 12)\n",
    "# plt.ylim([6922,6930])\n",
    "# axes[0].xaxis.set_major_locator(x_major_locator)\n",
    "# plt.subplot(212)\n",
    "plt.plot(list(sat_df1['EPOCH']),list(sat_df1['alltitude']),color = \"#00A491\")\n",
    "plt.plot(list(sat_df2['EPOCH']),list(sat_df2['alltitude']),color = \"#FF592D\")\n",
    "plt.ylabel('Altitude(km)',fontsize=14)\n",
    "plt.legend(['STARLINK-1014','STARLINK-2151'],fontsize=12,loc='best')\n",
    "plt.ylim([545,548])\n",
    "plt.xlabel('Time\\n',fontsize = 14)\n",
    "plt.yticks(fontsize = 14)\n",
    "plt.xticks(fontsize = 14)\n",
    "plt.yticks([545,546,547,548],[545,546,547,548])\n",
    "axes.xaxis.set_major_locator(x_major_locator)\n",
    "plt.savefig('figure23a.pdf',bbox_inches='tight')"
   ]
  }
 ],
 "metadata": {
  "kernelspec": {
   "display_name": "base",
   "language": "python",
   "name": "python3"
  },
  "language_info": {
   "codemirror_mode": {
    "name": "ipython",
    "version": 3
   },
   "file_extension": ".py",
   "mimetype": "text/x-python",
   "name": "python",
   "nbconvert_exporter": "python",
   "pygments_lexer": "ipython3",
   "version": "3.7.3"
  },
  "orig_nbformat": 4,
  "vscode": {
   "interpreter": {
    "hash": "61a57a4b5406d2de388e2f91097d4e4bcd7d5f4a46f53a795aa28a02eed27fc5"
   }
  }
 },
 "nbformat": 4,
 "nbformat_minor": 2
}
