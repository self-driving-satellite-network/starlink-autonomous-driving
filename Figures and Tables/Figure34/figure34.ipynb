{
 "cells": [
  {
   "cell_type": "code",
   "execution_count": 1,
   "id": "47814f9d",
   "metadata": {},
   "outputs": [],
   "source": [
    "import numpy as np\n",
    "import pandas as pd\n",
    "import math\n",
    "#from tletools import TLE\n",
    "import time\n",
    "import datetime\n",
    "import matplotlib.pyplot as plt\n",
    "import statsmodels.api as sm\n",
    "import csv\n",
    "from skyfield.api import load, wgs84\n",
    "from skyfield.api import EarthSatellite\n",
    "from skyfield.elementslib import OsculatingElements\n",
    "from skyfield.data import spice"
   ]
  },
  {
   "cell_type": "code",
   "execution_count": 2,
   "id": "4de3964f",
   "metadata": {},
   "outputs": [],
   "source": [
    "constellation = \"starlink\"\n",
    "path = \"../../tle/\"\n",
    "max_isl = 4782.174752610824"
   ]
  },
  {
   "attachments": {},
   "cell_type": "markdown",
   "id": "86f0e6e8",
   "metadata": {},
   "source": [
    "### No need to run"
   ]
  },
  {
   "cell_type": "code",
   "execution_count": 3,
   "id": "d3893c3d",
   "metadata": {},
   "outputs": [
    {
     "name": "stdout",
     "output_type": "stream",
     "text": [
      "<class 'float'>\n",
      "[-6053.995926609168, -874.6018578643767, 3238.421525132463]\n",
      "(1686, 15840, 3)\n",
      "<class 'float'>\n",
      "[27.923081914311325, -0.8406291481134366, 547.7352901960046]\n",
      "(1686, 15840, 3)\n",
      "<class 'float'>\n",
      "[84.86641998843886, 311.07243633325197, 164.79065562627238, 6927.731917274687]\n",
      "(1686, 144, 4)\n",
      "<class 'float'>\n",
      "[3.3243790438689476, -4.732348547617833, 4.919057534542607]\n",
      "(1686, 15840, 3)\n"
     ]
    }
   ],
   "source": [
    "cbf_file = path + constellation + \"_u_pos_cbf_3_month.npy\"\n",
    "pos_file = path + constellation + \"_u_pos_3_month.npy\"\n",
    "ext_file = path + constellation + \"_u_extend_m_3_month.npy\"\n",
    "vel_file = path + constellation + \"_u_velocity_3_month.npy\"\n",
    "\n",
    "pos_cbf=np.load(cbf_file,allow_pickle=True).tolist()\n",
    "print(type(pos_cbf[0][0][0]))\n",
    "print(pos_cbf[0][0])\n",
    "print(np.shape(pos_cbf))\n",
    "\n",
    "pos=np.load(pos_file,allow_pickle=True).tolist()\n",
    "print(type(pos[0][0][0]))\n",
    "print(pos[0][0])\n",
    "print(np.shape(pos))\n",
    "\n",
    "extend_m = np.load(ext_file,allow_pickle=True).tolist()\n",
    "print(type(extend_m[0][0][0]))\n",
    "print(extend_m[0][0])\n",
    "print(np.shape(extend_m))\n",
    "\n",
    "velocity = np.load(vel_file,allow_pickle=True).tolist()\n",
    "print(type(velocity[0][0][0]))\n",
    "print(velocity[0][0])\n",
    "print(np.shape(velocity))"
   ]
  },
  {
   "cell_type": "code",
   "execution_count": 4,
   "id": "a788a20d",
   "metadata": {},
   "outputs": [
    {
     "name": "stdout",
     "output_type": "stream",
     "text": [
      "1541\n",
      "(1541, 15840, 3) (1541, 15840, 3) (1541, 144, 4) (1541, 15840, 3)\n"
     ]
    }
   ],
   "source": [
    "# 筛选过滤后卫星对应的位置信息\n",
    "def read_txt(file):\n",
    "    r = []\n",
    "    with open(file,\"r\") as f:\n",
    "        line = f.readline()\n",
    "        while line:\n",
    "            r.append(int(line.strip('\\n')))\n",
    "            line = f.readline()\n",
    "    return r\n",
    "f_keys = read_txt(\"../../tle/data/filtered_index.txt\")\n",
    "print(len(f_keys))\n",
    "\n",
    "def filter_pos():\n",
    "    r, rr, ee, v = [], [], [], []\n",
    "    for item in f_keys:\n",
    "        r.append(pos_cbf[item])\n",
    "        rr.append(pos[item])\n",
    "        ee.append(extend_m[item])\n",
    "        v.append(velocity[item])\n",
    "    return r, rr, ee, v\n",
    "pos_cbf, pos, extend_m, velocity = filter_pos()\n",
    "print(np.shape(pos_cbf), np.shape(pos), np.shape(extend_m), np.shape(velocity))\n",
    "\n",
    "node_num = len(pos)\n",
    "cycle = len(pos[0])"
   ]
  },
  {
   "cell_type": "markdown",
   "id": "669657d2",
   "metadata": {},
   "source": [
    "#### 卫星id读取"
   ]
  },
  {
   "cell_type": "code",
   "execution_count": 5,
   "id": "5fd818e7",
   "metadata": {},
   "outputs": [
    {
     "name": "stdout",
     "output_type": "stream",
     "text": [
      "(1541, 2) ['44713', '19074A']\n",
      "type:  <class 'dict'>\n",
      "type:  <class 'dict'>\n",
      "Total:  1701 ['2022-04-01 05:20:18', '1 47150U 20088AE  22091.22243163  .00004265  00000-0  30493-3 0  9991', '2 47150  53.0541 269.1438 0001347  72.7409 287.3727 15.06410475 75421', '6925.316']\n",
      "Number of satellite:  1541\n"
     ]
    }
   ],
   "source": [
    "file = \"../../tle/data/filtered_3_month.csv\"\n",
    "# file = \"./data/sat_3_month.csv\"\n",
    "df = pd.read_csv(file,header=None,sep='\\t')\n",
    "data = df[0].str.split(',').values.tolist()\n",
    "print(np.shape(data), data[0])\n",
    "node_num = len(data)\n",
    "\n",
    "tle_file = path + \"tle_starlink_3_month_0401_0712.npy\"\n",
    "tle_data = np.load(tle_file, allow_pickle=True)\n",
    "print(\"type: \", type(tle_data.item()))\n",
    "tle_item = tle_data.item()\n",
    "print(\"type: \", type(tle_item))\n",
    "tle = tle_item.items()\n",
    "d = {}\n",
    "for k,v in tle:\n",
    "    d[k] = v # v是多维的，两个月左右的数据，采样粒度可能有区别\n",
    "print(\"Total: \",len(d), d['47150'][0])\n",
    "\n",
    "keys = [item[0] for item in data]\n",
    "print(\"Number of satellite: \", len(keys))"
   ]
  },
  {
   "cell_type": "markdown",
   "id": "83fe826e",
   "metadata": {},
   "source": [
    "####  0时刻运行方向计算（仅一开始需要执行）"
   ]
  },
  {
   "cell_type": "code",
   "execution_count": 6,
   "id": "476b1046",
   "metadata": {},
   "outputs": [
    {
     "name": "stdout",
     "output_type": "stream",
     "text": [
      "<class 'float'>\n",
      "[-6053.995926609168, -874.6018578643767, 3238.421525132463]\n",
      "(1686, 60, 3)\n",
      "<class 'float'>\n",
      "[27.923081914311325, -0.8406291481134366, 547.7352901960046]\n",
      "(1686, 60, 3)\n",
      "(1541, 60, 3) (1541, 60, 3)\n"
     ]
    }
   ],
   "source": [
    "# 60秒传播结果，用于运行方向判定\n",
    "cbf_file = path + \"second_pos_cbf_3_month.npy\"\n",
    "pos_file = path + \"second_pos_3_month.npy\"\n",
    "\n",
    "spos_cbf=np.load(cbf_file,allow_pickle=True).tolist()\n",
    "print(type(spos_cbf[0][0][0]))\n",
    "print(spos_cbf[0][0])\n",
    "print(np.shape(spos_cbf))\n",
    "\n",
    "spos=np.load(pos_file,allow_pickle=True).tolist()\n",
    "print(type(spos[0][0][0]))\n",
    "print(spos[0][0])\n",
    "print(np.shape(spos))\n",
    "\n",
    "def filter_pos():\n",
    "    r, rr = [], []\n",
    "    for item in f_keys:\n",
    "        r.append(spos_cbf[item])\n",
    "        rr.append(spos[item])\n",
    "    return r, rr\n",
    "spos_cbf, spos = filter_pos()\n",
    "print(np.shape(spos_cbf), np.shape(spos))"
   ]
  },
  {
   "cell_type": "code",
   "execution_count": 7,
   "id": "01b391af",
   "metadata": {},
   "outputs": [
    {
     "name": "stdout",
     "output_type": "stream",
     "text": [
      "shape:  1541\n"
     ]
    }
   ],
   "source": [
    "# 卫星运行方向计算\n",
    "def sat_direction(t):\n",
    "    r = []\n",
    "    for i in range(node_num):\n",
    "        z1 = spos_cbf[i][t][2]\n",
    "        z2 = spos_cbf[i][t+1][2]\n",
    "        if z2 >= z1:\n",
    "            r.append(1)  # north\n",
    "        else:\n",
    "            r.append(-1)  # south\n",
    "    return r\n",
    "\n",
    "sat_dir = sat_direction(0)\n",
    "print(\"shape: \", len(sat_dir))\n",
    "#np.save(\"./data/sat_dir_3_month.npy\", sat_dir)"
   ]
  },
  {
   "cell_type": "markdown",
   "id": "f7a19257",
   "metadata": {},
   "source": [
    "#### 推测卫星在轨道内的分布 (经度) （仅一开始需要执行）"
   ]
  },
  {
   "cell_type": "code",
   "execution_count": 8,
   "id": "9654ee77",
   "metadata": {},
   "outputs": [
    {
     "name": "stdout",
     "output_type": "stream",
     "text": [
      "total orbits:  82\n",
      "sorted raan:  [5, 10, 15, 20, 25, 30, 35, 40, 45, 50, 55, 60, 65, 70, 75, 80, 85, 90, 95, 100, 105, 110, 115, 120, 125, 127, 130, 135, 137, 140, 145, 150, 155, 157, 160, 165, 166, 170, 175, 180, 185, 187, 190, 195, 197, 200, 205, 207, 210, 215, 220, 225, 227, 230, 235, 237, 240, 245, 250, 255, 260, 265, 270, 275, 280, 285, 287, 290, 295, 300, 305, 310, 315, 320, 325, 330, 335, 340, 345, 350, 355, 360]\n",
      "orbit num:  72\n",
      "satellite num:  1409\n",
      "satellite per orbit:  16 22\n"
     ]
    }
   ],
   "source": [
    "# 推测（只在算的时候执行）\n",
    "def infer_orbit():\n",
    "    dd = {}\n",
    "    for i in range(node_num): # node_num对应筛选后的卫星数，因此extend_m需要修改\n",
    "        t = 0\n",
    "        raan = int(round(extend_m[i][t][2], 0))\n",
    "        if raan not in dd:\n",
    "            dd[raan] = [keys[i]]\n",
    "        else:\n",
    "            dd[raan].append(keys[i])\n",
    "    return dd\n",
    "\n",
    "orbits = infer_orbit()\n",
    "print(\"total orbits: \", len(orbits))\n",
    "orbit_kk = sorted(orbits.keys())\n",
    "print(\"sorted raan: \", orbit_kk)\n",
    "\n",
    "orbit_filtered = {}\n",
    "for i in range(5,365,5): # modify\n",
    "# for i in orbits:\n",
    "    #if len(orbits[i]) > 10:\n",
    "    orbit_filtered[i] = orbits[i]\n",
    "print(\"orbit num: \", len(orbit_filtered))\n",
    "\n",
    "summ, sat_per_orbit = 0, []\n",
    "for key in orbit_filtered:\n",
    "    summ += len(orbit_filtered[key])\n",
    "    sat_per_orbit.append(len(orbit_filtered[key]))\n",
    "print(\"satellite num: \", summ)\n",
    "print(\"satellite per orbit: \", min(sat_per_orbit), max(sat_per_orbit))\n",
    "\n",
    "# def filter_by_altitude(dd):\n",
    "#     t = 0\n",
    "#     for key in dd:\n",
    "#         tmp = dd[key]\n",
    "#         alts = [pos[keys.index(i)][t][-1] for i in tmp]\n",
    "#         print(alts)\n",
    "# filter_by_altitude(orbit_filtered)\n",
    "    \n",
    "\n",
    "filtered_sat = [[key, len(orbit_filtered[key])] for key in orbit_filtered]\n",
    "\n",
    "def save_txt(dd):\n",
    "    r = []\n",
    "    count = 0\n",
    "    for key in dd:\n",
    "        count += 1\n",
    "        for item in dd[key]:\n",
    "            r.append([count,key, item]) # index from 1\n",
    "    print(np.shape(r))\n",
    "    with open(\"../../tle/data/sat_orbits_filtered_3_month.csv\",\"w\") as csvfile: \n",
    "        writer = csv.writer(csvfile)\n",
    "        writer.writerow([\"No.orbit\",\"raan\",\"sat\"])\n",
    "        writer.writerows(r)\n",
    "#save_txt(orbit_filtered)"
   ]
  },
  {
   "cell_type": "markdown",
   "id": "aaa73a41",
   "metadata": {},
   "source": [
    "#### 读取卫星轨道信息，基于0时刻经度+方向对卫星排序"
   ]
  },
  {
   "cell_type": "code",
   "execution_count": 9,
   "id": "4ad26629",
   "metadata": {},
   "outputs": [
    {
     "name": "stdout",
     "output_type": "stream",
     "text": [
      "(1409, 3) ['1', '5', '45182']\n",
      "1409\n",
      "1409\n",
      "72 [145, 147, 160, 161, 162, 163, 164, 166, 167, 168, 169, 170, 171, 172, 184, 747, 753, 785]\n"
     ]
    }
   ],
   "source": [
    "# 读入卫星所在轨道信息\n",
    "file = \"../../tle/data/sat_orbits_filtered_3_month.csv\"\n",
    "df = pd.read_csv(file,header=None,sep='\\t')\n",
    "df.drop(labels=None,axis=0, index=0, columns=None, inplace=True)\n",
    "sat_data = df[0].str.split(',').values.tolist()\n",
    "print(np.shape(sat_data), sat_data[0])\n",
    "\n",
    "filtered_keys = []\n",
    "for item in sat_data:\n",
    "    filtered_keys.append(item[-1])\n",
    "print(len(filtered_keys))\n",
    "\n",
    "def establish_dict():\n",
    "    d = {}\n",
    "    for item in sat_data:\n",
    "        d[item[-1]] = int(item[0])\n",
    "    return d\n",
    "name2orbit = establish_dict()\n",
    "print(len(name2orbit))\n",
    "\n",
    "def read_sat_orbit():\n",
    "    d = {}\n",
    "    for i in range(len(sat_data)):\n",
    "        if int(sat_data[i][0]) not in d:\n",
    "            d[int(sat_data[i][0])] = [keys.index(sat_data[i][2])]\n",
    "        else:\n",
    "            d[int(sat_data[i][0])].append(keys.index(sat_data[i][2]))\n",
    "    return d\n",
    "sat_orbit = read_sat_orbit()\n",
    "print(len(sat_orbit), sat_orbit[1])"
   ]
  },
  {
   "cell_type": "code",
   "execution_count": 10,
   "id": "44c0dc29",
   "metadata": {},
   "outputs": [
    {
     "name": "stdout",
     "output_type": "stream",
     "text": [
      "(72,) [753, 161, 160, 167, 172, 164, 169, 747, 147, 163, 145, 184, 170, 171, 168, 166, 162, 785]\n"
     ]
    }
   ],
   "source": [
    "# 每个轨道内卫星根据经度排序\n",
    "def sort_sat_lon(t):\n",
    "    rr = []\n",
    "    for o in sat_orbit:\n",
    "        r = []\n",
    "        for sat in sat_orbit[o]:\n",
    "            lon = pos[sat][t][1]\n",
    "            r.append([sat, lon])\n",
    "        r = sorted(r, key = lambda x: x[1])\n",
    "        r = [item[0] for item in r]\n",
    "        rr.append(r)\n",
    "    return rr\n",
    "sorted_sat = sort_sat_lon(0)\n",
    "print(np.shape(sorted_sat), sorted_sat[0])"
   ]
  },
  {
   "cell_type": "code",
   "execution_count": 11,
   "id": "227e3d94",
   "metadata": {},
   "outputs": [
    {
     "name": "stdout",
     "output_type": "stream",
     "text": [
      "sat direction shape:  1541\n",
      "initial satellite:  [785, 792, 345, 852, 159, 899, 329, 745, 306, 871, 290, 1162, 273, 1195, 451, 1212, 249, 1404, 423, 1383, 412, 1341, 235, 1358, 598, 1126, 590, 580, 215, 1136, 562, 1281, 1295, 1311, 359, 908, 34, 913, 373, 1010, 940, 970, 365, 646, 134, 994, 638, 981, 1019, 1033, 499, 704, 100, 718, 497, 1086, 702, 1077, 459, 668, 75, 542, 675, 1265, 1248, 1240, 524, 1215, 179, 822, 535, 833] 72\n",
      "True\n"
     ]
    }
   ],
   "source": [
    "# 确定所有轨道0号卫星\n",
    "sat_dir = np.load(\"../../tle/data/sat_dir_3_month.npy\", allow_pickle=True).tolist()\n",
    "print(\"sat direction shape: \", len(sat_dir))\n",
    "def sat_0(t):\n",
    "    max_isl = 4782.174752610824\n",
    "    rr = []\n",
    "    for o in range(len(sorted_sat)):\n",
    "        r = []\n",
    "        for sat in sorted_sat[o]:\n",
    "            if sat_dir[sat] == 1:\n",
    "                r.append([sat, abs(0 - pos[sat][t][0])])\n",
    "        r = sorted(r, key = lambda x: x[1])\n",
    "        sat0 = r[0][0]\n",
    "        rr.append(sat0)\n",
    "    return rr\n",
    "sat0 = sat_0(0)\n",
    "print(\"initial satellite: \", sat0, len(sat0))\n",
    "\n",
    "def is_connected(t):\n",
    "    flag = False\n",
    "    for i in range(len(sat0)):\n",
    "        x1, y1, z1 = pos_cbf[sat0[i]][t][0], pos_cbf[sat0[i]][t][1], pos_cbf[sat0[i]][t][2]\n",
    "        x2, y2, z2 = pos_cbf[sat0[i-1]][t][0], pos_cbf[sat0[i-1]][t][1], pos_cbf[sat0[i-1]][t][2]\n",
    "        dis = ((x1-x2)**2 + (y1-y2)**2 + (z1-z2)**2) ** 0.5\n",
    "        dir1, dir2 = sat_dir[sat0[i]], sat_dir[sat0[i-1]]\n",
    "        if dis < max_isl and dir1 == dir2:\n",
    "            flag = True\n",
    "        if not flag:\n",
    "            return False\n",
    "    return True\n",
    "print(is_connected(0))    "
   ]
  },
  {
   "cell_type": "code",
   "execution_count": 12,
   "id": "1f984bf3",
   "metadata": {},
   "outputs": [
    {
     "name": "stdout",
     "output_type": "stream",
     "text": [
      "72 [411, 414, 410, 409, 412, 413, 407, 406, 421, 417, 416, 404, 420, 405, 418, 403, 419, 408, 415, 914]\n"
     ]
    }
   ],
   "source": [
    "# 再次排序,0号卫星在左侧\n",
    "def sort_sat0():\n",
    "    r = []\n",
    "    for i in range(len(sorted_sat)):\n",
    "        tmp = sorted_sat[i]\n",
    "        ini = tmp.index(sat0[i])\n",
    "        tmp1, tmp2 = tmp[:ini], tmp[ini:]\n",
    "        tmp2.extend(tmp1)\n",
    "        r.append(tmp2)\n",
    "    return r\n",
    "sorted_sat_0 = sort_sat0()\n",
    "print(len(sorted_sat), sorted_sat[20])\n",
    "# [270, 1406, 267, 284, 265, 263, 259, 262, 260, 258, 274, 272, 275, 264, 273, 271, 268, 269, 261]\n",
    "# [1159, 1160, 1161, 1162, 1163, 1164, 1165, 1166, 1167, 1168, 1169, 1170, 1171, 1172, 1173, 1174, 1175, 1176]"
   ]
  },
  {
   "cell_type": "markdown",
   "id": "e5d5ea8b",
   "metadata": {},
   "source": [
    "#### 初始时刻拓扑 （Grid和Sharing对应两种不同轨间计算方式）"
   ]
  },
  {
   "cell_type": "code",
   "execution_count": 13,
   "id": "dfd60ad7",
   "metadata": {},
   "outputs": [
    {
     "name": "stdout",
     "output_type": "stream",
     "text": [
      "intra ISL:  1406\n",
      "inter ISL:  1356\n",
      "[785, 161]\n",
      "[785, 161]\n",
      "(1541, 1541) 1409 1389 (1541, 2)\n"
     ]
    }
   ],
   "source": [
    "# 初始时刻拓扑生成\n",
    "def infer_topo(t, flag_i):\n",
    "    r = [[0]*node_num for _ in range(node_num)]\n",
    "    d_intra, d_inter = {}, {}\n",
    "    have_neigh = [[-1, -1] for _ in range(node_num)] # node_num * 2 [intra_r, inter_r]\n",
    "    # intra\n",
    "    intra = 0\n",
    "    for items in sorted_sat_0: # 遍历所有轨道\n",
    "        tmp = items\n",
    "        # print(tmp)\n",
    "        for i in range(len(tmp)):\n",
    "            x1, y1, z1 = pos_cbf[tmp[i]][t][0], pos_cbf[tmp[i]][t][1], pos_cbf[tmp[i]][t][2]\n",
    "            nextt = tmp[(i+1)%len(tmp)]\n",
    "            x2, y2, z2 = pos_cbf[nextt][t][0], pos_cbf[nextt][t][1], pos_cbf[nextt][t][2]\n",
    "            dis = ((x1-x2)**2 + (y1-y2)**2 + (z1-z2)**2) ** 0.5\n",
    "            if dis <= max_isl:\n",
    "                have_neigh[tmp[i]][0] = 1\n",
    "                r[tmp[i]][nextt] = 1\n",
    "                r[nextt][tmp[i]] = 1\n",
    "                if tmp[i] not in d_intra:\n",
    "                    d_intra[tmp[i]] = [nextt]\n",
    "                else:\n",
    "                    d_intra[tmp[i]].append(nextt)\n",
    "                if nextt not in d_intra:\n",
    "                    d_intra[nextt] = [tmp[i]]\n",
    "                else:\n",
    "                    d_intra[nextt].append(tmp[i])\n",
    "                intra += 1\n",
    "    print(\"intra ISL: \", intra)\n",
    "    \n",
    "    # inter\n",
    "    inter = 0\n",
    "    if flag_i == \"Sharing\":\n",
    "        for o in range(len(sorted_sat_0)):\n",
    "            neighs = sorted_sat_0[(o+1)%72] # 相邻轨道所有卫星\n",
    "            for sat in sorted_sat_0[o]: # 遍历当前轨道内卫星\n",
    "                x1, y1, z1 = pos_cbf[sat][t][0], pos_cbf[sat][t][1], pos_cbf[sat][t][2]\n",
    "                minn, index = float('inf'), -1\n",
    "                for neigh in neighs:\n",
    "                    x2, y2, z2 = pos_cbf[neigh][t][0], pos_cbf[neigh][t][1], pos_cbf[neigh][t][2]\n",
    "                    dis = ((x1-x2)**2 + (y1-y2)**2 + (z1-z2)**2) ** 0.5\n",
    "                    if dis <= max_isl and dis < minn:\n",
    "                        minn = dis\n",
    "                        index = neigh\n",
    "                if index != -1: # 存在最近的可连接的邻轨卫星\n",
    "                    r[sat][index] = 1\n",
    "                    r[index][sat] = 1\n",
    "                    have_neigh[sat][1] = 1\n",
    "                    flag = True\n",
    "                    if sat not in d_inter:\n",
    "                        d_inter[sat] = [index]\n",
    "                    else:\n",
    "                        if index not in d_inter[sat]:\n",
    "                            d_inter[sat].append(index)\n",
    "                        else:\n",
    "                            flag = False\n",
    "                    if index not in d_inter:\n",
    "                        d_inter[index] = [sat]\n",
    "                    else:\n",
    "                        if sat not in d_inter[index]:\n",
    "                            d_inter[index].append(sat)\n",
    "                        else:\n",
    "                            flag = False\n",
    "                    if flag:\n",
    "                        inter += 1\n",
    "    elif flag_i == \"Grid\":\n",
    "        for o in range(len(sorted_sat_0)): # 遍历所有轨道\n",
    "            sats1, sats2 = sorted_sat_0[o], sorted_sat_0[(o+1)%72] # 当前轨道和右侧轨道\n",
    "            i, j = 0, 0\n",
    "            while i < len(sats1) and j < len(sats2):\n",
    "                x1, y1, z1 = pos_cbf[sats1[i]][t][0], pos_cbf[sats1[i]][t][1], pos_cbf[sats1[i]][t][2]\n",
    "                x2, y2, z2 = pos_cbf[sats2[j]][t][0], pos_cbf[sats2[j]][t][1], pos_cbf[sats2[j]][t][2]\n",
    "                dis = ((x1-x2)**2 + (y1-y2)**2 + (z1-z2)**2) ** 0.5\n",
    "                # dir1, dir2 = sat_dir[sats1[i]], sat_dir[sats2[j]]\n",
    "                if dis <= max_isl: #  and dir1 == dir2\n",
    "                    have_neigh[sats1[i]][1] = 1\n",
    "                    r[sats1[i]][sats2[j]] = 1\n",
    "                    r[sats2[j]][sats1[i]] = 1\n",
    "                    if sats1[i] not in d_inter:\n",
    "                        d_inter[sats1[i]] = [sats2[j]]\n",
    "                    else:\n",
    "                        d_inter[sats1[i]].append(sats2[j])\n",
    "                    if sats2[j] not in d_inter:\n",
    "                        d_inter[sats2[j]] = [sats1[i]]\n",
    "                    else:\n",
    "                        d_inter[sats2[j]].append(sats1[i])\n",
    "                    inter += 1\n",
    "                    i += 1\n",
    "                    j += 1\n",
    "                else:\n",
    "                    # gap = abs(pos[sats1[i]][t][0] - pos[sats2[j]][t][0])\n",
    "                    if i+1 < len(sats1):\n",
    "                        x1, y1, z1 = pos_cbf[sats1[i+1]][t][0], pos_cbf[sats1[i+1]][t][1], pos_cbf[sats1[i+1]][t][2]\n",
    "                        x2, y2, z2 = pos_cbf[sats2[j]][t][0], pos_cbf[sats2[j]][t][1], pos_cbf[sats2[j]][t][2]\n",
    "                        dis_i = ((x1-x2)**2 + (y1-y2)**2 + (z1-z2)**2) ** 0.5\n",
    "                    if j+1 < len(sats2):\n",
    "                        x1, y1, z1 = pos_cbf[sats1[i]][t][0], pos_cbf[sats1[i]][t][1], pos_cbf[sats1[i]][t][2]\n",
    "                        x2, y2, z2 = pos_cbf[sats2[j+1]][t][0], pos_cbf[sats2[j+1]][t][1], pos_cbf[sats2[j+1]][t][2]\n",
    "                        dis_j = ((x1-x2)**2 + (y1-y2)**2 + (z1-z2)**2) ** 0.5\n",
    "                    if dis_i <= dis_j: # abs(pos[sats1[i]][t][0] - pos[sats2[j+1]][t][0]) < gap:\n",
    "                        i += 1\n",
    "                    else:\n",
    "                        j += 1\n",
    "                \n",
    "    print(\"inter ISL: \", inter)\n",
    "    print(d_intra[753])\n",
    "    \n",
    "    # 0轨道处理\n",
    "    for sat in sorted_sat_0[0]:\n",
    "#         if i == 0 and if have_neigh[sat][0] == 1:\n",
    "#             d_intra[sat] = d_intra[sat][1:] + [d_intra[sat][0]]\n",
    "        if have_neigh[sat][1] == 1:\n",
    "            d_inter[sat] = d_inter[sat][1:] + [d_inter[sat][0]]\n",
    "            \n",
    "    # 所有轨道0号卫星处理\n",
    "    for sats in sorted_sat_0:\n",
    "        sat = sats[0]\n",
    "        if have_neigh[sat][0] == 1:\n",
    "            d_intra[sat] = d_intra[sat][1:] + [d_intra[sat][0]]\n",
    "            \n",
    "    print(d_intra[753])\n",
    "            \n",
    "    return r, d_intra, d_inter, have_neigh\n",
    "\n",
    "topo0, intra, inter, have_neigh = infer_topo(0, \"Grid\")\n",
    "print(np.shape(topo0), len(intra), len(inter), np.shape(have_neigh))"
   ]
  },
  {
   "cell_type": "code",
   "execution_count": 14,
   "id": "46c26efa",
   "metadata": {},
   "outputs": [
    {
     "name": "stdout",
     "output_type": "stream",
     "text": [
      "1356.0\n",
      "276\n",
      "['48297', '48312']\n",
      "48458 68\n"
     ]
    }
   ],
   "source": [
    "# 测试\n",
    "lenn = []\n",
    "for kk in inter:\n",
    "    lenn.append(len(inter[kk]))\n",
    "print(sum(lenn)/2)\n",
    "\n",
    "\n",
    "i = keys.index('45568')\n",
    "print(i)\n",
    "nei = [keys[item] for item in inter[i]]\n",
    "print(nei)\n",
    "print(keys[1294], name2orbit['48353'])"
   ]
  },
  {
   "cell_type": "markdown",
   "id": "bcbc1478",
   "metadata": {},
   "source": [
    "### 链路长度统计 (关键代码)"
   ]
  },
  {
   "cell_type": "code",
   "execution_count": 15,
   "id": "454ce6e9",
   "metadata": {},
   "outputs": [],
   "source": [
    "# 统计每个卫星邻居改变频率，每当最短距离卫星发生改变就改变\n",
    "# 每个时刻重新计算连接关系，即始终寻找最近邻居\n",
    "def cal_isl_np(flag_i):\n",
    "    cycle = len(pos[0])\n",
    "    intra_len, inter_len = [[] for _ in range(cycle)], [[] for _ in range(cycle)]\n",
    "    # sorted_sat0 = sort_sat_lon(0)\n",
    "    for t in range(cycle):\n",
    "        sorted_sat = sort_sat_lon(t)\n",
    "        \n",
    "        # intra\n",
    "        for items in sorted_sat: # 遍历所有轨道\n",
    "            tmp = items\n",
    "            for i in range(len(tmp)):\n",
    "                x1, y1, z1 = pos_cbf[tmp[i]][t][0], pos_cbf[tmp[i]][t][1], pos_cbf[tmp[i]][t][2]\n",
    "                nextt = tmp[(i+1)%len(tmp)]\n",
    "                x2, y2, z2 = pos_cbf[nextt][t][0], pos_cbf[nextt][t][1], pos_cbf[nextt][t][2]\n",
    "                dis = ((x1-x2)**2 + (y1-y2)**2 + (z1-z2)**2) ** 0.5\n",
    "                if dis <= max_isl:\n",
    "                    intra_len[t].append(dis)\n",
    "\n",
    "        # inter\n",
    "        if flag_i == \"Sharing\":\n",
    "            for o in range(len(sorted_sat)):\n",
    "                neighs = sorted_sat[(o+1)%72]\n",
    "                for sat in sorted_sat[o]:\n",
    "                    x1, y1, z1 = pos_cbf[sat][t][0], pos_cbf[sat][t][1], pos_cbf[sat][t][2]\n",
    "                    minn, index = float('inf'), -1\n",
    "                    for neigh in neighs:\n",
    "                        x2, y2, z2 = pos_cbf[neigh][t][0], pos_cbf[neigh][t][1], pos_cbf[neigh][t][2]\n",
    "                        dis = ((x1-x2)**2 + (y1-y2)**2 + (z1-z2)**2) ** 0.5\n",
    "                        if dis <= max_isl and dis < minn:\n",
    "                            minn = dis\n",
    "                            index = neigh\n",
    "                    if index != -1:\n",
    "                        inter_len[t].append(minn)\n",
    "        elif flag_i == \"Grid\":\n",
    "            for o in range(len(sorted_sat_0)): # 遍历所有轨道\n",
    "                sats1, sats2 = sorted_sat_0[o], sorted_sat_0[(o+1)%72] # 当前轨道和右侧轨道\n",
    "                i, j = 0, 0\n",
    "                while i < len(sats1) and j < len(sats2):\n",
    "                    x1, y1, z1 = pos_cbf[sats1[i]][t][0], pos_cbf[sats1[i]][t][1], pos_cbf[sats1[i]][t][2]\n",
    "                    x2, y2, z2 = pos_cbf[sats2[j]][t][0], pos_cbf[sats2[j]][t][1], pos_cbf[sats2[j]][t][2]\n",
    "                    dis = ((x1-x2)**2 + (y1-y2)**2 + (z1-z2)**2) ** 0.5\n",
    "                    # dir1, dir2 = sat_dir[sats1[i]], sat_dir[sats2[j]]\n",
    "                    if dis <= max_isl: #  and dir1 == dir2\n",
    "                        inter_len[t].append(dis)\n",
    "                        i += 1\n",
    "                        j += 1\n",
    "                    else:\n",
    "                        if i+1 < len(sats1):\n",
    "                            x1, y1, z1 = pos_cbf[sats1[i+1]][t][0], pos_cbf[sats1[i+1]][t][1], pos_cbf[sats1[i+1]][t][2]\n",
    "                            x2, y2, z2 = pos_cbf[sats2[j]][t][0], pos_cbf[sats2[j]][t][1], pos_cbf[sats2[j]][t][2]\n",
    "                            dis_i = ((x1-x2)**2 + (y1-y2)**2 + (z1-z2)**2) ** 0.5\n",
    "                        if j+1 < len(sats2):\n",
    "                            x1, y1, z1 = pos_cbf[sats1[i]][t][0], pos_cbf[sats1[i]][t][1], pos_cbf[sats1[i]][t][2]\n",
    "                            x2, y2, z2 = pos_cbf[sats2[j+1]][t][0], pos_cbf[sats2[j+1]][t][1], pos_cbf[sats2[j+1]][t][2]\n",
    "                            dis_j = ((x1-x2)**2 + (y1-y2)**2 + (z1-z2)**2) ** 0.5\n",
    "                        if dis_i <= dis_j: # abs(pos[sats1[i]][t][0] - pos[sats2[j+1]][t][0]) < gap:\n",
    "                            i += 1\n",
    "                        else:\n",
    "                            j += 1\n",
    "            \n",
    "        if t % 1000 == 0:   \n",
    "            print(\"done: \", t)\n",
    "\n",
    "    return intra_len, inter_len"
   ]
  },
  {
   "cell_type": "code",
   "execution_count": 16,
   "id": "168ebefb",
   "metadata": {},
   "outputs": [],
   "source": [
    "# 统计每个卫星邻居改变频率，每当之前卫星连不上才改变\n",
    "# 每个时刻重新计算连接关系，即始终寻找最近邻居\n",
    "def cal_isl_p(flag_i):\n",
    "    topo0, intra, inter, have_neigh = infer_topo(0, flag_i)\n",
    "    # 0时刻的链路长度从np的结果中取\n",
    "    print(np.shape(topo0), len(intra), len(inter))\n",
    "    r = {}\n",
    "    cycle = len(pos[0])\n",
    "    intra_len, inter_len = [[] for _ in range(cycle)], [[] for _ in range(cycle)]\n",
    "    print(len(intra_len))\n",
    "    pre_intra, pre_inter = intra, inter # t=0\n",
    "    # sorted_sat0 = sort_sat_lon(0)\n",
    "    \n",
    "    for t in range(1, cycle):\n",
    "        sorted_sat = sort_sat_lon(t) # 当前时刻卫星按经度排序\n",
    "        # intra\n",
    "        for items in sorted_sat: # per orbit\n",
    "            tmp = items\n",
    "            for i in range(len(tmp)):\n",
    "                x1, y1, z1 = pos_cbf[tmp[i]][t][0], pos_cbf[tmp[i]][t][1], pos_cbf[tmp[i]][t][2] # 当前卫星\n",
    "                if have_neigh[tmp[i]][0] != -1: \n",
    "                    neighs = pre_intra[tmp[i]]\n",
    "                    neigh = neighs[-1]\n",
    "                    x2, y2, z2 = pos_cbf[neigh][t][0], pos_cbf[neigh][t][1], pos_cbf[neigh][t][2]\n",
    "                    dis = ((x1-x2)**2 + (y1-y2)**2 + (z1-z2)**2) ** 0.5\n",
    "                    if dis > max_isl: # 无法继续连接\n",
    "                        x2, y2, z2 = pos_cbf[tmp[i-1]][t][0], pos_cbf[tmp[i-1]][t][1], pos_cbf[tmp[i-1]][t][2]\n",
    "                        dis = ((x1-x2)**2 + (y1-y2)**2 + (z1-z2)**2) ** 0.5\n",
    "                        if dis <= max_isl:\n",
    "                            intra_len[t].append(dis)\n",
    "                            pre_intra[tmp[i]][-1] = tmp[i-1] # 更换\n",
    "                        else:\n",
    "                            pre_intra[tmp[i]] = pre_intra[tmp[i]][:-1] # 删除\n",
    "                            have_neigh[tmp[i]][0] = -1\n",
    "                    else:\n",
    "                        intra_len[t].append(dis)\n",
    "                else:\n",
    "                    x2, y2, z2 = pos_cbf[tmp[i-1]][t][0], pos_cbf[tmp[i-1]][t][1], pos_cbf[tmp[i-1]][t][2]\n",
    "                    dis = ((x1-x2)**2 + (y1-y2)**2 + (z1-z2)**2) ** 0.5\n",
    "                    if dis <= max_isl:\n",
    "                        intra_len[t].append(dis)\n",
    "                        pre_intra[tmp[i]].append(tmp[i-1]) # 添加\n",
    "                        have_neigh[tmp[i]][0] = 1\n",
    "                    \n",
    "        # inter\n",
    "        if flag_i == \"Sharing\":\n",
    "            for o in range(len(sorted_sat)):\n",
    "                inter_neighs = sorted_sat[(o+1)%72]\n",
    "                for sat in sorted_sat[o]: # 遍历当前轨道\n",
    "                    x1, y1, z1 = pos_cbf[sat][t][0], pos_cbf[sat][t][1], pos_cbf[sat][t][2] # 当前卫星\n",
    "                    if have_neigh[sat][1] != -1: \n",
    "                        neighs = pre_inter[sat]\n",
    "                        neigh = neighs[-1]\n",
    "                        x2, y2, z2 = pos_cbf[neigh][t][0], pos_cbf[neigh][t][1], pos_cbf[neigh][t][2]\n",
    "                        dis = ((x1-x2)**2 + (y1-y2)**2 + (z1-z2)**2) ** 0.5\n",
    "                        if dis > max_isl: # 无法继续连接\n",
    "                            minn, index = float('inf'), -1\n",
    "                            for neigh in inter_neighs:\n",
    "                                x2, y2, z2 = pos_cbf[neigh][t][0], pos_cbf[neigh][t][1], pos_cbf[neigh][t][2]\n",
    "                                dis = ((x1-x2)**2 + (y1-y2)**2 + (z1-z2)**2) ** 0.5\n",
    "                                if dis <= max_isl and dis < minn:\n",
    "                                    minn = dis\n",
    "                                    index = neigh\n",
    "                            if index != -1: # 更换\n",
    "                                inter_len[t].append(minn)\n",
    "                                pre_inter[sat][-1] = index\n",
    "                            else: # 删除\n",
    "                                pre_inter[sat] = pre_inter[sat][:-1]\n",
    "                                have_neigh[sat][1] = -1\n",
    "                        else:\n",
    "                            inter_len[t].append(dis)\n",
    "                    else:\n",
    "                        minn, index = float('inf'), -1\n",
    "                        for neigh in inter_neighs:\n",
    "                            x2, y2, z2 = pos_cbf[neigh][t][0], pos_cbf[neigh][t][1], pos_cbf[neigh][t][2]\n",
    "                            dis = ((x1-x2)**2 + (y1-y2)**2 + (z1-z2)**2) ** 0.5\n",
    "                            if dis <= max_isl and dis < minn:\n",
    "                                minn = dis\n",
    "                                index = neigh\n",
    "                        if index != -1: # 添加\n",
    "                            inter_len[t].append(minn)\n",
    "                            pre_inter[sat][-1].append(index)\n",
    "                            have_neigh[sat][1] = 1\n",
    "                                \n",
    "        elif flag_i == \"Grid\":\n",
    "            for o in range(len(sorted_sat_0)):\n",
    "                sats = sorted_sat_0[o]\n",
    "                inter_neighs = sorted_sat_0[(o+1)%72]\n",
    "                tmp1, tmp2 = [0] * len(sats), [0] * len(inter_neighs)\n",
    "                tmp = [30] * len(sats)\n",
    "                for sat in sats:\n",
    "                    x1, y1, z1 = pos_cbf[sat][t][0], pos_cbf[sat][t][1], pos_cbf[sat][t][2] \n",
    "                    if have_neigh[sat][1] != -1: \n",
    "                        neigh = pre_inter[sat][-1]\n",
    "                        # print(o, sat, neigh, inter_neighs)\n",
    "                        x2, y2, z2 = pos_cbf[neigh][t][0], pos_cbf[neigh][t][1], pos_cbf[neigh][t][2]\n",
    "                        dis = ((x1-x2)**2 + (y1-y2)**2 + (z1-z2)**2) ** 0.5\n",
    "                        if dis <= max_isl:\n",
    "                            inter_len[t].append(dis)\n",
    "                            neigh_i = inter_neighs.index(neigh)\n",
    "                            sat_i = sats.index(sat)\n",
    "                            tmp1[sat_i], tmp2[neigh_i] = 1, 1\n",
    "                            tmp[sat_i] = neigh_i # 记录右侧邻居\n",
    "                # print(len(tmp1), tmp1, len(tmp2), tmp2)\n",
    "                \n",
    "                i, j = 0, 0\n",
    "                while i < len(sats) and j < len(inter_neighs):\n",
    "                    while i < len(tmp1) and tmp1[i] == 1: # 没有右侧邻居的卫星\n",
    "                        i += 1\n",
    "                    if i < len(sats) and tmp1[i] == 0:\n",
    "                        down, up = i, i\n",
    "                        while down < len(sats) and tmp1[down] == 0:\n",
    "                            down = (down - 1) % len(tmp1)\n",
    "                            if down == i: # 避免loop\n",
    "                                break\n",
    "                        while up < len(sats) and tmp1[up] == 0:\n",
    "                            up = (up + 1) % len(sats)\n",
    "                            if up == i: # 避免loop\n",
    "                                break\n",
    "                        if tmp1[down] != 30:\n",
    "                            left = (tmp1[down] + 1) % len(tmp2) # 下界，能取到\n",
    "                        else:\n",
    "                            left = 0\n",
    "                        if tmp1[up] != 30:\n",
    "                            right = tmp1[up]\n",
    "                        else:\n",
    "                            right = len(tmp2) # 上界，取不到\n",
    "                        if left <= right:\n",
    "                            ranges = list(range(left, right))\n",
    "                        else:\n",
    "                            ranges = list(range(-(len(tmp2)-left), right))\n",
    "\n",
    "                        for j in ranges:\n",
    "                            if tmp2[j] == 0:\n",
    "                                sat, neigh = sats[i], inter_neighs[j]\n",
    "                                x1, y1, z1 = pos_cbf[sat][t][0], pos_cbf[sat][t][1], pos_cbf[sat][t][2] \n",
    "                                x2, y2, z2 = pos_cbf[neigh][t][0], pos_cbf[neigh][t][1], pos_cbf[neigh][t][2]\n",
    "                                dis = ((x1-x2)**2 + (y1-y2)**2 + (z1-z2)**2) ** 0.5\n",
    "                                if dis <= max_isl:\n",
    "                                    inter_len[t].append(dis)\n",
    "                                    if have_neigh[sat][1] != -1: # 更换\n",
    "                                        pre_inter[sat][-1] = neigh \n",
    "                                        # print(\"change: \", o, sat)\n",
    "                                    else: # 添加\n",
    "                                        # print(\"add: \", o, sat)\n",
    "                                        if sat not in pre_inter:\n",
    "                                            pre_inter[sat] = []\n",
    "                                        pre_inter[sat].append(neigh) \n",
    "                                        have_neigh[sat][1] = 1\n",
    "                                    tmp1[i], tmp2[j] = 1, 1\n",
    "                                    break\n",
    "                    i += 1\n",
    "                        \n",
    "                for i in range(len(sats)):\n",
    "                    if have_neigh[sats[i]][1] == 1 and tmp1[i] == 0: # 删除\n",
    "                        # print(\"delete: \", o, sats[i])\n",
    "                        pre_inter[sats[i]] = pre_inter[sats[i]][:-1] \n",
    "                        have_neigh[sats[i]][1] = -1\n",
    "                        \n",
    "                            \n",
    "        if t % 1000 == 0:   \n",
    "            print(\"done: \", t)\n",
    "    return intra_len, inter_len"
   ]
  },
  {
   "cell_type": "code",
   "execution_count": 17,
   "id": "6dece5f7",
   "metadata": {
    "scrolled": true
   },
   "outputs": [
    {
     "name": "stdout",
     "output_type": "stream",
     "text": [
      "done:  0\n",
      "done:  1000\n",
      "done:  2000\n",
      "done:  3000\n",
      "done:  4000\n",
      "done:  5000\n",
      "done:  6000\n",
      "done:  7000\n",
      "done:  8000\n",
      "done:  9000\n",
      "done:  10000\n",
      "done:  11000\n",
      "done:  12000\n",
      "done:  13000\n",
      "done:  14000\n",
      "done:  15000\n",
      "Sharing proactive:  15840 15840\n",
      "done:  0\n",
      "done:  1000\n",
      "done:  2000\n",
      "done:  3000\n",
      "done:  4000\n",
      "done:  5000\n",
      "done:  6000\n",
      "done:  7000\n",
      "done:  8000\n",
      "done:  9000\n",
      "done:  10000\n",
      "done:  11000\n",
      "done:  12000\n",
      "done:  13000\n",
      "done:  14000\n",
      "done:  15000\n",
      "grid proactive:  15840 15840\n",
      "intra ISL:  1406\n",
      "inter ISL:  1409\n",
      "[785, 161]\n",
      "[785, 161]\n",
      "(1541, 1541) 1409 1409\n",
      "15840\n",
      "done:  1000\n",
      "done:  2000\n",
      "done:  3000\n",
      "done:  4000\n",
      "done:  5000\n",
      "done:  6000\n",
      "done:  7000\n",
      "done:  8000\n",
      "done:  9000\n",
      "done:  10000\n",
      "done:  11000\n",
      "done:  12000\n",
      "done:  13000\n",
      "done:  14000\n",
      "done:  15000\n",
      "Sharing reactive:  15840 15840\n",
      "intra ISL:  1406\n",
      "inter ISL:  1356\n",
      "[785, 161]\n",
      "[785, 161]\n",
      "(1541, 1541) 1409 1389\n",
      "15840\n",
      "done:  1000\n",
      "done:  2000\n",
      "done:  3000\n",
      "done:  4000\n",
      "done:  5000\n",
      "done:  6000\n",
      "done:  7000\n",
      "done:  8000\n",
      "done:  9000\n",
      "done:  10000\n",
      "done:  11000\n",
      "done:  12000\n",
      "done:  13000\n",
      "done:  14000\n",
      "done:  15000\n",
      "Grid reactive:  15840 15840\n"
     ]
    }
   ],
   "source": [
    "# 调用\n",
    "isl_lnp_intra, isl_lnp_inter = cal_isl_np(\"Sharing\")\n",
    "print(\"Sharing proactive: \", len(isl_lnp_intra), len(isl_lnp_inter))\n",
    "\n",
    "isl_gnp_intra, isl_gnp_inter = cal_isl_np(\"Grid\")\n",
    "print(\"grid proactive: \", len(isl_gnp_intra), len(isl_gnp_inter))\n",
    "\n",
    "isl_lp_intra, isl_lp_inter = cal_isl_p(\"Sharing\")\n",
    "print(\"Sharing reactive: \", len(isl_lp_intra), len(isl_lp_inter))\n",
    "\n",
    "isl_gp_intra, isl_gp_inter = cal_isl_p(\"Grid\")\n",
    "print(\"Grid reactive: \", len(isl_gp_intra), len(isl_gp_inter))\n",
    "\n",
    "isl_lp_intra[0], isl_lp_inter[0] = isl_lnp_intra[0], isl_lnp_inter[0]\n",
    "isl_gp_intra[0], isl_gp_inter[0] = isl_gnp_intra[0], isl_gnp_inter[0]"
   ]
  },
  {
   "cell_type": "code",
   "execution_count": 18,
   "id": "a7ab81b1",
   "metadata": {},
   "outputs": [],
   "source": [
    "np.save('isl_lp_intra.npy',isl_lp_intra)\n",
    "np.save('isl_lp_inter.npy',isl_lp_inter)\n",
    "np.save('isl_lnp_intra.npy',isl_lnp_intra)\n",
    "np.save('isl_lnp_inter.npy',isl_lnp_inter)\n",
    "np.save('isl_gp_intra.npy',isl_gp_intra)\n",
    "np.save('isl_gp_inter.npy',isl_gp_inter)\n",
    "np.save('isl_gnp_intra.npy',isl_gnp_intra)\n",
    "np.save('isl_gnp_inter.npy',isl_gnp_inter)"
   ]
  },
  {
   "attachments": {},
   "cell_type": "markdown",
   "id": "4a3a3dca",
   "metadata": {},
   "source": [
    "### Start from this line"
   ]
  },
  {
   "cell_type": "code",
   "execution_count": null,
   "id": "df2c98db",
   "metadata": {},
   "outputs": [],
   "source": [
    "isl_lp_intra = np.load('./data/isl_lp_intra.npy',allow_pickle=True).tolist()\n",
    "isl_lp_inter = np.load('./data/isl_lp_inter.npy',allow_pickle=True).tolist()\n",
    "isl_lnp_intra = np.load('./data/isl_lnp_intra.npy',allow_pickle=True).tolist()\n",
    "isl_lnp_inter = np.load('./data/isl_lnp_inter.npy',allow_pickle=True).tolist()\n",
    "isl_gp_intra = np.load('./data/isl_gp_intra.npy',allow_pickle=True).tolist()\n",
    "isl_gp_inter = np.load('./data/isl_gp_inter.npy',allow_pickle=True).tolist()\n",
    "isl_gnp_intra = np.load('./data/isl_gnp_intra.npy',allow_pickle=True).tolist()\n",
    "isl_gnp_inter = np.load('./data/isl_gnp_inter.npy',allow_pickle=True).tolist()"
   ]
  },
  {
   "cell_type": "code",
   "execution_count": 19,
   "id": "76c7f874",
   "metadata": {},
   "outputs": [],
   "source": [
    "# 生成时间序列数组\n",
    "def generate_time_series(start, end):\n",
    "    current = datetime.datetime.strptime(start, '%Y-%m-%d %H:%M:%S')\n",
    "    end_item = datetime.datetime.strptime(end, '%Y-%m-%d %H:%M:%S')\n",
    "    time_delta = datetime.timedelta(seconds=600) # modify\n",
    "    time_series = [current]\n",
    "    while current < end_item:\n",
    "        next = current + time_delta\n",
    "        time_series.append(next)\n",
    "        current = next\n",
    "    return time_series"
   ]
  },
  {
   "cell_type": "code",
   "execution_count": 20,
   "id": "af83fd6b",
   "metadata": {},
   "outputs": [
    {
     "name": "stdout",
     "output_type": "stream",
     "text": [
      "7.34095305832148\n",
      "7.34095305832148\n",
      "7.574833215046132\n",
      "7.574833215046132\n",
      "0.233880156724652 0.0\n",
      "0.233880156724652 0.0\n"
     ]
    },
    {
     "data": {
      "image/png": "[encoded data removed]",
      "text/plain": [
       "<Figure size 360x201.6 with 1 Axes>"
      ]
     },
     "metadata": {
      "needs_background": "light"
     },
     "output_type": "display_data"
    },
    {
     "name": "stdout",
     "output_type": "stream",
     "text": [
      "2.2694960965223565\n",
      "5.414216502649508\n",
      "2.646082327892122\n",
      "5.8544360333081\n",
      "0.37658623136976566 0.040000000000000036\n",
      "0.44021953065859165 1.79\n"
     ]
    },
    {
     "data": {
      "image/png": "[encoded data removed]",
      "text/plain": [
       "<Figure size 360x201.6 with 1 Axes>"
      ]
     },
     "metadata": {
      "needs_background": "light"
     },
     "output_type": "display_data"
    }
   ],
   "source": [
    "# 绘制多个时刻的链路长度分布\n",
    "def plot_isl_distribution(flag, data):\n",
    "    times = [i for i in range(0, cycle, 2000)]\n",
    "    r = []\n",
    "    t = 8000\n",
    "    for item in data:\n",
    "        r.append(item[t])\n",
    "    c = 300\n",
    "    \n",
    "    for i in range(len(r)):\n",
    "        r[i] = [round(r[i][j] / c, 2) for j in range(len(r[i]))]\n",
    "        print(np.mean(r[i]))\n",
    "        \n",
    "    print(np.mean(r[2])-np.mean(r[0]) , np.median(r[2])-np.median(r[0]))\n",
    "    print(np.mean(r[3])-np.mean(r[1]) , np.median(r[3])-np.median(r[1]))\n",
    "          \n",
    "    \n",
    "    fig = plt.figure(figsize=(5, 2.8))\n",
    "    ecdf, x, y = [], [], []\n",
    "    for i in range(len(r)):\n",
    "        ecdf.append(sm.distributions.ECDF(r[i]))\n",
    "        x.append(np.linspace(min(r[i]), max(r[i]),num=200))\n",
    "        y.append(ecdf[i](x[i]))\n",
    "    \n",
    "    colors = [\"#00A491\",\"#FFCD43\",\"#FF592D\",\"#3787C0\"]\n",
    "    widths = [5,5,2,2]\n",
    "    if flag == \"intra\":\n",
    "        widths = [8,6,4,2]\n",
    "    lines = ['-', '-', '--', '--']\n",
    "    # labels = ['limitless isl (np)', '+Grid (np)', 'limitless isl (p)', '+Grid (p)']\n",
    "    # labels = [\"free (aggressive)\", \"Grid (aggressive)\", \"free (lazy)\", \"Grid (lazy)\"]\n",
    "    # labels = [\"Sharing (proactive)\", \"Grid (proactive)\", \"Sharing (reactive)\", \"Grid (reactive)\"]\n",
    "    labels = [\"$n$-ISL (proactive)\", \"$4$-ISL (proactive)\", \"$n$-ISL (reactive)\", \"$4$-ISL (reactive)\"]\n",
    "\n",
    "#     right=6\n",
    "#     plt.xlim(-0.008,right)\n",
    "    plt.xlabel(\"ISL delay (millisecond)\", fontsize = 18)\n",
    "    plt.ylabel(\"CDF\", fontsize = 18)\n",
    "    plt.tick_params(labelsize=14)\n",
    "    \n",
    "    for i in range(len(r)):\n",
    "        plt.step(x[i], y[i], lines[i], linewidth=widths[i], color = colors[i], label = labels[i]) # color=colors[i], \n",
    "    \n",
    "#     plt.plot([x[0][-1],right],[1,1],lines[0],color=colors[0],linewidth=4)\n",
    "#     plt.plot([x[1][-1],right],[1,1],lines[1],color=colors[1],linewidth=4)\n",
    "    # plt.plot([x_h[-1],right],[1,1],'-',color=color,linewidth=4)\n",
    "    #plt.text(7, 0.01, labels[2], fontsize=18, color='#000000')  \n",
    "    plt.legend(frameon=True, fontsize=17, loc=0, labelspacing=0.1)# ,labelspacing=0.1,columnspacing=0.4,ncol=2,loc=3,bbox_to_anchor=(0.032,0.001))  # ,bbox_to_anchor=(0.33,0.82) bbox_to_anchor=(0.73,0.92) bbox_to_anchor=(1.03,0.82)\n",
    "    save_path = \"/Users/liulixin/Desktop/Tsinghua/Seafile/debris/papers/mobicom23-submission/figures/\"\n",
    "    plt.savefig(flag + \"_isl_v1.pdf\",dpi=300,bbox_inches = 'tight')\n",
    "    plt.show()\n",
    "    \n",
    "plot_isl_distribution(\"intra\", [isl_lnp_intra, isl_gnp_intra, isl_lp_intra, isl_gp_intra])\n",
    "plot_isl_distribution(\"inter\", [isl_lnp_inter, isl_gnp_inter, isl_lp_inter, isl_gp_inter])"
   ]
  },
  {
   "cell_type": "code",
   "execution_count": 1,
   "id": "b6723fe0",
   "metadata": {},
   "outputs": [
    {
     "data": {
      "text/plain": [
       "0.33704984369162183"
      ]
     },
     "execution_count": 1,
     "metadata": {},
     "output_type": "execute_result"
    }
   ],
   "source": [
    "(0.233880156724652+0.44021953065859165)/2"
   ]
  },
  {
   "cell_type": "code",
   "execution_count": 22,
   "id": "23858354",
   "metadata": {},
   "outputs": [
    {
     "data": {
      "text/plain": [
       "0.40840288101417865"
      ]
     },
     "execution_count": 22,
     "metadata": {},
     "output_type": "execute_result"
    }
   ],
   "source": [
    "(0.37658623136976566+0.44021953065859165)/2"
   ]
  },
  {
   "cell_type": "code",
   "execution_count": 2,
   "id": "11a8bd5c",
   "metadata": {},
   "outputs": [
    {
     "data": {
      "text/plain": [
       "6.85906862745098"
      ]
     },
     "execution_count": 2,
     "metadata": {},
     "output_type": "execute_result"
    }
   ],
   "source": [
    "(64.13-8.16)/8.16"
   ]
  }
 ],
 "metadata": {
  "kernelspec": {
   "display_name": "base",
   "language": "python",
   "name": "python3"
  },
  "language_info": {
   "codemirror_mode": {
    "name": "ipython",
    "version": 3
   },
   "file_extension": ".py",
   "mimetype": "text/x-python",
   "name": "python",
   "nbconvert_exporter": "python",
   "pygments_lexer": "ipython3",
   "version": "3.7.3"
  },
  "vscode": {
   "interpreter": {
    "hash": "61a57a4b5406d2de388e2f91097d4e4bcd7d5f4a46f53a795aa28a02eed27fc5"
   }
  }
 },
 "nbformat": 4,
 "nbformat_minor": 5
}
