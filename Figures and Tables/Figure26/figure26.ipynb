{
 "cells": [
  {
   "cell_type": "code",
   "execution_count": 2,
   "id": "fab37399",
   "metadata": {},
   "outputs": [
    {
     "ename": "ModuleNotFoundError",
     "evalue": "No module named 'tletools'",
     "output_type": "error",
     "traceback": [
      "\u001b[0;31m---------------------------------------------------------------------------\u001b[0m",
      "\u001b[0;31mModuleNotFoundError\u001b[0m                       Traceback (most recent call last)",
      "\u001b[0;32m<ipython-input-2-67e140dcd8ab>\u001b[0m in \u001b[0;36m<module>\u001b[0;34m\u001b[0m\n\u001b[1;32m      2\u001b[0m \u001b[0;32mimport\u001b[0m \u001b[0mpandas\u001b[0m \u001b[0;32mas\u001b[0m \u001b[0mpd\u001b[0m\u001b[0;34m\u001b[0m\u001b[0;34m\u001b[0m\u001b[0m\n\u001b[1;32m      3\u001b[0m \u001b[0;32mimport\u001b[0m \u001b[0mmath\u001b[0m\u001b[0;34m\u001b[0m\u001b[0;34m\u001b[0m\u001b[0m\n\u001b[0;32m----> 4\u001b[0;31m \u001b[0;32mfrom\u001b[0m \u001b[0mtletools\u001b[0m \u001b[0;32mimport\u001b[0m \u001b[0mTLE\u001b[0m\u001b[0;34m\u001b[0m\u001b[0;34m\u001b[0m\u001b[0m\n\u001b[0m\u001b[1;32m      5\u001b[0m \u001b[0;32mimport\u001b[0m \u001b[0mtime\u001b[0m\u001b[0;34m\u001b[0m\u001b[0;34m\u001b[0m\u001b[0m\n\u001b[1;32m      6\u001b[0m \u001b[0;32mimport\u001b[0m \u001b[0mdatetime\u001b[0m\u001b[0;34m\u001b[0m\u001b[0;34m\u001b[0m\u001b[0m\n",
      "\u001b[0;31mModuleNotFoundError\u001b[0m: No module named 'tletools'"
     ]
    }
   ],
   "source": [
    "import numpy as np\n",
    "import pandas as pd\n",
    "import math\n",
    "from tletools import TLE\n",
    "import time\n",
    "import datetime\n",
    "import matplotlib.pyplot as plt\n",
    "import statsmodels.api as sm\n",
    "import csv\n",
    "from skyfield.api import load, wgs84\n",
    "from skyfield.api import EarthSatellite\n",
    "from skyfield.elementslib import OsculatingElements\n",
    "from skyfield.data import spice\n",
    "\n",
    "import matplotlib.pyplot as plt\n",
    "import matplotlib\n",
    "\n",
    "import json\n",
    "import matplotlib.dates as mdates"
   ]
  },
  {
   "attachments": {},
   "cell_type": "markdown",
   "id": "cf97854f",
   "metadata": {},
   "source": [
    "### No need to run"
   ]
  },
  {
   "cell_type": "code",
   "execution_count": 17,
   "id": "a13edc02",
   "metadata": {},
   "outputs": [
    {
     "name": "stdout",
     "output_type": "stream",
     "text": [
      "type:  <class 'dict'>\n",
      "type:  <class 'dict'>\n",
      "1701 ['2022-04-01 05:20:18', '1 47150U 20088AE  22091.22243163  .00004265  00000-0  30493-3 0  9991', '2 47150  53.0541 269.1438 0001347  72.7409 287.3727 15.06410475 75421', '6925.316'] ['2022-07-19 13:29:28', '1 47150U 20088AE  22200.56213824  .00002218  00000-0  16775-3 0  9994', '2 47150  53.0546 138.2970 0001607  66.7903 293.3255 15.06404129 91907', '6925.336']\n",
      "Number of satellite:  1701\n",
      "satellites:  1686\n"
     ]
    }
   ],
   "source": [
    "# 读取TLE数据\n",
    "tle_file = \"../../tle/\" + \"tle_starlink_3_month_0401_0712.npy\"\n",
    "tle_data = np.load(tle_file, allow_pickle=True)\n",
    "print(\"type: \", type(tle_data.item()))\n",
    "tle_item = tle_data.item()\n",
    "print(\"type: \", type(tle_item))\n",
    "tle = tle_item.items()\n",
    "d = {}\n",
    "for k,v in tle:\n",
    "    d[k] = v # v是多维的，两个月左右的数据，采样粒度可能有区别\n",
    "print(len(d), d['47150'][0], d['47150'][-1])\n",
    "\n",
    "# keys (satellites)\n",
    "keys = [key for key in d.keys()]\n",
    "print(\"Number of satellite: \", len(keys))\n",
    "keys = sorted(keys)\n",
    "\n",
    "# 判断时间范围\n",
    "ss = []\n",
    "for key in keys:\n",
    "    if d[key][0][0][:10]== '2022-04-01':\n",
    "        ss.append(key)\n",
    "# print(set(ss))\n",
    "keys = ss\n",
    "print(\"satellites: \", len(keys))"
   ]
  },
  {
   "cell_type": "code",
   "execution_count": 6,
   "id": "3abd4d65",
   "metadata": {},
   "outputs": [],
   "source": [
    "np.save('keys.npy',keys)"
   ]
  },
  {
   "cell_type": "code",
   "execution_count": 3,
   "id": "d78f2c74",
   "metadata": {},
   "outputs": [],
   "source": [
    "keys = np.load('./data/keys.npy',allow_pickle=True).tolist()"
   ]
  },
  {
   "cell_type": "code",
   "execution_count": 6,
   "id": "6397b7b5",
   "metadata": {},
   "outputs": [],
   "source": [
    "# 读入TLE预测位置信息\n",
    "cbf_file = \"../../tle/\" + \"pos_cbf_3_month.npy\"\n",
    "pos_file = \"../../tle/\" + \"pos_3_month.npy\"\n",
    "\n",
    "pos_cbf=np.load(cbf_file,allow_pickle=True).tolist()\n",
    "# print(type(pos_cbf[0][0][0]))\n",
    "# print(pos_cbf[0][0])\n",
    "# print(np.shape(pos_cbf))\n",
    "\n",
    "pos=np.load(pos_file,allow_pickle=True).tolist()\n",
    "# print(type(pos[0][0][0]))\n",
    "# print(pos[0][0])\n",
    "# print(np.shape(pos))"
   ]
  },
  {
   "cell_type": "code",
   "execution_count": 18,
   "id": "edd687b5",
   "metadata": {},
   "outputs": [
    {
     "name": "stdout",
     "output_type": "stream",
     "text": [
      "inclination range:  2 dict_keys([53.0, 70.0])\n"
     ]
    }
   ],
   "source": [
    "# 统计倾角变化范围\n",
    "def cal_inclination():\n",
    "    incs = {}\n",
    "    for i in range(len(keys)):\n",
    "        inc = []\n",
    "        for t,line1,line2,ellipse in d[keys[i]]:\n",
    "            tle_string = keys[i] + '\\n' + line1 + '\\n' + line2\n",
    "            tle_lines = tle_string.strip().splitlines()\n",
    "            tlee = TLE.from_lines(*tle_lines)\n",
    "            tmp_inc = round(tlee.inc, 0) # 取整数位\n",
    "            inc.append(tmp_inc)\n",
    "        inc = list(set(inc))\n",
    "        if len(inc) == 1:\n",
    "            if inc[0] not in incs:\n",
    "                incs[inc[0]] = [keys[i]]\n",
    "            else:\n",
    "                incs[inc[0]].append(keys[i])\n",
    "        # break\n",
    "    return incs\n",
    "sat_inc = cal_inclination()\n",
    "print(\"inclination range: \", len(sat_inc), sat_inc.keys())"
   ]
  },
  {
   "cell_type": "code",
   "execution_count": 9,
   "id": "9801e706",
   "metadata": {},
   "outputs": [
    {
     "name": "stdout",
     "output_type": "stream",
     "text": [
      "1650 [174.0, 250.0]\n"
     ]
    }
   ],
   "source": [
    "# 统计高度变化范围\n",
    "def cal_altitude(key):\n",
    "    r = []\n",
    "    sats = sat_inc[key]\n",
    "    for sat in sats:\n",
    "        tmp = []\n",
    "        i = sat\n",
    "        for lat,lon,alt in pos[i]:\n",
    "            tmp.append(round(alt,0))\n",
    "        ranges = [min(tmp), max(tmp)]\n",
    "        r.append(ranges)\n",
    "    r = sorted(r, key = lambda x:x[1])\n",
    "    return r\n",
    "\n",
    "alts = cal_altitude(53.0)\n",
    "print(len(alts), alts[0])"
   ]
  },
  {
   "cell_type": "code",
   "execution_count": 19,
   "id": "ec207e7d",
   "metadata": {},
   "outputs": [
    {
     "name": "stdout",
     "output_type": "stream",
     "text": [
      "(1409, 3) ['1', '5', '45182']\n",
      "1409\n",
      "shell_1:  1409\n",
      "shell_2:  241\n",
      "shell_3:  36\n",
      "total:  1686\n",
      "True\n"
     ]
    }
   ],
   "source": [
    "# 统计不同轨道面卫星分布及变轨情况\n",
    "file = \"../../tle/data/sat_orbits_filtered_3_month.csv\"\n",
    "df = pd.read_csv(file,header=None,sep='\\t')\n",
    "df.drop(labels=None,axis=0, index=0, columns=None, inplace=True)\n",
    "sat_data = df[0].str.split(',').values.tolist()\n",
    "print(np.shape(sat_data), sat_data[0])\n",
    "\n",
    "def save_csv(file, r):\n",
    "    with open(file,\"w\") as f: \n",
    "        for item in r:\n",
    "            f.write(item + '\\n')\n",
    "\n",
    "def establish_dict():\n",
    "    d = {}\n",
    "    for item in sat_data:\n",
    "        d[item[-1]] = int(item[0])\n",
    "    return d\n",
    "name2orbit = establish_dict()\n",
    "print(len(name2orbit))\n",
    "\n",
    "# shell 1\n",
    "shell_1 = []\n",
    "for item in sat_data:\n",
    "    shell_1.append(item[-1])\n",
    "print(\"shell_1: \", len(shell_1))\n",
    "\n",
    "# shell 2\n",
    "shell_2 = []\n",
    "for item in sat_inc[53.0]:\n",
    "    if item not in shell_1:\n",
    "        shell_2.append(item)\n",
    "print(\"shell_2: \", len(shell_2))\n",
    "\n",
    "# shell 3\n",
    "shell_3 = [item for item in sat_inc[70.0]]\n",
    "print(\"shell_3: \", len(shell_3))\n",
    "\n",
    "print(\"total: \", len(shell_1) + len(shell_2) + len(shell_3))\n",
    "\n",
    "def name_to_shell():\n",
    "    d = {}\n",
    "    for sat in shell_1:\n",
    "        d[sat] = 1\n",
    "    for sat in shell_2:\n",
    "        d[sat] = 2\n",
    "    for sat in shell_3:\n",
    "        d[sat] = 3\n",
    "    return d\n",
    "name2shell = name_to_shell()\n",
    "print(len(name2shell) == len(keys))\n",
    "shells = [len(shell_1), len(shell_2), len(shell_3)]\n",
    "\n",
    "# 保存文件\n",
    "# save_csv(\"./data/sat_shell_1.txt\", shell_1)\n",
    "# save_csv(\"./data/sat_shell_2.txt\", shell_2)\n",
    "# save_csv(\"./data/sat_shell_3.txt\", shell_3)"
   ]
  },
  {
   "cell_type": "code",
   "execution_count": 20,
   "id": "7e32886a",
   "metadata": {},
   "outputs": [],
   "source": [
    "np.save('shells.npy',shells)\n",
    "np.save('name2orbit.npy',name2orbit)"
   ]
  },
  {
   "attachments": {},
   "cell_type": "markdown",
   "id": "5fc7056c",
   "metadata": {},
   "source": [
    "### Start from this line"
   ]
  },
  {
   "cell_type": "code",
   "execution_count": null,
   "id": "59d8b94f",
   "metadata": {},
   "outputs": [],
   "source": [
    "keys = np.load('./data/keys.npy',allow_pickle=True).tolist()\n",
    "shells = np.load('./data/shells.npy',allow_pickle=True).tolist()\n",
    "name2orbit = np.load('./data/name2orbit.npy',allow_pickle=True).item()"
   ]
  },
  {
   "cell_type": "code",
   "execution_count": 9,
   "id": "795dd71c",
   "metadata": {},
   "outputs": [],
   "source": [
    "shell_1 = list(np.array(pd.read_csv('./data/sat_shell_1.txt')).reshape(1408))\n",
    "shell_2 = list(np.array(pd.read_csv('./data/sat_shell_2.txt')).reshape(240))\n",
    "shell_3 = list(np.array(pd.read_csv('./data/sat_shell_3.txt')).reshape(35))"
   ]
  },
  {
   "cell_type": "code",
   "execution_count": 10,
   "id": "10ccda10",
   "metadata": {},
   "outputs": [
    {
     "name": "stdout",
     "output_type": "stream",
     "text": [
      "['45568', '45579', '46168', '46326', '46334', '46364', '46671', '46712', '46756', '46757', '46770', '46789', '47138', '47139', '47153', '47372', '47384', '47393', '47394', '47399', '47645', '47646', '47660', '47663', '47666', '47722', '47729', '47732', '47735', '47738', '47768', '47805', '47827', '47836', '47901', '47911', '47913', '47980', '47985', '47995', '47998', '48000', '48002', '48014', '48016', '48018', '48020', '48022', '48028', '48092', '48093', '48112', '48125', '48128', '48135', '48292', '48364', '48368', '48395', '48412', '48432', '48433', '48434', '48458', '48459', '48462', '48481', '48484', '48561', '48575', '48578', '48582', '48594', '48640', '48648', '48666', '48681', '48682', '48684', '48686', '48692'] 81\n"
     ]
    }
   ],
   "source": [
    "# 读入变轨卫星信息（所有）\n",
    "def read_txt(file):\n",
    "    r = []\n",
    "    with open(file, \"r\") as f:  \n",
    "        line = f.readline()\n",
    "        while line:\n",
    "            #if line.strip('\\n') in filtered_keys:\n",
    "            r.append(line.strip('\\n'))\n",
    "            line = f.readline()\n",
    "    return r\n",
    "task_maneuver = read_txt(\"../../tle/data/task_maneuver.txt\")\n",
    "# task_maneuver = read_txt(\"./data/maneuver.txt\")\n",
    "print(task_maneuver, len(task_maneuver))"
   ]
  },
  {
   "attachments": {},
   "cell_type": "markdown",
   "id": "4bddfe41",
   "metadata": {},
   "source": [
    "### No need to run "
   ]
  },
  {
   "cell_type": "code",
   "execution_count": 14,
   "id": "31b8240d",
   "metadata": {},
   "outputs": [
    {
     "name": "stdout",
     "output_type": "stream",
     "text": [
      "[59, 22, 0]\n"
     ]
    }
   ],
   "source": [
    "# 统计变轨卫星轨道面分布\n",
    "def cal_maneuver_distribution(mu):\n",
    "    r = [0, 0, 0]\n",
    "    for sat in mu:\n",
    "        shell = name2shell[sat]\n",
    "        r[shell-1] += 1\n",
    "    return r\n",
    "mu_dis = cal_maneuver_distribution(task_maneuver)\n",
    "print(mu_dis)"
   ]
  },
  {
   "cell_type": "code",
   "execution_count": 15,
   "id": "51a93329",
   "metadata": {},
   "outputs": [],
   "source": [
    "np.save('mu_dis.npy',mu_dis)"
   ]
  },
  {
   "attachments": {},
   "cell_type": "markdown",
   "id": "d25a3976",
   "metadata": {},
   "source": [
    "### Start from this line"
   ]
  },
  {
   "cell_type": "code",
   "execution_count": 11,
   "id": "7e535316",
   "metadata": {},
   "outputs": [],
   "source": [
    "mu_dis = np.load('./data/mu_dis.npy',allow_pickle=True).tolist()"
   ]
  },
  {
   "cell_type": "code",
   "execution_count": 12,
   "id": "7598c04b",
   "metadata": {},
   "outputs": [
    {
     "name": "stdout",
     "output_type": "stream",
     "text": [
      "[1409, 241, 36]\n"
     ]
    },
    {
     "data": {
      "image/png": "[encoded data removed]",
      "text/plain": [
       "<Figure size 360x180 with 1 Axes>"
      ]
     },
     "metadata": {
      "needs_background": "light"
     },
     "output_type": "display_data"
    }
   ],
   "source": [
    "# 绘制不同轨道面卫星数量图\n",
    "def plot_shell_sat():\n",
    "    fig = plt.figure(figsize=(5, 2.5))\n",
    "    font2 = {'family' : 'Arial',\n",
    "    'weight' : 'normal',\n",
    "    'size'   : 18,\n",
    "    }\n",
    "    colors = [\"#00A491\",\"#FFCD43\",\"#FF592D\",\"#3787C0\"]\n",
    "    label_list = ['shell 1', 'shell 2', 'shell 3']\n",
    "    label_list = ['$\\phi$=$53^{\\circ}$\\n $H$=$550km$', '$\\phi$=$53.2^{\\circ}$\\n $H$=$540km$', '$\\phi$=$70^{\\circ}$\\n $H$=$570km$']\n",
    "    labels = ['without maneuver', 'with maneuver']\n",
    "    num_list1 = shells\n",
    "    #num_list1 = [(mu_dis[i]/shells[i]) * 100 for i in range(len(shells))]\n",
    "    print(num_list1)\n",
    "    x = list(range(len(num_list1)))\n",
    "    rects1 = plt.bar(x, height=num_list1, width=0.5, color=colors[0], alpha=0.8, label=labels[0])\n",
    "    plt.ylim(0, 1500)\n",
    "    plt.ylabel(\"Num. satellites\",fontsize=18)\n",
    "    # plt.ylabel(\"PDF (%)\",fontsize=18)\n",
    "    plt.xticks(x, label_list)\n",
    "    plt.xlabel(\"Orbit shell\",fontsize=18)\n",
    "    plt.tick_params(labelsize=18)\n",
    "    # plt.legend(prop=font2)\n",
    "    plt.savefig(\"multiple_shell_v3.pdf\",dpi=300,bbox_inches = 'tight')\n",
    "    # plt.savefig(save_path + \"maneuver_shell_v3.pdf\",dpi=300,bbox_inches = 'tight')\n",
    "    plt.show()\n",
    "plot_shell_sat()"
   ]
  },
  {
   "cell_type": "code",
   "execution_count": 13,
   "id": "5dd92d8c",
   "metadata": {},
   "outputs": [
    {
     "name": "stdout",
     "output_type": "stream",
     "text": [
      "[4.187366926898509, 9.12863070539419, 0.0]\n"
     ]
    },
    {
     "data": {
      "image/png": "[encoded data removed]",
      "text/plain": [
       "<Figure size 360x158.4 with 1 Axes>"
      ]
     },
     "metadata": {
      "needs_background": "light"
     },
     "output_type": "display_data"
    }
   ],
   "source": [
    "# 绘制不同轨道面卫星数量图\n",
    "def plot_shell_sat():\n",
    "    fig = plt.figure(figsize=(5, 2.2))\n",
    "    font2 = {'family' : 'Arial',\n",
    "    'weight' : 'normal',\n",
    "    'size'   : 18,\n",
    "    }\n",
    "    colors = [\"#00A491\",\"#FFCD43\",\"#FF592D\",\"#3787C0\"]\n",
    "    label_list = ['shell 1', 'shell 2', 'shell 3']\n",
    "    label_list = ['$\\phi$=$53^{\\circ}$\\n $H$=$550km$', '$\\phi$=$53.2^{\\circ}$\\n $H$=$540km$', '$\\phi$=$70^{\\circ}$\\n $H$=$570km$']\n",
    "    labels = ['without maneuver', 'with maneuver']\n",
    "    num_list1 = [(mu_dis[i]/shells[i]) * 100 for i in range(len(shells))]\n",
    "    print(num_list1)\n",
    "    x = list(range(len(num_list1)))\n",
    "    rects1 = plt.bar(x, height=num_list1, width=0.5, color=colors[0], alpha=0.8, label=labels[0])\n",
    "    plt.ylim(0, 10)\n",
    "    plt.ylabel(\"PDF (%)\",fontsize=18)\n",
    "    plt.xticks(x, label_list)\n",
    "    plt.xlabel(\"Orbit shell\",fontsize=18)\n",
    "    plt.tick_params(labelsize=18)\n",
    "    # plt.legend(prop=font2)\n",
    "    plt.savefig(\"maneuver_shell_v3.pdf\",dpi=300,bbox_inches = 'tight')\n",
    "    plt.show()\n",
    "plot_shell_sat()"
   ]
  },
  {
   "cell_type": "code",
   "execution_count": null,
   "id": "963592ef",
   "metadata": {},
   "outputs": [],
   "source": [
    "# 绘制第一轨道面上卫星分布\n",
    "def plot_shell_1():\n",
    "    r = [0] * 72\n",
    "    for sat in shell_1:\n",
    "        orbit = name2orbit[str(sat)]\n",
    "        r[orbit-1] += 1\n",
    "    d = {}\n",
    "    for item in r:\n",
    "        if item in d:\n",
    "            d[item] += 1\n",
    "        else:\n",
    "            d[item] = 1\n",
    "    print(d)\n",
    "    keys = list(d.keys())\n",
    "    keys.sort()\n",
    "    \n",
    "    fig = plt.figure(figsize=(5, 2.5))\n",
    "    font2 = {'family' : 'Arial',\n",
    "    'weight' : 'normal',\n",
    "    'size'   : 18,\n",
    "    }\n",
    "    colors = [\"#00A491\",\"#FFCD43\",\"#FF592D\",\"#3787C0\"]\n",
    "    label_list = keys\n",
    "    labels = ['with maneuver', 'without maneuver']\n",
    "    num_list1 = [d[key] for key in keys]\n",
    "    x = list(range(len(num_list1)))\n",
    "    rects1 = plt.bar(x, height=num_list1, width=0.45, color=colors[0], alpha=0.8, label=labels[0])\n",
    "    # plt.ylim(0, 30)\n",
    "    plt.ylabel(\"Num. orbits\",fontsize=18)\n",
    "    plt.xticks(x, label_list)\n",
    "    plt.xlabel(\"Num. satellites\",fontsize=18)\n",
    "    plt.tick_params(labelsize=18)\n",
    "    # plt.legend(prop=font2)\n",
    "    plt.savefig(\"sat_distribution_shell_1_v1.pdf\",dpi=300,bbox_inches = 'tight')\n",
    "    plt.show()\n",
    "plot_shell_1()"
   ]
  },
  {
   "cell_type": "markdown",
   "id": "41ea78e7",
   "metadata": {},
   "source": [
    "### 变轨时长统计"
   ]
  },
  {
   "cell_type": "code",
   "execution_count": 18,
   "id": "23830be7",
   "metadata": {},
   "outputs": [
    {
     "name": "stdout",
     "output_type": "stream",
     "text": [
      "<class 'dict'>\n",
      "273\n",
      "80\n"
     ]
    }
   ],
   "source": [
    "# 读入卫星变轨时间\n",
    "def read_json():\n",
    "    file = '../../tle/data/maneuver_time.json'\n",
    "    with open(file, 'r') as f:\n",
    "        data = json.load(f)\n",
    "    data = json.loads(data)\n",
    "    print(type(data))\n",
    "    return data\n",
    "\n",
    "mu_json = read_json()\n",
    "print(len(mu_json))\n",
    "\n",
    "def cal_maneuver_time(data, mu):\n",
    "    d, r = {}, []\n",
    "    for key in data:\n",
    "        if key in mu:\n",
    "            tmp = data[key]\n",
    "            for item in tmp:\n",
    "                start = datetime.datetime.strptime(item[0][:19], '%Y-%m-%d %H:%M:%S')\n",
    "                stop = datetime.datetime.strptime(item[1][:19], '%Y-%m-%d %H:%M:%S')\n",
    "                r.append(round(((stop - start).days * 86400 + (stop - start).seconds) / 86400, 2) ) # day\n",
    "    return r\n",
    "    \n",
    "mu_time = cal_maneuver_time(mu_json, task_maneuver)\n",
    "print(len(mu_time))"
   ]
  },
  {
   "cell_type": "code",
   "execution_count": 19,
   "id": "ee02c491",
   "metadata": {},
   "outputs": [
    {
     "name": "stdout",
     "output_type": "stream",
     "text": [
      "maneuver interval:  8.58 21.49 43.97\n",
      "8.58 [0.0125 0.0125 0.0125 0.025  0.025  0.025  0.025  0.05   0.05   0.0625]\n"
     ]
    },
    {
     "data": {
      "image/png": "[encoded data removed]",
      "text/plain": [
       "<Figure size 360x187.2 with 1 Axes>"
      ]
     },
     "metadata": {
      "needs_background": "light"
     },
     "output_type": "display_data"
    }
   ],
   "source": [
    "# 绘制时间分布cdf\n",
    "def plot_mu_time(r):\n",
    "    print(\"maneuver interval: \", min(r[0]), np.mean(r[0]), max(r[0]))\n",
    "    \n",
    "    # cdf\n",
    "    fig = plt.figure(figsize=(5, 2.6))\n",
    "    font2 = {'family' : 'Arial',\n",
    "    'weight' : 'normal',\n",
    "    'size'   : 22,\n",
    "    }\n",
    "    ecdf, x, y = [], [], []\n",
    "    for i in range(len(r)):\n",
    "        ecdf.append(sm.distributions.ECDF(r[i]))\n",
    "        x.append(np.linspace(min(r[i]), max(r[i]),num=200))\n",
    "        y.append(ecdf[i](x[i]))\n",
    "    \n",
    "    # colors = ['#000000', '#b30000']\n",
    "    lines = ['-', '--']\n",
    "    labels = ['limitless isl (np)', 'limitless isl (p)', '+Grid (np)', '+Grid (p)']\n",
    "\n",
    "    # right=91.0125\n",
    "    # plt.xlim(0,right)\n",
    "    plt.xlabel(\"Maneuver duration (day)\", fontsize = 18)\n",
    "    plt.ylabel(\"CDF\", fontsize = 18)\n",
    "    plt.tick_params(labelsize=18)\n",
    "    \n",
    "    for i in range(len(r)):\n",
    "        print(x[i][0], y[i][:10])\n",
    "        plt.step(x[i], y[i], lines[i], linewidth=4, label=labels[i]) # color=colors[i], \n",
    "    \n",
    "    # plt.plot([x_d[-1],right],[1,1],'--',color=color,linewidth=4)\n",
    "    # plt.plot([x_h[-1],right],[1,1],'-',color=color,linewidth=4)\n",
    "      \n",
    "    # plt.legend(frameon=True, prop=font3, loc=4, labelspacing=0.1)# ,labelspacing=0.1,columnspacing=0.4,ncol=2,loc=3,bbox_to_anchor=(0.032,0.001))  # ,bbox_to_anchor=(0.33,0.82) bbox_to_anchor=(0.73,0.92) bbox_to_anchor=(1.03,0.82)\n",
    "    plt.savefig(\"maneuver_time_v1.pdf\",dpi=300,bbox_inches = 'tight')\n",
    "    plt.show()\n",
    "plot_mu_time([mu_time])"
   ]
  }
 ],
 "metadata": {
  "kernelspec": {
   "display_name": "base",
   "language": "python",
   "name": "python3"
  },
  "language_info": {
   "codemirror_mode": {
    "name": "ipython",
    "version": 3
   },
   "file_extension": ".py",
   "mimetype": "text/x-python",
   "name": "python",
   "nbconvert_exporter": "python",
   "pygments_lexer": "ipython3",
   "version": "3.7.3"
  },
  "vscode": {
   "interpreter": {
    "hash": "61a57a4b5406d2de388e2f91097d4e4bcd7d5f4a46f53a795aa28a02eed27fc5"
   }
  }
 },
 "nbformat": 4,
 "nbformat_minor": 5
}
