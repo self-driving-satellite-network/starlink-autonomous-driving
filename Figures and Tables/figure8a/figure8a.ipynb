{
 "cells": [
  {
   "cell_type": "code",
   "execution_count": 1,
   "metadata": {},
   "outputs": [],
   "source": [
    "import pandas as pd\n",
    "from datetime import datetime,timedelta\n",
    "import matplotlib.pyplot as plt\n",
    "from tqdm import tqdm\n",
    "import os"
   ]
  },
  {
   "attachments": {},
   "cell_type": "markdown",
   "metadata": {},
   "source": [
    "## No need to run"
   ]
  },
  {
   "cell_type": "code",
   "execution_count": 5,
   "metadata": {},
   "outputs": [],
   "source": [
    "tle_path='../TLE/all_by_id_latest/'\n",
    "starttime=datetime.strptime(\"2022-4-1 0:0:0\",\"%Y-%m-%d %H:%M:%S\")\n",
    "endtime=datetime.strptime(\"2022-7-20 0:0:0\",\"%Y-%m-%d %H:%M:%S\")"
   ]
  },
  {
   "cell_type": "code",
   "execution_count": null,
   "metadata": {},
   "outputs": [],
   "source": [
    "g = os.walk(tle_path)  \n",
    "df_list=[]\n",
    "for path,dir_list,file_list in g:  \n",
    "    for file in tqdm(file_list):\n",
    "        temp=pd.read_csv(path+file)\n",
    "        temp['EPOCH']=temp['EPOCH'].astype('datetime64[ns]')\n",
    "        temp=temp[(temp['EPOCH']>=starttime)&(temp['EPOCH']<=endtime)]\n",
    "        if temp.shape[0]>0:\n",
    "            df_list.append(temp)\n",
    "tle=pd.concat(df_list)\n",
    "del df_list\n",
    "data=pd.DataFrame(columns=tle.columns)\n",
    "for satid in tqdm(tle['NORAD_CAT_ID'].unique()):\n",
    "    temp_df=tle[tle['NORAD_CAT_ID']==satid]\n",
    "    temp_df=temp_df.sort_values(by='EPOCH')\n",
    "    data=data.append(temp_df.loc[temp_df.index[-1]])\n",
    "data['height']=data.apply(lambda x:x['SEMIMAJOR_AXIS']-6378.135,axis=1)\n",
    "data.to_csv('latest_tle.csv')"
   ]
  },
  {
   "attachments": {},
   "cell_type": "markdown",
   "metadata": {},
   "source": [
    "### Start from this line"
   ]
  },
  {
   "cell_type": "code",
   "execution_count": 2,
   "metadata": {},
   "outputs": [],
   "source": [
    "data=pd.read_csv('../figure4/data/latest_tle.csv')"
   ]
  },
  {
   "cell_type": "code",
   "execution_count": 3,
   "metadata": {},
   "outputs": [],
   "source": [
    "all=[]\n",
    "debris=[]\n",
    "starlinks=[]\n",
    "rocket=[]\n",
    "payloads=[]\n",
    "unknown=[]\n",
    "\n",
    "for h in range(200,1301,1):\n",
    "    temp_df=data[((data['height']>=h)&(data['height']<h+1))]\n",
    "    all.append(temp_df.shape[0])\n",
    "    debris.append(temp_df[temp_df['OBJECT_TYPE']=='DEBRIS'].shape[0])\n",
    "    starlinks.append(temp_df[temp_df['OBJECT_NAME'].str.contains('STARLINK')].shape[0])\n",
    "    rocket.append(temp_df[temp_df['OBJECT_TYPE']=='ROCKET BODY'].shape[0])\n",
    "    payloads.append(temp_df[temp_df['OBJECT_TYPE']=='PAYLOAD'].shape[0])\n",
    "    unknown.append(temp_df[temp_df['OBJECT_TYPE']=='UNKNOWN'].shape[0])\n",
    "    \n",
    "    "
   ]
  },
  {
   "attachments": {},
   "cell_type": "markdown",
   "metadata": {},
   "source": [
    "## Figure 8a Space objects in our dataset 类别分布图"
   ]
  },
  {
   "cell_type": "code",
   "execution_count": 4,
   "metadata": {},
   "outputs": [
    {
     "data": {
      "text/plain": [
       "Text(0, 0.5, 'Number')"
      ]
     },
     "execution_count": 4,
     "metadata": {},
     "output_type": "execute_result"
    },
    {
     "data": {
      "image/png": "[encoded data removed]",
      "text/plain": [
       "<Figure size 504x288 with 1 Axes>"
      ]
     },
     "metadata": {
      "needs_background": "light"
     },
     "output_type": "display_data"
    }
   ],
   "source": [
    "type_num={}\n",
    "type_num['Starlink']=data[data['OBJECT_NAME'].str.contains('STARLINK')].shape[0]\n",
    "type_num['Other\\n satellites']=data[data['OBJECT_TYPE']=='PAYLOAD'].shape[0]-type_num['Starlink']\n",
    "type_num['Debris']=data[data['OBJECT_TYPE']=='DEBRIS'].shape[0]+data[data['OBJECT_TYPE']=='ROCKET BODY'].shape[0]\n",
    "# type_num['Rocket\\n body']=data[data['OBJECT_TYPE']=='ROCKET BODY'].shape[0]\n",
    "type_num['Unknown']=data[data['OBJECT_TYPE']=='UNKNOWN'].shape[0]\n",
    "\n",
    "fs=20\n",
    "fig=plt.figure(figsize=(7,4))\n",
    "# x=[5,10,15,20,25]\n",
    "x=[5,10,15,20]\n",
    "color=[\"#00A491\",\"#FFCD43\",\"#FF592D\",\"#3787C0\",\"#8E55A5\"]\n",
    "# color=[\"#264653\",\"#2a9d8f\",\"#e9c46a\",\"#f4a261\",\"#e76f51\"]\n",
    "plt.subplots_adjust(wspace =0.1, hspace =0.3)#调整子图间距\n",
    "# plt.subplot(1,2,1)\n",
    "plt.bar(x,type_num.values(),color=color,width=2.5)\n",
    "for a,b in zip(x,type_num.values()):\n",
    "    plt.text(a, b+0.05, str(round((b/sum(type_num.values()))*100,1))+\"%\", ha='center', va= 'bottom',fontsize=fs)\n",
    "plt.xticks(x,type_num.keys(),fontsize=fs)\n",
    "plt.yticks(range(0,18001,6000),range(0,18001,6000),fontsize=fs)\n",
    "# plt.ticklabel_format( axis='y', scilimits=(0,0))\n",
    "plt.ylim(0,18000)\n",
    "# plt.xlabel(\"Object type\",fontsize=19)\n",
    "plt.ylabel(\"Number\",fontsize=fs)\n",
    "# plt.subplot(1,4,3)\n",
    "# plt.pie(type_num.values(),colors=color,autopct=\"%0.1f%%\",wedgeprops = {'width':0.4,'edgecolor':'white', 'linewidth':1},startangle=0,pctdistance=1.25)\n",
    "# plt.title(\"Proportion\")\n",
    "# plt.tight_layout()\n",
    "#plt.savefig(\"./figure8a.pdf\",bbox_inches='tight')"
   ]
  },
  {
   "cell_type": "code",
   "execution_count": null,
   "metadata": {},
   "outputs": [],
   "source": []
  }
 ],
 "metadata": {
  "kernelspec": {
   "display_name": "base",
   "language": "python",
   "name": "python3"
  },
  "language_info": {
   "codemirror_mode": {
    "name": "ipython",
    "version": 3
   },
   "file_extension": ".py",
   "mimetype": "text/x-python",
   "name": "python",
   "nbconvert_exporter": "python",
   "pygments_lexer": "ipython3",
   "version": "3.7.3"
  },
  "orig_nbformat": 4,
  "vscode": {
   "interpreter": {
    "hash": "61a57a4b5406d2de388e2f91097d4e4bcd7d5f4a46f53a795aa28a02eed27fc5"
   }
  }
 },
 "nbformat": 4,
 "nbformat_minor": 2
}
