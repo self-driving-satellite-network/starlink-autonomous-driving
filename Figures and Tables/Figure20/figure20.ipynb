{
 "cells": [
  {
   "cell_type": "code",
   "execution_count": 1,
   "metadata": {},
   "outputs": [],
   "source": [
    "import pandas as pd\n",
    "import xlrd\n",
    "import matplotlib.pyplot as plt\n",
    "import numpy as np\n",
    "import os\n",
    "import json\n",
    "from multiprocessing import Pool\n",
    "from tqdm import tqdm \n",
    "import multiprocessing\n",
    "from multiprocessing import Process, Manager\n",
    "import datetime\n",
    "from matplotlib import ticker"
   ]
  },
  {
   "attachments": {},
   "cell_type": "markdown",
   "metadata": {},
   "source": [
    "## No need to run"
   ]
  },
  {
   "cell_type": "code",
   "execution_count": 5,
   "metadata": {},
   "outputs": [],
   "source": [
    "inputdir='../../Dataset/raw_conjunction_data/'\n",
    "# col = [\n",
    "#     \"Max Probability\", \"Dilution Threshold(km)\", \"Min Range(km)\", \"Relative Velocity(km/sec)\", \"Days Since Epoch1\",\n",
    "#     \"Days Since Epoch2\",\"NAME1\",\"NAME2\",\"ID\"]\n",
    "col=[\"Max Probability\",\"Min Range(km)\",\"NAME1\",\"NAME2\",\"ID\",\"TCA\"]\n",
    "df_empty=pd.DataFrame(columns=col)\n",
    "for parents, dirnames, filenames in os.walk(inputdir):\n",
    "    for filename in filenames:\n",
    "        df=pd.read_excel(os.path.join(parents,filename))\n",
    "        df=df[col]\n",
    "        df_empty=df_empty.append(df,ignore_index=True)"
   ]
  },
  {
   "cell_type": "code",
   "execution_count": 7,
   "metadata": {},
   "outputs": [
    {
     "data": {
      "text/plain": [
       "4569296"
      ]
     },
     "execution_count": 7,
     "metadata": {},
     "output_type": "execute_result"
    }
   ],
   "source": [
    "len(df_empty)"
   ]
  },
  {
   "cell_type": "code",
   "execution_count": 8,
   "metadata": {},
   "outputs": [
    {
     "name": "stdout",
     "output_type": "stream",
     "text": [
      "[0.1951 0.004 'STARLINK-3282' 'STARLINK-3290' '50177-50828'\n",
      " '2022 Apr 24 01:27:25.613']\n",
      "距离:STARLINK-3282\n"
     ]
    }
   ],
   "source": [
    "# '''\n",
    "# col = (\n",
    "#     \"Max Probability\", \"Dilution Threshold(km)\", \"Min Range(km)\", \"Relative Velocity(km/sec)\", \"Days Since Epoch1\",\n",
    "#     \"Days Since Epoch2\",\"NAME1\",\"NAME2\",\"ID\")\n",
    "# '''\n",
    "# df = pd.read_excel('data/conjunction_result30000.xls')\n",
    "data=df_empty.values\n",
    "print(data[0])\n",
    "print(\"距离:{}\".format(data[0][2]))"
   ]
  },
  {
   "cell_type": "code",
   "execution_count": null,
   "metadata": {},
   "outputs": [],
   "source": [
    "#{'INTLDES': '1957-001A', 'NORAD_CAT_ID': '1', 'OBJECT_TYPE': 'ROCKET BODY', 'SATNAME': 'SL-1 R/B', 'COUNTRY': 'CIS', 'LAUNCH': '1957-10-04', 'SITE': 'TTMTR', 'DECAY': '1957-12-01', 'PERIOD': '96.19', 'INCLINATION': '65.10', 'APOGEE': '938', 'PERIGEE': '214', 'COMMENT': None, 'COMMENTCODE': '4', 'RCSVALUE': '0', 'RCS_SIZE': 'LARGE', 'FILE': '1', 'LAUNCH_YEAR': '1957', 'LAUNCH_NUM': '1', 'LAUNCH_PIECE': 'A', 'CURRENT': 'Y', 'OBJECT_NAME': 'SL-1 R/B', 'OBJECT_ID': '1957-001A', 'OBJECT_NUMBER': '1'}"
   ]
  },
  {
   "attachments": {},
   "cell_type": "markdown",
   "metadata": {},
   "source": [
    "## Start from this line"
   ]
  },
  {
   "cell_type": "code",
   "execution_count": 2,
   "metadata": {},
   "outputs": [],
   "source": [
    "file=\"../Figure10/data/category.json\"\n",
    "category=[]\n",
    "col_cate=['NORAD_CAT_ID','OBJECT_TYPE']\n",
    "with open(file, 'r') as load_f:\n",
    "        tmp=json.load(load_f)\n",
    "        category=pd.DataFrame(tmp)\n",
    "        category=category[col_cate]\n",
    "category=category.values\n",
    "category_dict={}\n",
    "for item in category:\n",
    "    category_dict[item[0]]=item[1]\n"
   ]
  },
  {
   "cell_type": "code",
   "execution_count": 11,
   "metadata": {},
   "outputs": [],
   "source": [
    "# np.save(\"plot_distance_data.npy\",data)"
   ]
  },
  {
   "cell_type": "code",
   "execution_count": 3,
   "metadata": {},
   "outputs": [],
   "source": [
    "data=np.load(\"../Figure10/data/plot_distance_data.npy\",allow_pickle=True)"
   ]
  },
  {
   "cell_type": "code",
   "execution_count": 4,
   "metadata": {},
   "outputs": [
    {
     "name": "stderr",
     "output_type": "stream",
     "text": [
      "100%|██████████| 4569296/4569296 [00:09<00:00, 464265.64it/s]"
     ]
    },
    {
     "name": "stdout",
     "output_type": "stream",
     "text": [
      "5\n",
      "0\n",
      "s-s:1041844\n",
      "s-o_s:355624\n",
      "s-d:448376\n",
      "s-u:134574\n",
      "s-all:1980418\n"
     ]
    },
    {
     "name": "stderr",
     "output_type": "stream",
     "text": [
      "\n"
     ]
    }
   ],
   "source": [
    "#starlink-starlink, starlink-other satellites, starlink-debris, starlink-all\n",
    "#根据类别分类\n",
    "def classification(data):\n",
    "    count=0\n",
    "    result={'s-s':[],'s-o_s':[],'s-d':[],'s-u':[],'s-all':[]}\n",
    "    for i in tqdm(range(len(data))) :\n",
    "        item=data[i]\n",
    "        id1,id2=item[4].split(\"-\")\n",
    "        id1=str(int(id1))\n",
    "        id2=str(int(id2))\n",
    "        try:\n",
    "            # [type1]=category[category[\"NORAD_CAT_ID\"]==id1][\"OBJECT_TYPE\"].values\n",
    "            # [type2]=category[category[\"NORAD_CAT_ID\"]==id2][\"OBJECT_TYPE\"].values\n",
    "            type1=category_dict[id1]\n",
    "            type2=category_dict[id2]\n",
    "        except:\n",
    "            count+=1\n",
    "            print(item)\n",
    "            continue\n",
    "        if item[2].startswith('STARLINK') and not item[2].endswith('(DARKSAT)'):\n",
    "            is_starlink1=True\n",
    "        else:\n",
    "            is_starlink1=False\n",
    "        if item[3].startswith('STARLINK') and not item[3].endswith('(DARKSAT)'):\n",
    "            is_starlink2=True\n",
    "        else:\n",
    "            is_starlink2=False\n",
    "        if is_starlink1 and is_starlink2:\n",
    "            result['s-s'].append(item[:2])\n",
    "            result['s-all'].append(item[:2])\n",
    "        elif is_starlink1:\n",
    "            if type2==\"PAYLOAD\":\n",
    "                result['s-o_s'].append(item[:2])\n",
    "            elif type2==\"DEBRIS\" or type2=='ROCKET BODY':\n",
    "                result['s-d'].append(item[:2])\n",
    "            elif type2=='UNKNOWN':\n",
    "                result['s-u'].append(item[:2])\n",
    "            result['s-all'].append(item[:2])\n",
    "        elif is_starlink2:\n",
    "            if type1==\"PAYLOAD\":\n",
    "                result['s-o_s'].append(item[:2])\n",
    "            elif type1==\"DEBRIS\" or type1=='ROCKET BODY':\n",
    "                result['s-d'].append(item[:2])\n",
    "            elif type1=='UNKNOWN':\n",
    "                result['s-u'].append(item[:2])\n",
    "            result['s-all'].append(item[:2])\n",
    "    print(len(result))\n",
    "    print(count)\n",
    "    for key,val in result.items():\n",
    "        print(key+\":\"+str(len(val)))\n",
    "    return result\n",
    "result=classification(data)"
   ]
  },
  {
   "cell_type": "code",
   "execution_count": 4,
   "metadata": {},
   "outputs": [
    {
     "name": "stdout",
     "output_type": "stream",
     "text": [
      "s-s\n",
      "1041780\n",
      "s-o_s\n",
      "355560\n",
      "s-d\n",
      "448312\n",
      "s-u\n",
      "134510\n",
      "others\n",
      "2588814\n"
     ]
    }
   ],
   "source": [
    "for k,v in result.items():\n",
    "    print(k)\n",
    "    print(len(v))"
   ]
  },
  {
   "cell_type": "code",
   "execution_count": 5,
   "metadata": {},
   "outputs": [
    {
     "name": "stdout",
     "output_type": "stream",
     "text": [
      "0\n",
      "1\n",
      "2\n",
      "3\n",
      "4\n"
     ]
    },
    {
     "data": {
      "text/plain": [
       "<matplotlib.legend.Legend at 0x7f0a13504a90>"
      ]
     },
     "execution_count": 5,
     "metadata": {},
     "output_type": "execute_result"
    },
    {
     "data": {
      "image/png": "[encoded data removed]",
      "text/plain": [
       "<Figure size 360x216 with 1 Axes>"
      ]
     },
     "metadata": {
      "needs_background": "light"
     },
     "output_type": "display_data"
    }
   ],
   "source": [
    "fig=plt.figure(1,(5,3))\n",
    "# plt.subplots_adjust(wspace =0.3, hspace =0.5)#调整子图间距\n",
    "# color=[\"#00A491\",\"#FFCD43\",\"#FF592D\"]\n",
    "color=[\"#00A491\",\"#8E55A5\",\"#F6C845\",\"#FF592D\",\"#278BB0\"]\n",
    "name=[\"Starlink-Starlink\", \"Starlink-Other SATs\", \"Starlink-Debris\",\"Starlink-Unknown\", \"Starlink-All\"]\n",
    "i=0\n",
    "for k,v_tmp in result.items():\n",
    "    v=[item[0] for item in v_tmp]\n",
    "    hist, bins = np.histogram(v, bins=1000)\n",
    "    logbins = np.logspace(np.log10(bins[0]),np.log10(bins[-1]),len(bins))\n",
    "    count, bins_count=np.histogram(v, bins=logbins,range=(0,1e-2))\n",
    "    pdf = count / sum(count)\n",
    "    print(i)\n",
    "    plt.plot(bins_count[1:], pdf,color=color[i],lw=2,label=name[i],alpha=0.9)\n",
    "    i=i+1\n",
    "plt.xscale(\"log\")\n",
    "plt.xlabel(\"Collision probability\", size=18)\n",
    "def to_percent(temp, position):\n",
    "    return '%0.01f'%(100*temp) + '%'\n",
    "plt.gca().yaxis.set_major_formatter(ticker.FuncFormatter(to_percent))\n",
    "plt.ylabel(\"PDF\",size=18)\n",
    "plt.xlim(1e-8,1e-1)\n",
    "plt.ylim(0,0.01)\n",
    "plt.yticks(size=12)\n",
    "plt.xticks(size=12)\n",
    "# plt.ylim(0,0.008)\n",
    "plt.legend(fontsize=14,title_fontsize=14)\n",
    "#plt.savefig('figure20a.pdf')"
   ]
  },
  {
   "cell_type": "code",
   "execution_count": 6,
   "metadata": {},
   "outputs": [],
   "source": [
    "total=[item[1]for item in result['s-all']]"
   ]
  },
  {
   "cell_type": "code",
   "execution_count": 20,
   "metadata": {},
   "outputs": [
    {
     "data": {
      "text/plain": [
       "<Figure size 360x216 with 0 Axes>"
      ]
     },
     "metadata": {},
     "output_type": "display_data"
    },
    {
     "data": {
      "image/png": "[encoded data removed]",
      "text/plain": [
       "<Figure size 360x194.4 with 1 Axes>"
      ]
     },
     "metadata": {
      "needs_background": "light"
     },
     "output_type": "display_data"
    }
   ],
   "source": [
    "#巨型星座造成的\n",
    "fig= plt.figure(1,(5,3))\n",
    "plt.rcParams[\"figure.figsize\"] = (5,2.7)\n",
    "d={}\n",
    "\n",
    "count_total, bins_count = np.histogram(total, bins=100,range=(0,2))\n",
    "name=[\"Starlink-Starlink\", \"Starlink-Other SATs\", \"Starlink-Debris\",\"Starlink-Unknown\", \"Starlink-All\"]\n",
    "i=0\n",
    "for key,item_tmp in result.items():\n",
    "    item=[item[1] for item in item_tmp]\n",
    "    count, bins_count = np.histogram(item, bins=100,range=(0,2))\n",
    "    pdf = count / sum(count_total)\n",
    "    d[name[i]]=pd.Series(pdf, index=bins_count[1:])\n",
    "    i=i+1\n",
    "#     print(count) data\n",
    "#     print(bins_count) index\n",
    "df1 = pd.DataFrame(d)\n",
    "#Greens_r\n",
    "#\"#00A491\",\"#FFCD43\",\"#FF592D\"\n",
    "#\"#37A78F\",\"#FFCD43\",\"#287FD5\"\n",
    "df1.plot.area(color=[\"#00A491\",\"#8E55A5\",\"#F6C845\",\"#FF592D\",\"#278BB0\"],alpha=1)\n",
    "plt.xlim(0,2)\n",
    "# plt.ylim(0,1)\n",
    "def to_percent(temp, position):\n",
    "    return '%0.01f'%(100*temp) + '%'\n",
    "plt.gca().yaxis.set_major_formatter(ticker.FuncFormatter(to_percent))\n",
    "plt.xlabel(\"Conjunction Distance (km)\",fontsize=18)\n",
    "plt.ylabel(\"PDF\",fontsize=18)\n",
    "plt.yticks(size=12)\n",
    "plt.xticks(size=12)\n",
    "plt.legend(fontsize=14,title_fontsize=14)\n",
    "#plt.savefig('figure20b.pdf')"
   ]
  },
  {
   "cell_type": "code",
   "execution_count": 8,
   "metadata": {},
   "outputs": [
    {
     "name": "stderr",
     "output_type": "stream",
     "text": [
      "100%|██████████| 4569296/4569296 [00:09<00:00, 507103.93it/s]\n"
     ]
    },
    {
     "name": "stdout",
     "output_type": "stream",
     "text": [
      "5\n",
      "0\n",
      "s-s:1041844\n",
      "s-o_s:355624\n",
      "s-d:448376\n",
      "s-u:134574\n",
      "others:2588878\n"
     ]
    }
   ],
   "source": [
    "#starlink-starlink, starlink-other satellites, starlink-debris, starlink-others,others\n",
    "#根据类别分类\n",
    "def classification_all(data):\n",
    "    count=0\n",
    "    result={'s-s':0,'s-o_s':0,'s-d':0,'s-u':0,'others':0}\n",
    "    for i in tqdm(range(len(data))) :\n",
    "        item=data[i]\n",
    "        id1,id2=item[4].split(\"-\")\n",
    "        id1=str(int(id1))\n",
    "        id2=str(int(id2))\n",
    "        try:\n",
    "            # [type1]=category[category[\"NORAD_CAT_ID\"]==id1][\"OBJECT_TYPE\"].values\n",
    "            # [type2]=category[category[\"NORAD_CAT_ID\"]==id2][\"OBJECT_TYPE\"].values\n",
    "            type1=category_dict[id1]\n",
    "            type2=category_dict[id2]\n",
    "        except:\n",
    "            count+=1\n",
    "            print(item)\n",
    "            continue\n",
    "        if item[2].startswith('STARLINK') and not item[2].endswith('(DARKSAT)'):\n",
    "            is_starlink1=True\n",
    "        else:\n",
    "            is_starlink1=False\n",
    "        if item[3].startswith('STARLINK') and not item[3].endswith('(DARKSAT)'):\n",
    "            is_starlink2=True\n",
    "        else:\n",
    "            is_starlink2=False\n",
    "        if is_starlink1 and is_starlink2:\n",
    "            result['s-s']+=1\n",
    "        elif is_starlink1:\n",
    "            if type2==\"PAYLOAD\":\n",
    "                result['s-o_s']+=1\n",
    "            elif type2==\"DEBRIS\" or type2=='ROCKET BODY':\n",
    "                result['s-d']+=1\n",
    "            else:\n",
    "                result['s-u']+=1\n",
    "        elif is_starlink2:\n",
    "            if type1==\"PAYLOAD\":\n",
    "                result['s-o_s']+=1\n",
    "            elif type1==\"DEBRIS\" or type1=='ROCKET BODY':\n",
    "                result['s-d']+=1\n",
    "            else:\n",
    "                result['s-u']+=1\n",
    "        else:\n",
    "            result['others']+=1\n",
    "            \n",
    "    print(len(result))\n",
    "    print(count)\n",
    "    for key,val in result.items():\n",
    "        print(key+\":\"+str(val))\n",
    "    return result\n",
    "proportion=classification_all(data)"
   ]
  },
  {
   "cell_type": "code",
   "execution_count": 22,
   "metadata": {},
   "outputs": [
    {
     "data": {
      "image/png": "[encoded data removed]",
      "text/plain": [
       "<Figure size 360x180 with 1 Axes>"
      ]
     },
     "metadata": {},
     "output_type": "display_data"
    }
   ],
   "source": [
    "colors=[\"#FF6942\",\"#FFD32E\",\"#AE8CCD\",\"#2FA4FF\",\"#01A19D\"]\n",
    "label=[\"Starlink-Starlink\", \"Starlink-Other SATs\", \"Starlink-Debris\", \"Starlink-Unknown\",\"Other events\"]\n",
    "fig=plt.figure(1,(5,2.5))\n",
    "plt.pie(proportion.values(),colors=colors,autopct=\"%0.1f%%\",wedgeprops = {'width':0.5,'edgecolor':'white', 'linewidth':2},startangle=0,pctdistance=1.3,textprops={'fontsize':14,'weight': 'normal'})\n",
    "plt.legend(label,loc='upper right', bbox_to_anchor=(2.15, 0.8),fontsize=13,handletextpad=0.2)\n",
    "# plt.tight_layout()\n",
    "plt.savefig('figure10a.pdf')"
   ]
  },
  {
   "cell_type": "code",
   "execution_count": 9,
   "metadata": {},
   "outputs": [],
   "source": [
    "def judge_type(item):\n",
    "    id1,id2=item[2].split(\"-\")\n",
    "    id1=str(int(id1))\n",
    "    id2=str(int(id2))\n",
    "    type1=category_dict[id1]\n",
    "    type2=category_dict[id2]\n",
    "    if item[0].startswith('STARLINK') and not item[0].endswith('(DARKSAT)'):\n",
    "        is_starlink1=True\n",
    "    else:\n",
    "        is_starlink1=False\n",
    "    if item[1].startswith('STARLINK') and not item[1].endswith('(DARKSAT)'):\n",
    "        is_starlink2=True\n",
    "    else:\n",
    "        is_starlink2=False\n",
    "    if is_starlink1 and is_starlink2:\n",
    "        return 's-s'\n",
    "    elif is_starlink1:\n",
    "        if type2==\"PAYLOAD\":\n",
    "            return 's-o_s'\n",
    "        elif type2==\"DEBRIS\"or type2=='ROCKET BODY':\n",
    "            return's-d'\n",
    "        else:\n",
    "            return 's-u'\n",
    "    elif is_starlink2:\n",
    "        if type1==\"PAYLOAD\":\n",
    "            return's-o_s'\n",
    "        elif type1==\"DEBRIS\"or type1=='ROCKET BODY':\n",
    "            return's-d'\n",
    "        else:\n",
    "            return's-u'\n",
    "    else:\n",
    "        return'others'\n",
    "        "
   ]
  },
  {
   "cell_type": "code",
   "execution_count": 10,
   "metadata": {},
   "outputs": [
    {
     "name": "stdout",
     "output_type": "stream",
     "text": [
      "2022-4-28 07:20:57\n"
     ]
    }
   ],
   "source": [
    "def standardize_time(str1):\n",
    "    str1=str1.split(' ')\n",
    "    if str1[1]=='Apr':\n",
    "        str1[1]='4'\n",
    "    elif str1[1]=='May':\n",
    "        str1[1]='5'\n",
    "    elif str1[1]=='Jun':\n",
    "        str1[1]='6'\n",
    "    return str1[0]+\"-\"+str1[1]+\"-\"+str1[2]+\" \"+str1[3][:-4]\n",
    "print(standardize_time('2022 Apr 28 07:20:57.500'))"
   ]
  },
  {
   "attachments": {},
   "cell_type": "markdown",
   "metadata": {},
   "source": [
    "## No need to run"
   ]
  },
  {
   "cell_type": "code",
   "execution_count": 25,
   "metadata": {},
   "outputs": [
    {
     "name": "stderr",
     "output_type": "stream",
     "text": [
      "100%|██████████| 64/64 [15:18<00:00, 15.31s/it]\n"
     ]
    }
   ],
   "source": [
    "inputdir='../../Dataset/raw_conjunction_data/'\n",
    "col=[\"NAME1\",\"NAME2\",\"ID\",\"TCA\"]\n",
    "result={'s-s':[],'s-o_s':[],'s-d':[],'s-u':[],'others':[]}\n",
    "for parents, dirnames, filenames in os.walk(inputdir):\n",
    "    for i in tqdm(range(len(filenames))):\n",
    "        filename=filenames[i]\n",
    "        df=pd.read_excel(os.path.join(parents,filename))\n",
    "        df=df[col].values\n",
    "        tmp_result={'s-s':[],'s-o_s':[],'s-d':[],'s-u':[],'others':[]}\n",
    "        for item in df:\n",
    "            tt=datetime.datetime.strptime(standardize_time(item[3]),\"%Y-%m-%d %H:%M:%S\")\n",
    "            tmp_result[judge_type(item[:3])].append(tt)\n",
    "        for k,v in tmp_result.items():\n",
    "            v=sorted(v)\n",
    "            for t in range(len(v)-1):\n",
    "                result[k].append(v[t+1]-v[t])\n",
    "np.save(\"frequency_conjunction.npy\",result)"
   ]
  },
  {
   "attachments": {},
   "cell_type": "markdown",
   "metadata": {},
   "source": [
    "## Start from this line"
   ]
  },
  {
   "cell_type": "code",
   "execution_count": 26,
   "metadata": {},
   "outputs": [
    {
     "name": "stdout",
     "output_type": "stream",
     "text": [
      "s-s\n",
      "8.283333333333333\n",
      "s-o_s\n",
      "0.4666666666666667\n",
      "s-d\n",
      "1.8666666666666667\n",
      "s-u\n",
      "14.933333333333334\n",
      "others\n",
      "0.03333333333333333\n"
     ]
    }
   ],
   "source": [
    "result=np.load(\"./data/frequency_conjunction.npy\",allow_pickle=True)\n",
    "result=result.item()\n",
    "for k,v in result.items():\n",
    "    print(k)\n",
    "    v=[item.total_seconds()/60 for item in v]\n",
    "    result[k]=v\n",
    "    print(v[0])"
   ]
  },
  {
   "cell_type": "code",
   "execution_count": 28,
   "metadata": {},
   "outputs": [],
   "source": [
    "# np.save('result.npy',result)"
   ]
  },
  {
   "cell_type": "code",
   "execution_count": 31,
   "metadata": {},
   "outputs": [],
   "source": [
    "result = np.load('./data/result.npy',allow_pickle=True).item()"
   ]
  },
  {
   "cell_type": "code",
   "execution_count": 32,
   "metadata": {},
   "outputs": [
    {
     "data": {
      "image/png": "[encoded data removed]",
      "text/plain": [
       "<Figure size 360x180 with 1 Axes>"
      ]
     },
     "metadata": {
      "needs_background": "light"
     },
     "output_type": "display_data"
    }
   ],
   "source": [
    "fig=plt.figure(1,(5,2.5))\n",
    "colors=[\"#FF6942\",\"#FFD32E\",\"#AE8CCD\",\"#2FA4FF\",\"#01A19D\"]\n",
    "ls=['--','-']\n",
    "label=[\"Starlink-Starlink\", \"Starlink-Other SATs\", \"Starlink-Debris\", \"Starlink-Unknown\",\"Other events\"]\n",
    "i=0\n",
    "for k,v_tmp in result.items():\n",
    "    if k=='others':\n",
    "        continue\n",
    "    hist, bins_range = np.histogram(v_tmp, bins=1000)\n",
    "    pdf = hist / sum(hist)\n",
    "    cdf=np.cumsum(pdf)\n",
    "    plt.plot(bins_range[1:], cdf,color=colors[i],lw=2,label=label[i],alpha=1)\n",
    "    i=i+1\n",
    "plt.xlabel(\"Occurrence interval (minute)\", size=18)\n",
    "plt.ylabel(\"CDF\",size=18)\n",
    "plt.xlim(left=0,right=20)\n",
    "plt.legend(fontsize=14,title_fontsize=14)\n",
    "plt.savefig('figure10b.pdf')"
   ]
  }
 ],
 "metadata": {
  "kernelspec": {
   "display_name": "base",
   "language": "python",
   "name": "python3"
  },
  "language_info": {
   "codemirror_mode": {
    "name": "ipython",
    "version": 3
   },
   "file_extension": ".py",
   "mimetype": "text/x-python",
   "name": "python",
   "nbconvert_exporter": "python",
   "pygments_lexer": "ipython3",
   "version": "3.7.3"
  },
  "vscode": {
   "interpreter": {
    "hash": "61a57a4b5406d2de388e2f91097d4e4bcd7d5f4a46f53a795aa28a02eed27fc5"
   }
  }
 },
 "nbformat": 4,
 "nbformat_minor": 4
}
