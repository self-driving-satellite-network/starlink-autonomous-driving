{
 "cells": [
  {
   "cell_type": "code",
   "execution_count": 1,
   "metadata": {},
   "outputs": [],
   "source": [
    "import os\n",
    "import scipy.io as scio\n",
    "import pandas as pd\n",
    "from datetime import datetime,timedelta\n",
    "import matplotlib.pyplot as plt\n",
    "import numpy as np\n",
    "import math\n",
    "from skyfield.api import EarthSatellite,load, wgs84\n",
    "from skyfield.elementslib import osculating_elements_of\n",
    "from pytz import timezone\n",
    "from matplotlib.colors import cnames\n",
    "from tqdm import tqdm\n",
    "from multiprocessing import Pool\n",
    "import statsmodels.api as sm\n",
    "from matplotlib.pyplot import MultipleLocator\n",
    "\n",
    "UTC = timezone('UTC')\n"
   ]
  },
  {
   "attachments": {},
   "cell_type": "markdown",
   "metadata": {},
   "source": [
    "## No need to run"
   ]
  },
  {
   "cell_type": "code",
   "execution_count": 2,
   "metadata": {},
   "outputs": [],
   "source": [
    "orbit=pd.read_csv('../data/starlink-1409.csv')\n",
    "starlinks=list(orbit['sat'])\n",
    "tlepath='../data/tle-data/all_by_id/'\n",
    "starttime=datetime.strptime(\"2022-4-1 0:0:0\",\"%Y-%m-%d %H:%M:%S\")\n",
    "endtime=datetime.strptime(\"2022-7-20 0:0:0\",\"%Y-%m-%d %H:%M:%S\")\n",
    "delta_time=(endtime-starttime).days*24*3600+(endtime-starttime).seconds\n",
    "times=[starttime+timedelta(seconds=i) for i in range(0,delta_time,3600)]\n",
    "satcat=pd.read_csv('../data/satcat/satcat.csv')"
   ]
  },
  {
   "cell_type": "code",
   "execution_count": 3,
   "metadata": {},
   "outputs": [],
   "source": [
    "def get_isl_length_list(data,satid,nabor):\n",
    "    isl=[]\n",
    "    position1=data[satid]['position']\n",
    "    position2=data[nabor]['position']\n",
    "    for i in range(len(position1)):\n",
    "        isl.append(math.sqrt((position1[i][0]-position2[i][0])**2+(position1[i][1]-position2[i][1])**2+(position1[i][2]-position2[i][2])**2))\n",
    "    return isl"
   ]
  },
  {
   "cell_type": "code",
   "execution_count": 3,
   "metadata": {},
   "outputs": [],
   "source": [
    "def get_isl_length_list(data,satid,nabor,t):\n",
    "    #isl=[]\n",
    "    position1=data[satid]['position']\n",
    "    position2=data[nabor]['position']\n",
    "    # for i in range(len(position1)):\n",
    "    #     isl.append(math.sqrt((position1[i][0]-position2[i][0])**2+(position1[i][1]-position2[i][1])**2+(position1[i][2]-position2[i][2])**2))\n",
    "    isl = math.sqrt((position1[t][0]-position2[t][0])**2+(position1[t][1]-position2[t][1])**2+(position1[t][2]-position2[t][2])**2)\n",
    "    return isl"
   ]
  },
  {
   "cell_type": "code",
   "execution_count": 4,
   "metadata": {},
   "outputs": [],
   "source": [
    "data_decay=np.load('../data/zhaow_decay_data.npy',allow_pickle=True).item()\n",
    "data_no_decay=np.load('../data/zhaow_update_data.npy',allow_pickle=True).item()\n",
    "orbit=pd.read_csv('../data/starlink-1409.csv')\n",
    "orbit_num=len(orbit['No.orbit'].unique())\n",
    "max_isl_length=5014\n",
    "# orbit"
   ]
  },
  {
   "cell_type": "code",
   "execution_count": 5,
   "metadata": {},
   "outputs": [],
   "source": [
    "# sat_1541=np.load('../data/sat_1541.npy')\n",
    "# sat_1541=sat_1541.astype('int64')\n",
    "sat_1541 = np.load('sat_dict_decay.npy',allow_pickle=True).item()\n",
    "sat_1541 = list(sat_1541.keys())\n",
    "#grid_topo=np.load('../data/topology_grid.npy')\n",
    "neigh_gp_decay = np.load('neigh_gp_1hour_decay_v3.npy',allow_pickle=True).item()\n",
    "neigh_gp_update = np.load('neigh_gp_1hour_update_v3.npy',allow_pickle=True).item()\n",
    "result_have_neigh_decay = np.load('result_have_neigh_decay.npy',allow_pickle=True).tolist()\n",
    "result_have_neigh_no_decay = np.load('result_have_neigh_update.npy',allow_pickle=True).tolist()\n",
    "# limitless_topo=np.load('../data/topology_limitless.npy')"
   ]
  },
  {
   "cell_type": "code",
   "execution_count": 6,
   "metadata": {},
   "outputs": [
    {
     "name": "stdout",
     "output_type": "stream",
     "text": [
      "0\n",
      "1000\n",
      "2000\n",
      "0\n",
      "1000\n",
      "2000\n"
     ]
    }
   ],
   "source": [
    "topology_decay = np.zeros((2640,len(sat_1541),len(sat_1541)),dtype = np.int)\n",
    "for flag in neigh_gp_decay.keys():\n",
    "    for t in range(2640):\n",
    "        if(t % 1000 == 0):print(t)\n",
    "        for key in neigh_gp_decay[flag][t].keys():\n",
    "            if(result_have_neigh_decay[t][sat_1541.index(key)][list(neigh_gp_decay.keys()).index(flag)] != -1):\n",
    "                neigh = neigh_gp_decay[flag][t][key][-1]\n",
    "                topology_decay[t][sat_1541.index(key)][sat_1541.index(neigh)] = 1\n",
    "                topology_decay[t][sat_1541.index(neigh)][sat_1541.index(key)] = 1"
   ]
  },
  {
   "cell_type": "code",
   "execution_count": 9,
   "metadata": {},
   "outputs": [
    {
     "data": {
      "text/plain": [
       "4"
      ]
     },
     "execution_count": 9,
     "metadata": {},
     "output_type": "execute_result"
    }
   ],
   "source": [
    "len(np.where(topology_decay[0][sat_1541.index(45184)] == 1)[0])"
   ]
  },
  {
   "cell_type": "code",
   "execution_count": 11,
   "metadata": {},
   "outputs": [],
   "source": [
    "for t in range(2640):\n",
    "    for i in range(len(topology_decay[t])):\n",
    "        if(len(np.where(topology_decay[0][sat_1541.index(key)] == 1)[0]) > 4):\n",
    "            print(t,sat_1541[i])"
   ]
  },
  {
   "cell_type": "code",
   "execution_count": 7,
   "metadata": {},
   "outputs": [
    {
     "name": "stdout",
     "output_type": "stream",
     "text": [
      "0\n",
      "1000\n",
      "2000\n",
      "0\n",
      "1000\n",
      "2000\n"
     ]
    }
   ],
   "source": [
    "topology_update = np.zeros((2640,len(sat_1541),len(sat_1541)),dtype = np.int)\n",
    "for flag in neigh_gp_update.keys():\n",
    "    for t in range(2640):\n",
    "        if(t % 1000 == 0):print(t)\n",
    "        for key in neigh_gp_update[flag][t].keys():\n",
    "            if(result_have_neigh_no_decay[t][sat_1541.index(key)][list(neigh_gp_update.keys()).index(flag)] != -1):\n",
    "                neigh = neigh_gp_update[flag][t][key][-1]\n",
    "                topology_update[t][sat_1541.index(key)][sat_1541.index(neigh)] = 1\n",
    "                topology_update[t][sat_1541.index(neigh)][sat_1541.index(key)] = 1"
   ]
  },
  {
   "cell_type": "code",
   "execution_count": 8,
   "metadata": {},
   "outputs": [],
   "source": [
    "for t in range(2640):\n",
    "    for i in range(len(topology_update[t])):\n",
    "        if(len(np.where(topology_update[0][sat_1541.index(key)] == 1)[0]) > 4):\n",
    "            print(t,sat_1541[i])"
   ]
  },
  {
   "cell_type": "code",
   "execution_count": 25,
   "metadata": {},
   "outputs": [
    {
     "data": {
      "text/plain": [
       "147"
      ]
     },
     "execution_count": 25,
     "metadata": {},
     "output_type": "execute_result"
    }
   ],
   "source": [
    "int(np.where(sat_1541==45184)[0])"
   ]
  },
  {
   "cell_type": "code",
   "execution_count": 16,
   "metadata": {},
   "outputs": [
    {
     "data": {
      "text/plain": [
       "45205"
      ]
     },
     "execution_count": 16,
     "metadata": {},
     "output_type": "execute_result"
    }
   ],
   "source": [
    "sat_1541[164]"
   ]
  },
  {
   "cell_type": "code",
   "execution_count": 30,
   "metadata": {},
   "outputs": [
    {
     "name": "stderr",
     "output_type": "stream",
     "text": [
      "generating isl data: 100%|██████████| 1409/1409 [3:18:26<00:00,  8.55s/it] \n"
     ]
    }
   ],
   "source": [
    "isl_data_decay={}\n",
    "isl_data_no_decay={}\n",
    "\n",
    "for satid in tqdm(orbit['sat'],desc=\"generating isl data\"):\n",
    "    #if(satid not in neigh_gp_update['inter'][0].keys()):continue\n",
    "    orbit_index=list(orbit[orbit['sat']==satid]['No.orbit'])[0]\n",
    "    # isl_data_decay[satid]={}\n",
    "    # isl_data_no_decay[satid]={}\n",
    "    isl_data_decay[satid]={'intra':[],'inter':[]}\n",
    "    isl_data_no_decay[satid]={'intra':[],'inter':[]}\n",
    "    for t in range(2640):\n",
    "    # isl_data_decay[satid]={'intra1':[],'intra2':[],'inter1':[],'inter2':[]}\n",
    "    # isl_data_no_decay[satid]={'intra1':[],'intra2':[],'inter1':[],'inter2':[]}\n",
    "    #sat_index=np.where(sat_1541==satid)\n",
    "        #sat_index = int(np.where(sat_1541==satid)[0])\n",
    "        #print(sat_index)\n",
    "        sat_index = sat_1541.index(satid)\n",
    "        nabor_index_decay=np.where(topology_decay[t][sat_index]==1)\n",
    "        #nabors=sat_1541[tuple(nabor_index)]\n",
    "        #print(nabor_index_decay)\n",
    "        nabor_index_decay= nabor_index_decay[0]\n",
    "        nabors_decay = []\n",
    "        for item in list(nabor_index_decay):\n",
    "            #print(item)\n",
    "            nabors_decay.append(sat_1541[item])\n",
    "        #print(nabors_decay)\n",
    "        flag_intra = 1\n",
    "        flag_inter = 1\n",
    "        for nabor in nabors_decay:\n",
    "            if list(orbit[orbit['sat']==nabor]['No.orbit'])[0]==orbit_index:\n",
    "                flag='intra'\n",
    "            else:\n",
    "                flag='inter'\n",
    "            # isl_length_list=get_isl_length_list(data_decay,satid,nabor,t)\n",
    "            # isl_data_decay[satid][flag].append(isl_length_list)\n",
    "            #print(flag)\n",
    "            isl_length_list=get_isl_length_list(data_decay,satid,nabor,t)\n",
    "            if((flag == 'intra') and flag_intra == 1):\n",
    "                isl_data_decay[satid][flag].append(isl_length_list)\n",
    "                flag_intra = 0\n",
    "            elif((flag == 'inter') and flag_inter == 1):\n",
    "                isl_data_decay[satid][flag].append(isl_length_list)\n",
    "                flag_inter = 0\n",
    "        #print(isl_data_decay)\n",
    "        #if(t == 1):break\n",
    "        nabor_index_no_decay=np.where(topology_update[t][sat_index]==1)\n",
    "        #nabors=sat_1541[tuple(nabor_index)]\n",
    "        #print(nabor_index_decay)\n",
    "        nabor_index_no_decay= nabor_index_no_decay[0]\n",
    "        nabors_no_decay = []\n",
    "        for item in list(nabor_index_no_decay):\n",
    "            #print(item)\n",
    "            nabors_no_decay.append(sat_1541[item])\n",
    "        #print('2',nabors_no_decay)\n",
    "        flag_intra = 1\n",
    "        flag_inter = 1\n",
    "        for nabor in nabors_no_decay:\n",
    "            if list(orbit[orbit['sat']==nabor]['No.orbit'])[0]==orbit_index:\n",
    "                flag='intra'\n",
    "            else:\n",
    "                flag='inter'\n",
    "            isl_length_list=get_isl_length_list(data_no_decay,satid,nabor,t)\n",
    "            if((flag == 'intra') and flag_intra == 1):\n",
    "                isl_data_no_decay[satid][flag].append(isl_length_list)\n",
    "                flag_intra = 0\n",
    "            elif((flag == 'inter') and flag_inter == 1):\n",
    "                isl_data_no_decay[satid][flag].append(isl_length_list)\n",
    "                flag_inter = 0\n",
    "        #print(isl_data_decay)\n",
    "    #if(satid == 45182):break\n",
    "    #sat_index=np.where(sat_1541==satid)\n",
    "    # sat_index = sat_1541.index(satid)\n",
    "    # nabor_index_no_decay=np.where(grid_topo[sat_index]==1)\n",
    "    # #nabors=sat_1541[tuple(nabor_index)]\n",
    "    # nabor_index_no_decay = nabor_index_no_decay[0]\n",
    "    # nabors_no_decay = []\n",
    "    # for item in nabor_index_no_decay:\n",
    "    #     nabors_no_decay.append(sat_1541[item])\n",
    "    # for nabor in nabors_no_decay:\n",
    "    #     if list(orbit[orbit['sat']==nabor]['No.orbit'])[0]==orbit_index:\n",
    "    #         flag='intra'\n",
    "    #     else:\n",
    "    #         flag='inter'\n",
    "    #     # isl_length_list=get_isl_length_list(data_no_decay,satid,nabor,t)\n",
    "    #     # isl_data_no_decay[satid][flag].append(isl_length_list)\n",
    "    #     isl_length_list=get_isl_length_list(data_decay,satid,nabor,t)\n",
    "    #     isl_data_decay[satid][nabor]=[flag,isl_length_list]\n",
    "    #     isl_length_list=get_isl_length_list(data_no_decay,satid,nabor,t)\n",
    "    #     isl_data_no_decay[satid][nabor]=[flag,isl_length_list]\n",
    "    # for t in range(2640):\n",
    "    #     intra_neigh_decay = list(neigh_gp_decay['intra'][t][satid])\n",
    "    #     #print(len(intra_neigh_decay))\n",
    "    #     for i in range(len(intra_neigh_decay)):\n",
    "    #         temp_neigh = intra_neigh_decay[i]\n",
    "    #         temp_key = 'intra%i'%(i + 1)\n",
    "    #         isl_data_decay[satid][temp_key].append(get_isl_length_list(data_decay,satid,temp_neigh,t))\n",
    "    #     inter_neigh_decay = list(neigh_gp_decay['inter'][t][satid])\n",
    "    #     for i in range(len(inter_neigh_decay)):\n",
    "    #         temp_neigh = inter_neigh_decay[i]\n",
    "    #         temp_key = 'inter%i'%(i + 1)\n",
    "    #         #print(satid,t)\n",
    "    #         isl_data_decay[satid][temp_key].append(get_isl_length_list(data_decay,satid,temp_neigh,t))\n",
    "    #     intra_neigh_update = list(neigh_gp_update['intra'][t][satid])\n",
    "    #     for i in range(len(intra_neigh_update)):\n",
    "    #         temp_neigh = intra_neigh_update[i]\n",
    "    #         temp_key = 'intra%i'%(i + 1)\n",
    "    #         isl_data_no_decay[satid][temp_key].append(get_isl_length_list(data_no_decay,satid,temp_neigh,t))\n",
    "    #     inter_neigh_update = list(neigh_gp_update['inter'][t][satid])\n",
    "    #     for i in range(len(inter_neigh_update)):\n",
    "    #         temp_neigh = inter_neigh_update[i]\n",
    "    #         temp_key = 'inter%i'%(i + 1)\n",
    "    #         isl_data_no_decay[satid][temp_key].append(get_isl_length_list(data_no_decay,satid,temp_neigh,t))"
   ]
  },
  {
   "cell_type": "code",
   "execution_count": null,
   "metadata": {},
   "outputs": [],
   "source": [
    "link_decay_0 = {'intra':{},'inter':{}}\n",
    "for i in range(len(topology_decay[0])):\n",
    "    orbit1 = list(orbit[orbit['sat']==sat_1541[i]]['No.orbit'])[0]\n",
    "    nabor_index_decay=np.where(topology_decay[t][i]==1)\n",
    "    nabor_index_decay= nabor_index_decay[0]\n",
    "    nabors_decay = []\n",
    "    for item in list(nabor_index_decay):\n",
    "        #print(item)\n",
    "        nabors_decay.append(item)\n",
    "    for nabor in nabors_decay:\n",
    "        orbit2 = list(orbit[orbit['sat']==sat_1541[nabor]]['No.orbit'])[0]\n",
    "        if(orbit1 == orbit2):flag = 'intra'\n",
    "        else:flag = 'inter'\n",
    "        if(i >= nabor):\n",
    "            temp_key = '%s-%s'%(i,nabor)\n",
    "        else:\n",
    "            temp_key = '%s-%s'%(nabor,i)\n",
    "        if(temp_key not in link_decay_0[flag]):\n",
    "            link_decay_0[flag][temp_key] = 1"
   ]
  },
  {
   "cell_type": "code",
   "execution_count": null,
   "metadata": {},
   "outputs": [],
   "source": [
    "for t in range(1,2640):\n",
    "    if(t % 1000 == 0):print(t)\n",
    "    for i in range(len(topology_decay[t])):\n",
    "        orbit1 = list(orbit[orbit['sat']==sat_1541[i]]['No.orbit'])[0]\n",
    "        nabor_index_decay=np.where(topology_decay[t][i]==1)\n",
    "        nabor_index_decay= nabor_index_decay[0]\n",
    "        nabors_decay = []\n",
    "        for item in list(nabor_index_decay):\n",
    "            #print(item)\n",
    "            nabors_decay.append(item)\n",
    "        for nabor in nabors_decay:\n",
    "            orbit2 = list(orbit[orbit['sat']==sat_1541[nabor]]['No.orbit'])[0]\n",
    "            if(orbit1 == orbit2):flag = 'intra'\n",
    "            else:flag = 'inter'\n",
    "            if(i >= nabor):\n",
    "                temp_key = '%s-%s'%(i,nabor)\n",
    "            else:\n",
    "                temp_key = '%s-%s'%(nabor,i)\n",
    "            if(temp_key in link_decay_0[flag]):\n",
    "                link_decay_0[flag][temp_key] += 1   "
   ]
  },
  {
   "cell_type": "code",
   "execution_count": null,
   "metadata": {},
   "outputs": [],
   "source": [
    "link_update_0 = {'intra':{},'inter':{}}\n",
    "for i in range(len(topology_update[0])):\n",
    "    orbit1 = list(orbit[orbit['sat']==sat_1541[i]]['No.orbit'])[0]\n",
    "    nabor_index_update=np.where(topology_update[t][i]==1)\n",
    "    nabor_index_update= nabor_index_update[0]\n",
    "    nabors_update = []\n",
    "    for item in list(nabor_index_update):\n",
    "        #print(item)\n",
    "        nabors_update.append(item)\n",
    "    for nabor in nabors_update:\n",
    "        orbit2 = list(orbit[orbit['sat']==sat_1541[nabor]]['No.orbit'])[0]\n",
    "        if(orbit1 == orbit2):flag = 'intra'\n",
    "        else:flag = 'inter'\n",
    "        if(i >= nabor):\n",
    "            temp_key = '%s-%s'%(i,nabor)\n",
    "        else:\n",
    "            temp_key = '%s-%s'%(nabor,i)\n",
    "        if(temp_key not in link_update_0[flag]):\n",
    "            link_update_0[flag][temp_key] = 1"
   ]
  },
  {
   "cell_type": "code",
   "execution_count": null,
   "metadata": {},
   "outputs": [],
   "source": [
    "for t in range(1,2640):\n",
    "    if(t % 1000 == 0):print(t)\n",
    "    for i in range(len(topology_update[t])):\n",
    "        orbit1 = list(orbit[orbit['sat']==sat_1541[i]]['No.orbit'])[0]\n",
    "        nabor_index_update=np.where(topology_update[t][i]==1)\n",
    "        nabor_index_update= nabor_index_update[0]\n",
    "        nabors_update = []\n",
    "        for item in list(nabor_index_update):\n",
    "            #print(item)\n",
    "            nabors_update.append(item)\n",
    "        for nabor in nabors_update:\n",
    "            orbit2 = list(orbit[orbit['sat']==sat_1541[nabor]]['No.orbit'])[0]\n",
    "            if(orbit1 == orbit2):flag = 'intra'\n",
    "            else:flag = 'inter'\n",
    "            if(i >= nabor):\n",
    "                temp_key = '%s-%s'%(i,nabor)\n",
    "            else:\n",
    "                temp_key = '%s-%s'%(nabor,i)\n",
    "            if(temp_key in link_update_0[flag]):\n",
    "                link_update_0[flag][temp_key] += 1   "
   ]
  },
  {
   "cell_type": "code",
   "execution_count": null,
   "metadata": {},
   "outputs": [],
   "source": [
    "np.save('link_decay_0.npy',link_decay_0)\n",
    "np.save('link_update_0.npy',link_update_0)"
   ]
  },
  {
   "cell_type": "code",
   "execution_count": 41,
   "metadata": {},
   "outputs": [],
   "source": [
    "np.save('isl_data_decay_v4.npy',isl_data_decay)"
   ]
  },
  {
   "attachments": {},
   "cell_type": "markdown",
   "metadata": {},
   "source": [
    "## Start from this line"
   ]
  },
  {
   "cell_type": "code",
   "execution_count": 2,
   "metadata": {},
   "outputs": [],
   "source": [
    "isl_data_decay = np.load('./data/isl_data_decay_v4.npy',allow_pickle=True).item()\n",
    "isl_data_no_decay = np.load('./data/isl_data_no_decay_v4.npy',allow_pickle=True).item()"
   ]
  },
  {
   "cell_type": "code",
   "execution_count": 3,
   "metadata": {},
   "outputs": [],
   "source": [
    "max_isl_length=5014"
   ]
  },
  {
   "cell_type": "code",
   "execution_count": 155,
   "metadata": {},
   "outputs": [],
   "source": [
    "# for key in isl_data_no_decay.keys():\n",
    "#     for key2 in isl_data_no_decay[key].keys():\n",
    "#         for i in range(len(isl_data_no_decay[key][key2])):\n",
    "#             item = isl_data_no_decay[key][key2][i]\n",
    "#             if(item > max_isl_length):print(key,key2,i)"
   ]
  },
  {
   "cell_type": "code",
   "execution_count": 4,
   "metadata": {},
   "outputs": [],
   "source": [
    "ratio_decay_intra=[]\n",
    "ratio_decay_inter=[]\n",
    "ratio_no_decay_intra=[]\n",
    "ratio_no_decay_inter=[]\n",
    "\n",
    "#延迟\n",
    "# delay_decay_intra=[0 for _ in range(len(isl_data_decay[48019][46146][1]))]\n",
    "# delay_decay_inter=[0 for _ in range(len(isl_data_decay[48019][46146][1]))]\n",
    "# delay_no_decay_intra=[0 for _ in range(len(isl_data_decay[48019][46146][1]))]\n",
    "# delay_no_decay_inter=[0 for _ in range(len(isl_data_decay[48019][46146][1]))]\n",
    "# #ISL数量,算平均延迟\n",
    "# isl_num_intra_decay=[0 for _ in range(len(isl_data_decay[48019][46146][1]))]\n",
    "# isl_num_inter_decay=[0 for _ in range(len(isl_data_decay[48019][46146][1]))]\n",
    "# isl_num_intra_no_decay=[0 for _ in range(len(isl_data_decay[48019][46146][1]))]\n",
    "# isl_num_inter_no_decay=[0 for _ in range(len(isl_data_decay[48019][46146][1]))]\n",
    "delay_decay_intra=[0 for _ in range(2640)]\n",
    "delay_decay_inter=[0 for _ in range(2640)]\n",
    "delay_no_decay_intra=[0 for _ in range(2640)]\n",
    "delay_no_decay_inter=[0 for _ in range(2640)]\n",
    "#ISL数量,算平均延迟\n",
    "isl_num_intra_decay=[0 for _ in range(2640)]\n",
    "isl_num_inter_decay=[0 for _ in range(2640)]\n",
    "isl_num_intra_no_decay=[0 for _ in range(2640)]\n",
    "isl_num_inter_no_decay=[0 for _ in range(2640)]\n",
    "for key in isl_data_decay.keys():\n",
    "    nabors_data=isl_data_decay[key]\n",
    "    nabors=list(nabors_data.keys())\n",
    "    for nabor in nabors:\n",
    "        #if isl_data_decay[key][nabor][0]=='intra':\n",
    "        if nabor.startswith('intra'):\n",
    "            #print(key,nabor)\n",
    "            #temp_length_data=isl_data_decay[key][nabor][1]\n",
    "            temp_length_data=isl_data_decay[key][nabor]\n",
    "            if(len(temp_length_data)==0):continue\n",
    "            temp_num=0\n",
    "            for i in range(0,len(temp_length_data)):\n",
    "                l=temp_length_data[i]\n",
    "                if l<max_isl_length:\n",
    "                    temp_num+=1 #单位为天\n",
    "                    delay_decay_intra[i]+=l\n",
    "                    isl_num_intra_decay[i]+=1\n",
    "                    \n",
    "            ratio_decay_intra.append(temp_num/len(temp_length_data))\n",
    "        else:\n",
    "            #print(key,nabor)\n",
    "            #temp_length_data=isl_data_decay[key][nabor][1]\n",
    "            temp_length_data=isl_data_decay[key][nabor]\n",
    "            if(len(temp_length_data)==0):continue\n",
    "            temp_num=0\n",
    "            for i in range(0,len(temp_length_data)):\n",
    "                l=temp_length_data[i]\n",
    "                if l<max_isl_length:\n",
    "                    temp_num+=1 #单位为天\n",
    "                    delay_decay_inter[i]+=l\n",
    "                    isl_num_inter_decay[i]+=1\n",
    "            ratio_decay_inter.append(temp_num/len(temp_length_data))\n",
    "\n",
    "\n",
    "for key in isl_data_no_decay.keys():\n",
    "    nabors_data=isl_data_no_decay[key]\n",
    "    nabors=list(nabors_data.keys())\n",
    "    for nabor in nabors:\n",
    "        #if isl_data_no_decay[key][nabor][0]=='intra':\n",
    "        if nabor.startswith('intra'):\n",
    "            #temp_length_data=isl_data_no_decay[key][nabor][1]\n",
    "            temp_length_data=isl_data_no_decay[key][nabor]\n",
    "            if(len(temp_length_data)==0):continue\n",
    "            temp_num=0\n",
    "            for i in range(0,len(temp_length_data)):\n",
    "                l=temp_length_data[i]\n",
    "                if l<max_isl_length:\n",
    "                    temp_num+=1 #单位为天\n",
    "                    delay_no_decay_intra[i]+=l\n",
    "                    isl_num_intra_no_decay[i]+=1\n",
    "            ratio_no_decay_intra.append(temp_num/len(temp_length_data))\n",
    "        else:\n",
    "            #temp_length_data=isl_data_no_decay[key][nabor][1]\n",
    "            temp_length_data=isl_data_no_decay[key][nabor]\n",
    "            if(len(temp_length_data)==0):continue\n",
    "            temp_num=0\n",
    "            for i in range(0,len(temp_length_data)):\n",
    "                l=temp_length_data[i]\n",
    "                if l<max_isl_length:\n",
    "                    temp_num+=1 #单位为天\n",
    "                    delay_no_decay_inter[i]+=l\n",
    "                    isl_num_inter_no_decay[i]+=1\n",
    "            ratio_no_decay_inter.append(temp_num/len(temp_length_data))\n",
    "\n",
    "        "
   ]
  },
  {
   "cell_type": "code",
   "execution_count": 5,
   "metadata": {},
   "outputs": [],
   "source": [
    "link_decay_0 = np.load('./data/link_decay_0.npy',allow_pickle=True).item()\n",
    "link_update_0 = np.load('./data/link_update_0.npy',allow_pickle=True).item()"
   ]
  },
  {
   "cell_type": "code",
   "execution_count": 6,
   "metadata": {},
   "outputs": [],
   "source": [
    "ratio_decay_intra=[]\n",
    "ratio_decay_inter=[]\n",
    "ratio_no_decay_intra=[]\n",
    "ratio_no_decay_inter=[]\n",
    "\n",
    "for item in link_decay_0['intra'].values():\n",
    "    tmp = math.ceil(item / 2) / 2640\n",
    "    ratio_decay_intra.append(tmp)\n",
    "for item in link_decay_0['inter'].values():\n",
    "    tmp = math.ceil(item / 2) / 2640\n",
    "    ratio_decay_inter.append(tmp)\n",
    "for item in link_update_0['intra'].values():\n",
    "    tmp = math.ceil(item / 2) / 2640\n",
    "    ratio_no_decay_intra.append(tmp)\n",
    "for item in link_update_0['inter'].values():\n",
    "    tmp = math.ceil(item / 2) / 2640\n",
    "    ratio_no_decay_inter.append(tmp)"
   ]
  },
  {
   "cell_type": "code",
   "execution_count": null,
   "metadata": {},
   "outputs": [],
   "source": [
    "# import copy\n",
    "# ratio_decay_temp = copy.deepcopy(topology_decay[0])\n",
    "# for t in range(1,2640):\n",
    "#     for key in topology_decay[t].keys():\n",
    "#         for key2 in topology_decay[t][key].keys():\n",
    "#             if((ratio_decay_temp[key][key2] == 1) and )\n"
   ]
  },
  {
   "cell_type": "code",
   "execution_count": 7,
   "metadata": {},
   "outputs": [
    {
     "data": {
      "image/png": "[encoded data removed]",
      "text/plain": [
       "<Figure size 864x288 with 2 Axes>"
      ]
     },
     "metadata": {
      "needs_background": "light"
     },
     "output_type": "display_data"
    }
   ],
   "source": [
    "fig = plt.figure(figsize=(12,4))\n",
    "axes = fig.subplots(nrows=1, ncols=2)\n",
    "ax= fig.axes\n",
    "#c=['#264653', '#2a9d8f', '#e9c46a', '#f4a261', '#e76f51',\"#3F72AF\",\"#112D4E\"]\n",
    "c = [\"#00A491\",\"#FF592D\",\"#FFCD43\",\"#3787C0\"]\n",
    "\n",
    "fs=23\n",
    "\n",
    "ax[0].plot([delay_decay_intra[i]/isl_num_intra_decay[i]/300 for i in range(len(delay_decay_intra))],label='Intra orbit ISL w/o maintenance',lw=4,c=c[2],linestyle='--')\n",
    "ax[0].plot([delay_decay_inter[i]/isl_num_inter_decay[i]/300 for i in range(len(delay_decay_intra))],label='Inter orbit ISL w/o maintenance',lw=4,c=c[0])\n",
    "ax[0].plot([delay_no_decay_intra[i]/isl_num_intra_no_decay[i]/300 for i in range(len(delay_decay_intra))],label='Intra orbit ISL w/ maintenance',lw=4,c=c[3],linestyle='--')\n",
    "ax[0].plot([delay_no_decay_inter[i]/isl_num_inter_no_decay[i]/300 for i in range(len(delay_decay_intra))],label='Inter orbit ISL w/ maintenance',lw=4,c=c[1])\n",
    "\n",
    "\n",
    "ax[0].set_xlabel(\"Time\",fontsize=fs)\n",
    "ax[0].set_ylabel(\"Average delay (ms)\",fontsize=fs)\n",
    "ax[0].set_ylim(5,9)\n",
    "ax[0].set_xlim(0,len(isl_num_intra_decay))\n",
    "# ax[0].set_xticks(range(0,2640,15*24))\n",
    "# ax[0].set_xticklabels(['4-1','4-15','5-1','5-15','6-1','6-15','7-1','7-15'],fontsize=fs )\n",
    "ax[0].set_xticks(range(0,2640,30*24))\n",
    "ax[0].set_xticklabels(['4-1','5-1','6-1','7-1'],fontsize=fs )\n",
    "ax[0].tick_params(axis='y', labelsize=fs )\n",
    "\n",
    "\n",
    "\n",
    "# plt.tight_layout()\n",
    "# plt.savefig('latency-decay.pdf')\n",
    "\n",
    "x=[[] for _ in range(4)]\n",
    "y=[[] for _ in range(4)]\n",
    "ecdf=[0 for _ in range(4)]\n",
    "labels=['Intra orbit ISL w/o maintenance','Inter orbit ISL w/o maintenance','Intra orbit ISL w/ maintenance','Inter orbit ISL w/ maintenance']\n",
    "datalist=[ratio_decay_intra,ratio_decay_inter,ratio_no_decay_intra,ratio_no_decay_inter]\n",
    "for i in range(4):\n",
    "    \n",
    "    ecdf[i] = sm.distributions.ECDF(datalist[i])\n",
    "    x[i] = np.linspace(min(datalist[i]), max(datalist[i]), len(datalist[i]))\n",
    "    y[i] = ecdf[i](x[i])\n",
    "\n",
    "\n",
    "ax[1].set_ylim(0, 1)\n",
    "ax[1].set_xlim(0, 1)\n",
    "\n",
    "ax[1].plot(x[0], y[0],linewidth=3, label=labels[0],c=c[2],linestyle='--')\n",
    "ax[1].plot(x[1], y[1],linewidth=3, label=labels[1],c=c[0])\n",
    "ax[1].plot(x[2], y[2],linewidth=3, label=labels[2],c=c[3],linestyle='--')\n",
    "ax[1].plot(x[3], y[3],linewidth=3, label=labels[3],c=c[1])\n",
    "    \n",
    "ax[1].set_xlabel(\"Link availability ratio \",fontsize=fs)\n",
    "ax[1].set_ylabel(\"CDF\",fontsize=fs)\n",
    "ax[1].set_yticks([0.0,0.2,0.4,0.6,0.8,1.0])\n",
    "ax[1].set_yticklabels([0.0,0.2,0.4,0.6,0.8,1.0],fontsize=fs )\n",
    "ax[1].set_xticks([0.0,0.2,0.4,0.6,0.8,1.0])\n",
    "ax[1].set_xticklabels([0.0,0.2,0.4,0.6,0.8,1.0],fontsize=fs )\n",
    "# ax[1].tick_params(axis='x', labelsize=fs )\n",
    "# ax[1].tick_params(axis='y', labelsize=fs )\n",
    "\n",
    "\n",
    "\n",
    "\n",
    "\n",
    "lines, labels = fig.axes[-1].get_legend_handles_labels()\n",
    "    \n",
    "fig.legend(lines, labels,ncol=2,fontsize=fs-1,bbox_to_anchor=(1,1.25))\n",
    "plt.tight_layout()\n",
    "plt.subplots_adjust(wspace=0.25)\n",
    "plt.savefig('figure16.pdf',bbox_inches='tight')\n",
    "plt.show()"
   ]
  },
  {
   "cell_type": "code",
   "execution_count": null,
   "metadata": {},
   "outputs": [],
   "source": []
  }
 ],
 "metadata": {
  "kernelspec": {
   "display_name": "Python 3",
   "language": "python",
   "name": "python3"
  },
  "language_info": {
   "codemirror_mode": {
    "name": "ipython",
    "version": 3
   },
   "file_extension": ".py",
   "mimetype": "text/x-python",
   "name": "python",
   "nbconvert_exporter": "python",
   "pygments_lexer": "ipython3",
   "version": "3.9.7"
  },
  "orig_nbformat": 4,
  "vscode": {
   "interpreter": {
    "hash": "81794d4967e6c3204c66dcd87b604927b115b27c00565d3d43f05ba2f3a2cb0d"
   }
  }
 },
 "nbformat": 4,
 "nbformat_minor": 2
}
