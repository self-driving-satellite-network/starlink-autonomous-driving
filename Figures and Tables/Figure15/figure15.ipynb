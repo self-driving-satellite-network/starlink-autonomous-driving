{
 "cells": [
  {
   "cell_type": "code",
   "execution_count": 1,
   "metadata": {},
   "outputs": [],
   "source": [
    "import os\n",
    "import scipy.io as scio\n",
    "import pandas as pd\n",
    "from datetime import datetime,timedelta\n",
    "import matplotlib.pyplot as plt\n",
    "import numpy as np\n",
    "import math\n",
    "from skyfield.api import EarthSatellite,load, wgs84\n",
    "from skyfield.elementslib import osculating_elements_of\n",
    "from pytz import timezone\n",
    "from matplotlib.colors import cnames\n",
    "from tqdm import tqdm\n",
    "from multiprocessing import Pool\n",
    "import statsmodels.api as sm\n",
    "from matplotlib.pyplot import MultipleLocator\n",
    "\n",
    "UTC = timezone('UTC')\n"
   ]
  },
  {
   "attachments": {},
   "cell_type": "markdown",
   "metadata": {},
   "source": [
    "### No need to run"
   ]
  },
  {
   "cell_type": "code",
   "execution_count": 8,
   "metadata": {},
   "outputs": [],
   "source": [
    "starttime=datetime.strptime(\"2022-4-1 0:0:0\",\"%Y-%m-%d %H:%M:%S\")\n",
    "endtime=datetime.strptime(\"2022-7-20 0:0:0\",\"%Y-%m-%d %H:%M:%S\")\n",
    "delta_time=(endtime-starttime).days*24*3600+(endtime-starttime).seconds\n",
    "times=[starttime+timedelta(seconds=i) for i in range(0,delta_time,3600)]\n",
    "# data_decay=np.load('./data/position_height_lat_long_41_719_decay_1409.npy',allow_pickle=True).item()\n",
    "# data_no_decay=np.load('./data/position_height_lat_long_41_719_based_on_updated_tle_1409.npy',allow_pickle=True).item()\n",
    "# orbit=pd.read_csv('./data/starlink-1409.csv')\n",
    "max_isl_length=5014"
   ]
  },
  {
   "cell_type": "code",
   "execution_count": 3,
   "metadata": {},
   "outputs": [],
   "source": [
    "def get_isl_length_list(data,satid,nabor):\n",
    "    isl=[]\n",
    "    position1=data[satid]['position']\n",
    "    position2=data[nabor]['position']\n",
    "    for i in range(len(position1)):\n",
    "        isl.append(math.sqrt((position1[i][0]-position2[i][0])**2+(position1[i][1]-position2[i][1])**2+(position1[i][2]-position2[i][2])**2))\n",
    "    return isl"
   ]
  },
  {
   "cell_type": "code",
   "execution_count": 4,
   "metadata": {},
   "outputs": [
    {
     "name": "stderr",
     "output_type": "stream",
     "text": [
      "generating isl data: 100%|██████████| 1409/1409 [01:04<00:00, 21.82it/s]\n"
     ]
    }
   ],
   "source": [
    "sat_1541=np.load('./data/sat_1541.npy')\n",
    "sat_1541=sat_1541.astype('int64')\n",
    "grid_topo=np.load('./data/topology_grid.npy')\n",
    "\n",
    "isl_data_decay={}\n",
    "isl_data_no_decay={}\n",
    "\n",
    "for satid in tqdm(orbit['sat'],desc=\"generating isl data\"):\n",
    "    orbit_index=list(orbit[orbit['sat']==satid]['No.orbit'])[0]\n",
    "    isl_data_decay[satid]={}\n",
    "    isl_data_no_decay[satid]={}\n",
    "    sat_index=np.where(sat_1541==satid)\n",
    "    nabor_index=np.where(grid_topo[sat_index][0]==1)\n",
    "    nabors=sat_1541[tuple(nabor_index)]\n",
    "    for nabor in nabors:\n",
    "        if list(orbit[orbit['sat']==nabor]['No.orbit'])[0]==orbit_index:\n",
    "            flag='intra'\n",
    "        else:\n",
    "            flag='inter'\n",
    "        isl_length_list=get_isl_length_list(data_decay,satid,nabor)\n",
    "        isl_data_decay[satid][nabor]=[flag,isl_length_list]\n",
    "        isl_length_list=get_isl_length_list(data_no_decay,satid,nabor)\n",
    "        isl_data_no_decay[satid][nabor]=[flag,isl_length_list]"
   ]
  },
  {
   "attachments": {},
   "cell_type": "markdown",
   "metadata": {},
   "source": [
    "### Start from this line"
   ]
  },
  {
   "cell_type": "code",
   "execution_count": 9,
   "metadata": {},
   "outputs": [],
   "source": [
    "starttime=datetime.strptime(\"2022-4-1 0:0:0\",\"%Y-%m-%d %H:%M:%S\")\n",
    "endtime=datetime.strptime(\"2022-7-20 0:0:0\",\"%Y-%m-%d %H:%M:%S\")\n",
    "delta_time=(endtime-starttime).days*24*3600+(endtime-starttime).seconds\n",
    "times=[starttime+timedelta(seconds=i) for i in range(0,delta_time,3600)]\n",
    "isl_data_decay = np.load('./data/isl_data_decay.npy',allow_pickle=True).item()\n",
    "isl_data_no_decay = np.load('./data/isl_data_no_decay.npy',allow_pickle=True).item()\n",
    "max_isl_length=5014"
   ]
  },
  {
   "cell_type": "code",
   "execution_count": 10,
   "metadata": {},
   "outputs": [
    {
     "name": "stderr",
     "output_type": "stream",
     "text": [
      "  0%|          | 0/1 [00:00<?, ?it/s]/root/anaconda3/lib/python3.7/site-packages/pandas/plotting/_converter.py:129: FutureWarning: Using an implicitly registered datetime converter for a matplotlib plotting method. The converter was registered by pandas on import. Future versions of pandas will require you to explicitly register matplotlib converters.\n",
      "\n",
      "To register the converters:\n",
      "\t>>> from pandas.plotting import register_matplotlib_converters\n",
      "\t>>> register_matplotlib_converters()\n",
      "  warnings.warn(msg, FutureWarning)\n",
      "100%|██████████| 1/1 [00:00<00:00,  1.42it/s]\n"
     ]
    },
    {
     "data": {
      "image/png": "[encoded data removed]",
      "text/plain": [
       "<Figure size 432x288 with 1 Axes>"
      ]
     },
     "metadata": {
      "needs_background": "light"
     },
     "output_type": "display_data"
    }
   ],
   "source": [
    "# V2版本数据第一项是inter/intra区分轨內轨间,如需跑v1数据,改v1版本代码\n",
    "for sat in tqdm(list(isl_data_no_decay.keys())[1:2]):\n",
    "    c=['#264653', '#2a9d8f', '#e9c46a', '#f4a261', '#e76f51']\n",
    "    \n",
    "    plt.subplots(figsize=(6, 4))\n",
    "    label_flag_intra=1\n",
    "    label_flag_inter=2\n",
    "    plt.plot(times,[max_isl_length/1000 for _ in range(len(times))],label='Maximum ISL length',lw=3,c=c[4],linestyle=':')\n",
    "    for nabor in isl_data_decay[sat].keys():\n",
    "        if isl_data_decay[sat][nabor][0]=='intra':\n",
    "            if label_flag_intra==1:\n",
    "                plt.plot(times,[i/1000 for i in isl_data_decay[sat][nabor][1]] ,label='Intra orbit neighbour',lw=3,c=c[0],linestyle='--')\n",
    "                label_flag_intra=0\n",
    "            else:\n",
    "                plt.plot(times,[i/1000 for i in isl_data_decay[sat][nabor][1]],c=c[0],lw=3,linestyle='--')\n",
    "        else:\n",
    "            if label_flag_inter==2:\n",
    "                plt.plot(times,[i/1000 for i in isl_data_decay[sat][nabor][1]] ,label='Inter orbit neighbour',lw=3,c=c[3])\n",
    "                label_flag_inter=0\n",
    "            else:\n",
    "                plt.plot(times,[i/1000 for i in isl_data_decay[sat][nabor][1]],c=c[3],lw=3)\n",
    "    plt.ylabel('ISL length ($10^3$ km)',fontsize=16)\n",
    "    plt.ylim(0,14)\n",
    "    # plt.ylim(2000,6000)\n",
    "    plt.xlim(starttime,endtime)\n",
    "    plt.legend(loc='upper left',fontsize=15)\n",
    "    plt.xticks([starttime,starttime+timedelta(days=15),starttime+timedelta(days=30),starttime+timedelta(days=45),starttime+timedelta(days=60),starttime+timedelta(days=75),starttime+timedelta(days=91),starttime+timedelta(days=106)],['4-1','4-15','5-1','5-15','6-1','6-15','7-1','7-15'],fontsize=16)\n",
    "    plt.yticks(fontsize=16)\n",
    "    plt.xlabel(\"Time\",fontsize=16)\n",
    "    plt.tight_layout()    \n",
    "    plt.savefig('./figure15a.pdf')\n",
    "    plt.close()\n",
    "    \n",
    "    \n",
    "    plt.subplots(figsize=(6, 4))\n",
    "    label_flag_intra=1\n",
    "    label_flag_inter=2\n",
    "    plt.plot(times,[max_isl_length/1000 for _ in range(len(times))],label='Maximum ISL length',lw=3,c=c[4],linestyle=':')\n",
    "    for nabor in isl_data_no_decay[sat].keys():\n",
    "        if isl_data_no_decay[sat][nabor][0]=='intra':\n",
    "            if label_flag_intra==1:\n",
    "                plt.plot(times,[i/1000 for i in isl_data_no_decay[sat][nabor][1]] ,label='Intra orbit neighbour',lw=3,c=c[0],linestyle='--')\n",
    "                label_flag_intra=0\n",
    "            else:\n",
    "                plt.plot(times,[i/1000 for i in isl_data_no_decay[sat][nabor][1]],c=c[0],lw=3,linestyle='--')\n",
    "        else:\n",
    "            if label_flag_inter==2:\n",
    "                plt.plot(times,[i/1000 for i in isl_data_no_decay[sat][nabor][1]] ,label='Inter orbit neighbour',lw=3,c=c[3])\n",
    "                label_flag_inter=0\n",
    "            else:\n",
    "                plt.plot(times,[i/1000 for i in isl_data_no_decay[sat][nabor][1]],c=c[3],lw=3)\n",
    "    plt.ylabel('ISL length ($10^3$ km)',fontsize=16)\n",
    "    plt.ylim(0,14)\n",
    "    # plt.ylim(2000,6000)\n",
    "    plt.xlim(starttime,endtime)\n",
    "    plt.legend(loc='upper left',fontsize=15)\n",
    "    plt.xticks([starttime,starttime+timedelta(days=15),starttime+timedelta(days=30),starttime+timedelta(days=45),starttime+timedelta(days=60),starttime+timedelta(days=75),starttime+timedelta(days=91),starttime+timedelta(days=106)],['4-1','4-15','5-1','5-15','6-1','6-15','7-1','7-15'],fontsize=16)\n",
    "    plt.yticks(fontsize=16)\n",
    "    plt.xlabel(\"Time\",fontsize=16)\n",
    "    plt.tight_layout()    \n",
    "    plt.savefig('./figure15b.pdf')\n",
    "\n",
    "    \n"
   ]
  },
  {
   "cell_type": "code",
   "execution_count": null,
   "metadata": {},
   "outputs": [],
   "source": []
  }
 ],
 "metadata": {
  "kernelspec": {
   "display_name": "base",
   "language": "python",
   "name": "python3"
  },
  "language_info": {
   "codemirror_mode": {
    "name": "ipython",
    "version": 3
   },
   "file_extension": ".py",
   "mimetype": "text/x-python",
   "name": "python",
   "nbconvert_exporter": "python",
   "pygments_lexer": "ipython3",
   "version": "3.7.3"
  },
  "orig_nbformat": 4,
  "vscode": {
   "interpreter": {
    "hash": "61a57a4b5406d2de388e2f91097d4e4bcd7d5f4a46f53a795aa28a02eed27fc5"
   }
  }
 },
 "nbformat": 4,
 "nbformat_minor": 2
}
